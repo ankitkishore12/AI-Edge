{
  "nbformat": 4,
  "nbformat_minor": 0,
  "metadata": {
    "colab": {
      "provenance": []
    },
    "kernelspec": {
      "name": "python3",
      "display_name": "Python 3"
    },
    "language_info": {
      "name": "python"
    }
  },
  "cells": [
    {
      "cell_type": "markdown",
      "source": [
        "***Reference: https://github.com/pytorch/pytorch/wiki/torch_quantization_design_proposal***"
      ],
      "metadata": {
        "id": "ZxyEk9bdiRCJ"
      }
    },
    {
      "cell_type": "markdown",
      "source": [
        "# ***Step-1: Setup & Import Libraries***"
      ],
      "metadata": {
        "id": "MhqSuAXnhnPJ"
      }
    },
    {
      "cell_type": "code",
      "source": [
        "import torch\n",
        "import torch.quantization\n",
        "import torch.nn as nn\n",
        "import copy\n",
        "import os\n",
        "import time"
      ],
      "metadata": {
        "id": "-vbg1z3ohjaT"
      },
      "execution_count": null,
      "outputs": []
    },
    {
      "cell_type": "markdown",
      "source": [
        "# ***Step-2: Float Tensor Representation from Netron***\n"
      ],
      "metadata": {
        "id": "3gZhn0jnh-9t"
      }
    },
    {
      "cell_type": "code",
      "source": [
        "# Here we can put tensors from any trained model (By using NETRON software)\n",
        "\n",
        "x = torch.tensor([[ 0.8237,  0.5781,  0.6879],\n",
        "        [ 0.3816,  0.7249,  0.0998]])\n",
        "\n",
        "torch.save(x,'float_tensor.pt')\n",
        "print('Float tensor (bytes)',os.path.getsize('float_tensor.pt'))\n"
      ],
      "metadata": {
        "colab": {
          "base_uri": "https://localhost:8080/"
        },
        "id": "TFe0udSziN5f",
        "outputId": "87753c2b-57b5-4039-9959-ee5cabc6b747"
      },
      "execution_count": null,
      "outputs": [
        {
          "output_type": "stream",
          "name": "stdout",
          "text": [
            "Float tensor (bytes) 747\n"
          ]
        }
      ]
    },
    {
      "cell_type": "markdown",
      "source": [
        "***--Maximum Value and minimum value of x***"
      ],
      "metadata": {
        "id": "poGNOT9Rjmgk"
      }
    },
    {
      "cell_type": "code",
      "source": [
        "b = torch.max(x)\n",
        "print(b)"
      ],
      "metadata": {
        "id": "oDe-FmfWAG8K",
        "colab": {
          "base_uri": "https://localhost:8080/"
        },
        "outputId": "a98babaf-9b16-4a65-d737-1e5d7a0189ad"
      },
      "execution_count": null,
      "outputs": [
        {
          "output_type": "stream",
          "name": "stdout",
          "text": [
            "tensor(0.8237)\n"
          ]
        }
      ]
    },
    {
      "cell_type": "code",
      "source": [
        "a = torch.min(x)\n",
        "print(a)"
      ],
      "metadata": {
        "id": "41Ehh8ftj3KF",
        "colab": {
          "base_uri": "https://localhost:8080/"
        },
        "outputId": "8711fc8b-c178-4d94-8283-43b92309f710"
      },
      "execution_count": null,
      "outputs": [
        {
          "output_type": "stream",
          "name": "stdout",
          "text": [
            "tensor(0.0998)\n"
          ]
        }
      ]
    },
    {
      "cell_type": "code",
      "source": [
        "# scale value\n",
        "\n",
        "scale = (b-a)/255\n",
        "\n",
        "print(scale)"
      ],
      "metadata": {
        "colab": {
          "base_uri": "https://localhost:8080/"
        },
        "id": "LEfqrb4RVg4d",
        "outputId": "897eaea5-4ef3-458f-e2bd-489cf4be7f97"
      },
      "execution_count": null,
      "outputs": [
        {
          "output_type": "stream",
          "name": "stdout",
          "text": [
            "tensor(0.0028)\n"
          ]
        }
      ]
    },
    {
      "cell_type": "code",
      "source": [
        "# zero point\n",
        "\n",
        "zero_point = torch.round(-a*255/(b-a))\n",
        "\n",
        "print(zero_point)"
      ],
      "metadata": {
        "colab": {
          "base_uri": "https://localhost:8080/"
        },
        "id": "LK8rTzkkV0pK",
        "outputId": "e07ed99f-4f41-4163-f7f0-5c2b65eb07b0"
      },
      "execution_count": null,
      "outputs": [
        {
          "output_type": "stream",
          "name": "stdout",
          "text": [
            "tensor(-35.)\n"
          ]
        }
      ]
    },
    {
      "cell_type": "markdown",
      "source": [
        "# ***Step-3: Apply Quantization per tensor (Affine mapping)***"
      ],
      "metadata": {
        "id": "_encv1UokFMv"
      }
    },
    {
      "cell_type": "markdown",
      "source": [
        "***I. QScheme (torch.qscheme):*** a enum that specifies the way we quantize the Tensor--\n",
        "  ***(a)*** torch.per_tensor_affine\n",
        "  ***(b)*** torch.per_tensor_symmetric\n",
        "  ***(c)*** torch.per_channel_affine\n",
        "  ***(d)*** torch.per_channel_symmetric\n",
        "\n",
        "***Reference:*** https://pytorch.org/docs/stable/quantization.html#:~:text=PyTorch%20supports%20both%20per%20tensor,with%20the%20same%20quantization%20parameters."
      ],
      "metadata": {
        "id": "CEbbc8Cdt99e"
      }
    },
    {
      "cell_type": "code",
      "source": [
        "# Datatypes supported for quantized tensor\n",
        "# dtype (torch.dtype): data type of the quantized Tensor\n",
        "# torch.quint8\n",
        "# torch.qint8\n",
        "# torch.qint32\n",
        "# torch.float16\n",
        "\n",
        "xq = torch.quantize_per_tensor(x, scale = 0.001, zero_point =4, dtype=torch.quint8)\n",
        "print(xq)\n",
        "torch.save(xq,'qtz_tensor.pt')\n",
        "print('Quantized tensor (bytes)',os.path.getsize('qtz_tensor.pt'))\n",
        "print(xq.int_repr())\n",
        "print(xq.dtype)"
      ],
      "metadata": {
        "colab": {
          "base_uri": "https://localhost:8080/"
        },
        "outputId": "3ace7fc7-6657-4dc7-cfb0-842a7a24aed7",
        "id": "bi_n0BD_kZsQ"
      },
      "execution_count": null,
      "outputs": [
        {
          "output_type": "stream",
          "name": "stdout",
          "text": [
            "tensor([[0.2510, 0.2510, 0.2510],\n",
            "        [0.2510, 0.2510, 0.1000]], size=(2, 3), dtype=torch.quint8,\n",
            "       quantization_scheme=torch.per_tensor_affine, scale=0.001, zero_point=4)\n",
            "Quantized tensor (bytes) 811\n",
            "tensor([[255, 255, 255],\n",
            "        [255, 255, 104]], dtype=torch.uint8)\n",
            "torch.quint8\n"
          ]
        }
      ]
    },
    {
      "cell_type": "markdown",
      "source": [
        "# ***Step-4: Apply Dequantization***"
      ],
      "metadata": {
        "id": "KuHv1EKNkzOk"
      }
    },
    {
      "cell_type": "code",
      "source": [
        "xdq = xq.dequantize()\n",
        "print(xdq)\n",
        "print(xdq.dtype)"
      ],
      "metadata": {
        "colab": {
          "base_uri": "https://localhost:8080/"
        },
        "id": "el--6GpYk6T2",
        "outputId": "b718b2b9-d7dc-43db-93ab-b4f2f8dba1b7"
      },
      "execution_count": null,
      "outputs": [
        {
          "output_type": "stream",
          "name": "stdout",
          "text": [
            "tensor([[0.2510, 0.2510, 0.2510],\n",
            "        [0.2510, 0.2510, 0.1000]])\n",
            "torch.float32\n"
          ]
        }
      ]
    },
    {
      "cell_type": "markdown",
      "source": [
        "# ***Step-5: MAE/MSE loss between x and xdq***"
      ],
      "metadata": {
        "id": "0N4lgQSOlCMB"
      }
    },
    {
      "cell_type": "markdown",
      "source": [
        "***I. MAE loss***"
      ],
      "metadata": {
        "id": "VWgv1V6gliIW"
      }
    },
    {
      "cell_type": "code",
      "source": [
        "# Import the required libraries\n",
        "import torch\n",
        "import torch.nn as nn\n",
        "\n",
        "# print input and target tensors\n",
        "print(\"Input Tensor:\\n\", x)\n",
        "print(\"Target Tensor:\\n\", xdq)\n",
        "\n",
        "# create a criterion to measure the mean absolute error\n",
        "mae = nn.L1Loss()\n",
        "\n",
        "# compute the loss (mean absolute error)\n",
        "output = mae(x, xdq)\n",
        "\n",
        "# output.backward()\n",
        "print(\"MAE loss:\", output)"
      ],
      "metadata": {
        "colab": {
          "base_uri": "https://localhost:8080/"
        },
        "id": "J3Qs0NntlwC-",
        "outputId": "26077b70-acf7-44f7-c653-334757dfa049"
      },
      "execution_count": null,
      "outputs": [
        {
          "output_type": "stream",
          "name": "stdout",
          "text": [
            "Input Tensor:\n",
            " tensor([[0.8237, 0.5781, 0.6879],\n",
            "        [0.3816, 0.7249, 0.0998]])\n",
            "Target Tensor:\n",
            " tensor([[0.2510, 0.2510, 0.2510],\n",
            "        [0.2510, 0.2510, 0.1000]])\n",
            "MAE loss: tensor(0.3236)\n"
          ]
        }
      ]
    },
    {
      "cell_type": "markdown",
      "source": [
        "***II. MSE Loss***"
      ],
      "metadata": {
        "id": "kDVWWhRBmPP4"
      }
    },
    {
      "cell_type": "code",
      "source": [
        "# Import the required libraries\n",
        "import torch\n",
        "import torch.nn as nn\n",
        "\n",
        "# print input and target tensors\n",
        "print(\"Input Tensor:\\n\", x)\n",
        "print(\"Target Tensor:\\n\", xdq)\n",
        "\n",
        "# create a criterion to measure the mean squared error\n",
        "mse = nn.MSELoss()\n",
        "\n",
        "# compute the loss (mean squared error)\n",
        "output = mse(x, xdq)\n",
        "\n",
        "# output.backward()\n",
        "print(\"MSE loss:\", output)"
      ],
      "metadata": {
        "colab": {
          "base_uri": "https://localhost:8080/"
        },
        "outputId": "5bcbe60e-48ca-474b-deca-7359886948df",
        "id": "NMFHp37ylRVs"
      },
      "execution_count": null,
      "outputs": [
        {
          "output_type": "stream",
          "name": "stdout",
          "text": [
            "Input Tensor:\n",
            " tensor([[0.8237, 0.5781, 0.6879],\n",
            "        [0.3816, 0.7249, 0.0998]])\n",
            "Target Tensor:\n",
            " tensor([[0.2510, 0.2510, 0.2510],\n",
            "        [0.2510, 0.2510, 0.1000]])\n",
            "MSE loss: tensor(0.1446)\n"
          ]
        }
      ]
    },
    {
      "cell_type": "code",
      "source": [
        "proto_tensor = tf.make_tensor_proto(X)"
      ],
      "metadata": {
        "id": "Vi97l1xnFZbs"
      },
      "execution_count": null,
      "outputs": []
    },
    {
      "cell_type": "code",
      "source": [
        "xdq = tf.make_ndarray(proto_tensor)\n",
        "print(xdq)"
      ],
      "metadata": {
        "id": "D_kfWWnVFaDC"
      },
      "execution_count": null,
      "outputs": []
    },
    {
      "cell_type": "code",
      "source": [
        "Xdq = torch.from_numpy(xdq)\n",
        "print(Xdq)\n",
        "Xdq.dtype"
      ],
      "metadata": {
        "colab": {
          "base_uri": "https://localhost:8080/"
        },
        "id": "fas9gf9jCCQ4",
        "outputId": "d3028d7d-9ed9-4293-a844-c4818ff53761"
      },
      "execution_count": null,
      "outputs": [
        {
          "output_type": "stream",
          "name": "stdout",
          "text": [
            "tensor([[0.0000e+00, 1.0000e+00, 2.0000e+00,  ..., 2.5400e+02, 2.5500e+02,\n",
            "         2.5600e+02],\n",
            "        [2.5700e+02, 2.5800e+02, 2.5900e+02,  ..., 5.1100e+02, 5.1200e+02,\n",
            "         5.1300e+02],\n",
            "        [5.1400e+02, 5.1500e+02, 5.1600e+02,  ..., 7.6800e+02, 7.6900e+02,\n",
            "         7.7000e+02],\n",
            "        ...,\n",
            "        [1.1822e+04, 1.1823e+04, 1.1824e+04,  ..., 1.2076e+04, 1.2077e+04,\n",
            "         1.2078e+04],\n",
            "        [1.2079e+04, 1.2080e+04, 1.2081e+04,  ..., 1.2333e+04, 1.2334e+04,\n",
            "         1.2335e+04],\n",
            "        [1.2336e+04, 1.2337e+04, 1.2338e+04,  ..., 1.2590e+04, 1.2591e+04,\n",
            "         1.2592e+04]])\n"
          ]
        },
        {
          "output_type": "execute_result",
          "data": {
            "text/plain": [
              "torch.float32"
            ]
          },
          "metadata": {},
          "execution_count": 87
        }
      ]
    }
  ]
}