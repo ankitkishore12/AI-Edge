{
  "nbformat": 4,
  "nbformat_minor": 0,
  "metadata": {
    "accelerator": "GPU",
    "colab": {
      "provenance": []
    },
    "kernelspec": {
      "display_name": "Python 3",
      "name": "python3"
    }
  },
  "cells": [
    {
      "cell_type": "markdown",
      "metadata": {
        "id": "jYysdyb-CaWM"
      },
      "source": [
        "# ***Title:- Low bit-width quantization scheme for LSTM inference which gives predictable degradation for ASR (Automatic Speech Recognition) models.***"
      ]
    },
    {
      "cell_type": "markdown",
      "source": [
        "# **Step 1: Setup (Import Libraries)**"
      ],
      "metadata": {
        "id": "SOay0PRqrdny"
      }
    },
    {
      "cell_type": "code",
      "metadata": {
        "id": "dzLKpmZICaWN",
        "colab": {
          "base_uri": "https://localhost:8080/"
        },
        "outputId": "76eae576-5efb-48f1-cf79-ec695e5b5ce0"
      },
      "source": [
        "import os\n",
        "import pathlib\n",
        "\n",
        "import matplotlib.pyplot as plt\n",
        "import numpy as np\n",
        "import seaborn as sns\n",
        "import tensorflow as tf\n",
        "print(tf.version.VERSION)\n",
        "from tensorflow.keras.layers.experimental import preprocessing\n",
        "from tensorflow.keras import layers\n",
        "from tensorflow.keras import models\n",
        "from IPython import display\n",
        "\n",
        "# Set seed for experiment reproducibility\n",
        "seed = 42\n",
        "tf.random.set_seed(seed)\n",
        "np.random.seed(seed)"
      ],
      "execution_count": null,
      "outputs": [
        {
          "output_type": "stream",
          "name": "stdout",
          "text": [
            "2.8.2\n"
          ]
        }
      ]
    },
    {
      "cell_type": "markdown",
      "metadata": {
        "id": "yR0EdgrLCaWR"
      },
      "source": [
        "# **Step 2:- Import the Google Speech Commands dataset**\n",
        "\n"
      ]
    },
    {
      "cell_type": "code",
      "metadata": {
        "id": "2-rayb7-3Y0I"
      },
      "source": [
        "data_dir = pathlib.Path('data/mini_speech_commands')\n",
        "if not data_dir.exists():\n",
        "  tf.keras.utils.get_file(\n",
        "      'mini_speech_commands.zip',\n",
        "      origin=\"http://storage.googleapis.com/download.tensorflow.org/data/mini_speech_commands.zip\",\n",
        "      extract=True,\n",
        "      cache_dir='.', cache_subdir='data')"
      ],
      "execution_count": null,
      "outputs": []
    },
    {
      "cell_type": "markdown",
      "metadata": {
        "id": "h_72nZHA9UH9"
      },
      "source": [
        "***## Moving wav files from command directories to unknown sub-directory (Factory Reset to reset data directory)***\n",
        "\n",
        "\n"
      ]
    },
    {
      "cell_type": "code",
      "metadata": {
        "id": "vB4Jq4Qg35iZ",
        "colab": {
          "base_uri": "https://localhost:8080/"
        },
        "outputId": "f522f5fd-abf9-4d10-a96d-079d80279c82"
      },
      "source": [
        "# comment out below line if \"unknown\" directory already exists\n",
        "!mkdir /content/data/mini_speech_commands/unknown\n",
        "# moves files from their specific commands directory to the \"unknown\" directory (replaces all files with an existing name therefore example set is smaller)\n",
        "!mv /content/data/mini_speech_commands/down/* /content/data/mini_speech_commands/unknown\n",
        "!rm -d /content/data/mini_speech_commands/down\n",
        "!mv /content/data/mini_speech_commands/go/* /content/data/mini_speech_commands/unknown\n",
        "!rm -d /content/data/mini_speech_commands/go\n",
        "!mv /content/data/mini_speech_commands/left/* /content/data/mini_speech_commands/unknown\n",
        "!rm -d /content/data/mini_speech_commands/left\n",
        "!mv /content/data/mini_speech_commands/right/* /content/data/mini_speech_commands/unknown\n",
        "!rm -d /content/data/mini_speech_commands/right\n",
        "!mv /content/data/mini_speech_commands/stop/* /content/data/mini_speech_commands/unknown\n",
        "!rm -d /content/data/mini_speech_commands/stop\n",
        "!mv /content/data/mini_speech_commands/up/* /content/data/mini_speech_commands/unknown\n",
        "!rm -d /content/data/mini_speech_commands/up\n",
        "!rm /content/data/mini_speech_commands/README.md\n",
        "!ls /content/data/mini_speech_commands/unknown | wc -l"
      ],
      "execution_count": null,
      "outputs": [
        {
          "output_type": "stream",
          "name": "stdout",
          "text": [
            "mkdir: cannot create directory ‘/content/data/mini_speech_commands/unknown’: File exists\n",
            "mv: cannot stat '/content/data/mini_speech_commands/down/*': No such file or directory\n",
            "rm: cannot remove '/content/data/mini_speech_commands/down': No such file or directory\n",
            "mv: cannot stat '/content/data/mini_speech_commands/go/*': No such file or directory\n",
            "rm: cannot remove '/content/data/mini_speech_commands/go': No such file or directory\n",
            "mv: cannot stat '/content/data/mini_speech_commands/left/*': No such file or directory\n",
            "rm: cannot remove '/content/data/mini_speech_commands/left': No such file or directory\n",
            "mv: cannot stat '/content/data/mini_speech_commands/right/*': No such file or directory\n",
            "rm: cannot remove '/content/data/mini_speech_commands/right': No such file or directory\n",
            "mv: cannot stat '/content/data/mini_speech_commands/stop/*': No such file or directory\n",
            "rm: cannot remove '/content/data/mini_speech_commands/stop': No such file or directory\n",
            "mv: cannot stat '/content/data/mini_speech_commands/up/*': No such file or directory\n",
            "rm: cannot remove '/content/data/mini_speech_commands/up': No such file or directory\n",
            "rm: cannot remove '/content/data/mini_speech_commands/README.md': No such file or directory\n",
            "3311\n"
          ]
        }
      ]
    },
    {
      "cell_type": "markdown",
      "metadata": {
        "id": "BgvFq3uYiS5G"
      },
      "source": [
        "***## Sets wanted commands for training (Available commands: Down, Go, Left, No, Right, Stop, Up, Yes, and Unknown for commands that are not to be tested***"
      ]
    },
    {
      "cell_type": "code",
      "metadata": {
        "id": "70IBxSKxA1N9",
        "colab": {
          "base_uri": "https://localhost:8080/"
        },
        "outputId": "35adef5c-b608-4afb-c763-e450ae0d03f7"
      },
      "source": [
        "commands = np.array(tf.io.gfile.listdir(str(data_dir)))\n",
        "commands = [\"yes\",\"no\", \"unknown\"]\n",
        "print('Commands:', commands)"
      ],
      "execution_count": null,
      "outputs": [
        {
          "output_type": "stream",
          "name": "stdout",
          "text": [
            "Commands: ['yes', 'no', 'unknown']\n"
          ]
        }
      ]
    },
    {
      "cell_type": "markdown",
      "metadata": {
        "id": "aMvdU9SY8WXN"
      },
      "source": [
        "***## Extract the audio files into a list and shuffle it.***"
      ]
    },
    {
      "cell_type": "code",
      "metadata": {
        "id": "hlX685l1wD9k",
        "colab": {
          "base_uri": "https://localhost:8080/"
        },
        "outputId": "b6b82f18-6b21-4d93-a886-da2205038839"
      },
      "source": [
        "filenames = tf.io.gfile.glob(str(data_dir) + '/*/*')\n",
        "filenames = tf.random.shuffle(filenames)\n",
        "num_samples = len(filenames)\n",
        "print('Number of total examples:', num_samples)\n",
        "print('Number of examples per label:',\n",
        "      len(tf.io.gfile.listdir(str(data_dir/commands[0]))))\n",
        "print('Example file tensor:', filenames[0])"
      ],
      "execution_count": null,
      "outputs": [
        {
          "output_type": "stream",
          "name": "stdout",
          "text": [
            "Number of total examples: 5311\n",
            "Number of examples per label: 1000\n",
            "Example file tensor: tf.Tensor(b'data/mini_speech_commands/yes/e7334395_nohash_2.wav', shape=(), dtype=string)\n"
          ]
        }
      ]
    },
    {
      "cell_type": "markdown",
      "metadata": {
        "id": "9vK3ymy23MCP"
      },
      "source": [
        "# **Step 3:- Split the files into training, validation and test sets using a 80:10:10 ratio, respectively.**"
      ]
    },
    {
      "cell_type": "code",
      "metadata": {
        "id": "Cv_wts-l3KgD",
        "colab": {
          "base_uri": "https://localhost:8080/"
        },
        "outputId": "4aa863a3-b037-44f7-b693-da9cef1f0cac"
      },
      "source": [
        "# Take 80% of total number examples for training set files\n",
        "train_files = filenames[:4249]\n",
        "# Take 10% of total number examples adding to 80% of total examples for validation set files\n",
        "val_files = filenames[4249: 4249 + 531]\n",
        "# Take -10% of total number examples for test set files\n",
        "test_files = filenames[-531:]\n",
        "\n",
        "print('Training set size', len(train_files))\n",
        "print('Validation set size', len(val_files))\n",
        "print('Test set size', len(test_files))"
      ],
      "execution_count": null,
      "outputs": [
        {
          "output_type": "stream",
          "name": "stdout",
          "text": [
            "Training set size 4249\n",
            "Validation set size 531\n",
            "Test set size 531\n"
          ]
        }
      ]
    },
    {
      "cell_type": "markdown",
      "metadata": {
        "id": "g2Cj9FyvfweD"
      },
      "source": [
        "# **Step 4:- Reading audio files and their labels**"
      ]
    },
    {
      "cell_type": "markdown",
      "metadata": {
        "id": "j1zjcWteOcBy"
      },
      "source": [
        "***## The audio file will initially be read as a binary file, which you'll want to convert into a numerical tensor.***\n",
        "\n",
        "***## To load an audio file, you will use [`tf.audio.decode_wav`](https://www.tensorflow.org/api_docs/python/tf/audio/decode_wav), which returns the WAV-encoded audio as a Tensor and the sample rate.***\n",
        "\n",
        "***## A WAV file contains time series data with a set number of samples per second.Each sample represents the amplitude of the audio signal at that specific time. In a 16-bit system, like the files in `mini_speech_commands`, the values range from -32768 to 32767.***\n",
        "\n",
        "***## The sample rate for this dataset is 16kHz. Note that `tf.audio.decode_wav` will normalize the values to the range [-1.0, 1.0]. ***"
      ]
    },
    {
      "cell_type": "code",
      "metadata": {
        "id": "9PjJ2iXYwftD"
      },
      "source": [
        "def decode_audio(audio_binary):\n",
        "  audio, _ = tf.audio.decode_wav(audio_binary)\n",
        "  return tf.squeeze(audio, axis=-1)"
      ],
      "execution_count": null,
      "outputs": []
    },
    {
      "cell_type": "markdown",
      "metadata": {
        "id": "GPQseZElOjVN"
      },
      "source": [
        "**## The label for each WAV file is its parent directory.**"
      ]
    },
    {
      "cell_type": "code",
      "metadata": {
        "id": "8VTtX1nr3YT-"
      },
      "source": [
        "def get_label(file_path):\n",
        "  parts = tf.strings.split(file_path, os.path.sep)\n",
        "\n",
        "  # Note: You'll use indexing here instead of tuple unpacking to enable this\n",
        "  # to work in a TensorFlow graph.\n",
        "  return parts[-2]"
      ],
      "execution_count": null,
      "outputs": []
    },
    {
      "cell_type": "markdown",
      "metadata": {
        "id": "E8Y9w_5MOsr-"
      },
      "source": [
        "**## Let's define a method that will take in the filename of the WAV file and output a tuple containing the audio and labels for supervised training.**"
      ]
    },
    {
      "cell_type": "code",
      "metadata": {
        "id": "WdgUD5T93NyT"
      },
      "source": [
        "def get_waveform_and_label(file_path):\n",
        "  label = get_label(file_path)\n",
        "  audio_binary = tf.io.read_file(file_path)\n",
        "  waveform = decode_audio(audio_binary)\n",
        "  return waveform, label"
      ],
      "execution_count": null,
      "outputs": []
    },
    {
      "cell_type": "code",
      "metadata": {
        "id": "0SQl8yXl3kNP"
      },
      "source": [
        "AUTOTUNE = tf.data.AUTOTUNE\n",
        "files_ds = tf.data.Dataset.from_tensor_slices(train_files)\n",
        "waveform_ds = files_ds.map(get_waveform_and_label, num_parallel_calls=AUTOTUNE)"
      ],
      "execution_count": null,
      "outputs": []
    },
    {
      "cell_type": "markdown",
      "metadata": {
        "id": "voxGEwvuh2L7"
      },
      "source": [
        "***## Let's examine a few audio waveforms with their corresponding labels.***"
      ]
    },
    {
      "cell_type": "code",
      "metadata": {
        "id": "8yuX6Nqzf6wT",
        "colab": {
          "base_uri": "https://localhost:8080/",
          "height": 716
        },
        "outputId": "2048c5f5-cbb9-4ce9-a07b-bc8693baf88f"
      },
      "source": [
        "rows = 3\n",
        "cols = 3\n",
        "n = rows*cols\n",
        "fig, axes = plt.subplots(rows, cols, figsize=(10, 12))\n",
        "for i, (audio, label) in enumerate(waveform_ds.take(n)):\n",
        "  r = i // cols\n",
        "  c = i % cols\n",
        "  ax = axes[r][c]\n",
        "  ax.plot(audio.numpy())\n",
        "  ax.set_yticks(np.arange(-1.2, 1.2, 0.2))\n",
        "  label = label.numpy().decode('utf-8')\n",
        "  ax.set_title(label)\n",
        "\n",
        "plt.show()"
      ],
      "execution_count": null,
      "outputs": [
        {
          "output_type": "display_data",
          "data": {
            "text/plain": [
              "<Figure size 720x864 with 9 Axes>"
            ],
            "image/png": "[encoded data removed]"
          },
          "metadata": {
            "needs_background": "light"
          }
        }
      ]
    },
    {
      "cell_type": "markdown",
      "metadata": {
        "id": "EWXPphxm0B4m"
      },
      "source": [
        "# **Step 5:- Spectrogram**\n",
        "\n",
        "***## We converted the waveform into a spectrogram, which shows frequency changes over time and can be represented as a 2D image. This can be done by applying the short-time Fourier transform (STFT) to convert the audio into the time-frequency domain.***\n",
        "\n",
        " ***## A Fourier transform ([`tf.signal.fft`](https://www.tensorflow.org/api_docs/python/tf/signal/fft)) converts a signal to its component frequencies, but loses all time information. The STFT ([`tf.signal.stft`](https://www.tensorflow.org/api_docs/python/tf/signal/stft)) splits the signal into windows of time and runs a Fourier transform on each window, preserving some time information, and returning a 2D tensor that you can run standard convolutions on.***\n",
        "\n",
        "***## STFT produces an array of complex numbers representing magnitude and phase. However, you'll only need the magnitude for this tutorial, which can be derived by applying `tf.abs` on the output of `tf.signal.stft`.***\n",
        "\n",
        "\n",
        "***## We can Choose `frame_length` and `frame_step` parameters such that the generated spectrogram \"image\" is almost square. For more information on STFT parameters choice, we can refer to [this video](https://www.coursera.org/lecture/audio-signal-processing/stft-2-tjEQe) on audio signal processing.***\n",
        "\n",
        "***## We also want the waveforms to have the same length, so that when we convert it to a spectrogram image, the results will have similar dimensions. This can be done by simply zero padding the audio clips that are shorter than one second.***"
      ]
    },
    {
      "cell_type": "code",
      "metadata": {
        "id": "_4CK75DHz_OR"
      },
      "source": [
        "def get_spectrogram(waveform):\n",
        "  # Padding for files with less than 16000 samples\n",
        "  zero_padding = tf.zeros([16000] - tf.shape(waveform), dtype=tf.float32)\n",
        "\n",
        "  # Concatenate audio with padding so that all audio clips will be of the\n",
        "  # same length\n",
        "  waveform = tf.cast(waveform, tf.float32)\n",
        "  equal_length = tf.concat([waveform, zero_padding], 0)\n",
        "  spectrogram = tf.signal.stft(\n",
        "      equal_length, frame_length=480, frame_step=320, fft_length=512)\n",
        "\n",
        "  spectrogram = tf.abs(spectrogram)\n",
        "\n",
        "  return spectrogram"
      ],
      "execution_count": null,
      "outputs": []
    },
    {
      "cell_type": "markdown",
      "metadata": {
        "id": "5rdPiPYJphs2"
      },
      "source": [
        "***## Next, we will explore the data. Compare the waveform, the spectrogram and the actual audio of one example from the dataset.***"
      ]
    },
    {
      "cell_type": "code",
      "metadata": {
        "id": "4Mu6Y7Yz3C-V",
        "colab": {
          "base_uri": "https://localhost:8080/",
          "height": 144
        },
        "outputId": "1ae4f311-3a34-4c11-9355-9ee1f978f52a"
      },
      "source": [
        "for waveform, label in waveform_ds.take(1):\n",
        "  label = label.numpy().decode('utf-8')\n",
        "  spectrogram = get_spectrogram(waveform)\n",
        "\n",
        "print('Label:', label)\n",
        "print('Waveform shape:', waveform.shape)\n",
        "print('Spectrogram shape:', spectrogram.shape)\n",
        "print('Audio playback')\n",
        "display.display(display.Audio(waveform, rate=16000))"
      ],
      "execution_count": null,
      "outputs": [
        {
          "output_type": "stream",
          "name": "stdout",
          "text": [
            "Label: yes\n",
            "Waveform shape: (16000,)\n",
            "Spectrogram shape: (49, 257)\n",
            "Audio playback\n"
          ]
        },
        {
          "output_type": "display_data",
          "data": {
            "text/plain": [
              "<IPython.lib.display.Audio object>"
            ],
            "text/html": [
              "\n",
              "                <audio  controls=\"controls\" >\n",
              "                    <source src=\"data:audio/wav;base64,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\" type=\"audio/wav\" />\n",
              "                    Your browser does not support the audio element.\n",
              "                </audio>\n",
              "              "
            ]
          },
          "metadata": {}
        }
      ]
    },
    {
      "cell_type": "code",
      "metadata": {
        "id": "e62jzb36-Jog",
        "colab": {
          "base_uri": "https://localhost:8080/",
          "height": 499
        },
        "outputId": "f2706b11-61b8-4dd8-fbc0-88f2c6d66df9"
      },
      "source": [
        "def plot_spectrogram(spectrogram, ax):\n",
        "  # Convert to frequencies to log scale and transpose so that the time is\n",
        "  # represented in the x-axis (columns).\n",
        "  log_spec = np.log(spectrogram.T)\n",
        "  height = log_spec.shape[0]\n",
        "  width = log_spec.shape[1]\n",
        "  X = np.linspace(0, np.size(spectrogram), num=width, dtype=int)\n",
        "  Y = range(height)\n",
        "  ax.pcolormesh(X, Y, log_spec)\n",
        "\n",
        "\n",
        "fig, axes = plt.subplots(2, figsize=(12, 8))\n",
        "timescale = np.arange(waveform.shape[0])\n",
        "axes[0].plot(timescale, waveform.numpy())\n",
        "axes[0].set_title('Waveform')\n",
        "axes[0].set_xlim([0, 16000])\n",
        "plot_spectrogram(spectrogram.numpy(), axes[1])\n",
        "axes[1].set_title('Spectrogram')\n",
        "plt.show()"
      ],
      "execution_count": null,
      "outputs": [
        {
          "output_type": "display_data",
          "data": {
            "text/plain": [
              "<Figure size 864x576 with 2 Axes>"
            ],
            "image/png": "[encoded data removed]"
          },
          "metadata": {
            "needs_background": "light"
          }
        }
      ]
    },
    {
      "cell_type": "markdown",
      "metadata": {
        "id": "GyYXjW07jCHA"
      },
      "source": [
        "***## Now transform the waveform dataset to have spectrogram images and their corresponding labels as integer IDs.***"
      ]
    },
    {
      "cell_type": "code",
      "metadata": {
        "id": "43IS2IouEV40"
      },
      "source": [
        "def get_spectrogram_and_label_id(audio, label):\n",
        "  spectrogram = get_spectrogram(audio)\n",
        "  spectrogram = tf.expand_dims(spectrogram, -1)\n",
        "  label_id = tf.argmax(label == commands)\n",
        "  return spectrogram, label_id"
      ],
      "execution_count": null,
      "outputs": []
    },
    {
      "cell_type": "code",
      "metadata": {
        "id": "yEVb_oK0oBLQ"
      },
      "source": [
        "spectrogram_ds = waveform_ds.map(\n",
        "    get_spectrogram_and_label_id, num_parallel_calls=AUTOTUNE)\n"
      ],
      "execution_count": null,
      "outputs": []
    },
    {
      "cell_type": "markdown",
      "metadata": {
        "id": "6gQpAAgMnyDi"
      },
      "source": [
        "***## Examine the spectrogram \"images\" for different samples of the dataset.***"
      ]
    },
    {
      "cell_type": "code",
      "metadata": {
        "id": "QUbHfTuon4iF",
        "colab": {
          "base_uri": "https://localhost:8080/",
          "height": 591
        },
        "outputId": "f4ba231a-caa2-4a7f-9efd-381b2bb01d73"
      },
      "source": [
        "rows = 3\n",
        "cols = 3\n",
        "n = rows*cols\n",
        "fig, axes = plt.subplots(rows, cols, figsize=(10, 10))\n",
        "for i, (spectrogram, label_id) in enumerate(spectrogram_ds.take(n)):\n",
        "  r = i // cols\n",
        "  c = i % cols\n",
        "  ax = axes[r][c]\n",
        "  plot_spectrogram(np.squeeze(spectrogram.numpy()), ax)\n",
        "  ax.set_title(commands[label_id.numpy()])\n",
        "  ax.axis('off')\n",
        "\n",
        "plt.show()"
      ],
      "execution_count": null,
      "outputs": [
        {
          "output_type": "display_data",
          "data": {
            "text/plain": [
              "<Figure size 720x720 with 9 Axes>"
            ],
            "image/png": "[encoded data removed]"
          },
          "metadata": {
            "needs_background": "light"
          }
        }
      ]
    },
    {
      "cell_type": "markdown",
      "metadata": {
        "id": "z5KdY8IF8rkt"
      },
      "source": [
        "# **Step:-6 Build and train the model**\n",
        "\n",
        "***## Now we can build and train our model. But before we do that, we'll need to repeat the training set preprocessing on the validation and test sets.***"
      ]
    },
    {
      "cell_type": "code",
      "metadata": {
        "id": "10UI32QH_45b"
      },
      "source": [
        "def preprocess_dataset(files):\n",
        "  files_ds = tf.data.Dataset.from_tensor_slices(files)\n",
        "  output_ds = files_ds.map(get_waveform_and_label, num_parallel_calls=AUTOTUNE)\n",
        "  output_ds = output_ds.map(\n",
        "      get_spectrogram_and_label_id,  num_parallel_calls=AUTOTUNE)\n",
        "  return output_ds"
      ],
      "execution_count": null,
      "outputs": []
    },
    {
      "cell_type": "code",
      "metadata": {
        "id": "HNv4xwYkB2P6",
        "colab": {
          "base_uri": "https://localhost:8080/"
        },
        "outputId": "e38a3b8b-9840-4218-8259-9a9728a3e225"
      },
      "source": [
        "train_ds = spectrogram_ds\n",
        "val_ds = preprocess_dataset(val_files)\n",
        "test_ds = preprocess_dataset(test_files)\n",
        "print(val_ds)\n",
        "print(test_ds)\n"
      ],
      "execution_count": null,
      "outputs": [
        {
          "output_type": "stream",
          "name": "stdout",
          "text": [
            "<ParallelMapDataset element_spec=(TensorSpec(shape=(None, 257, 1), dtype=tf.float32, name=None), TensorSpec(shape=(), dtype=tf.int64, name=None))>\n",
            "<ParallelMapDataset element_spec=(TensorSpec(shape=(None, 257, 1), dtype=tf.float32, name=None), TensorSpec(shape=(), dtype=tf.int64, name=None))>\n"
          ]
        }
      ]
    },
    {
      "cell_type": "markdown",
      "metadata": {
        "id": "assnWo6SB3lR"
      },
      "source": [
        "***## Batch the training and validation sets for model training.***"
      ]
    },
    {
      "cell_type": "code",
      "metadata": {
        "id": "UgY9WYzn61EX"
      },
      "source": [
        "batch_size = 64\n",
        "train_ds = train_ds.batch(batch_size)\n",
        "val_ds = val_ds.batch(batch_size)"
      ],
      "execution_count": null,
      "outputs": []
    },
    {
      "cell_type": "markdown",
      "metadata": {
        "id": "GS1uIh6F_TN9"
      },
      "source": [
        "***## Add dataset [`cache()`](https://www.tensorflow.org/api_docs/python/tf/data/Dataset#cache) and [`prefetch()`](https://www.tensorflow.org/api_docs/python/tf/data/Dataset#prefetch) operations to reduce read latency while training the model.***"
      ]
    },
    {
      "cell_type": "code",
      "metadata": {
        "id": "fdZ6M-F5_QzY"
      },
      "source": [
        "train_ds = train_ds.cache().prefetch(AUTOTUNE)\n",
        "val_ds = val_ds.cache().prefetch(AUTOTUNE)"
      ],
      "execution_count": null,
      "outputs": []
    },
    {
      "cell_type": "markdown",
      "metadata": {
        "id": "rwHkKCQQb5oW"
      },
      "source": [
        "***## For the model, we'll use a simple LSTM network, since we have transformed the audio files into spectrogram images.***\n",
        "\n",
        "***## The model also has the following additional preprocessing layers:***\n",
        "- A [`Resizing`](https://www.tensorflow.org/api_docs/python/tf/keras/layers/experimental/preprocessing/Resizing) layer to downsample the input to enable the model to train faster.\n",
        "- A [`Normalization`](https://www.tensorflow.org/api_docs/python/tf/keras/layers/experimental/preprocessing/Normalization) layer to normalize each pixel in the image based on its mean and standard deviation.\n",
        "\n",
        "***## For the `Normalization` layer, its `adapt` method would first need to be called on the training data in order to compute aggregate statistics (i.e. mean and standard deviation).***"
      ]
    },
    {
      "cell_type": "code",
      "metadata": {
        "id": "ALYz7PFCHblP",
        "colab": {
          "base_uri": "https://localhost:8080/"
        },
        "outputId": "760e5fca-f998-403a-9e77-70dd1db6ca0c"
      },
      "source": [
        "for spectrogram, _ in spectrogram_ds.take(1):\n",
        "  input_shape = spectrogram.shape\n",
        "print('Input shape:', input_shape)\n",
        "num_labels = len(commands)\n",
        "print('num_labels:', num_labels)\n",
        "\n",
        "model = models.Sequential([\n",
        "    layers.Input(shape=(49, 257), name='input'),\n",
        "    layers.Reshape(target_shape=(49, 257)),\n",
        "    layers.LSTM(80, time_major=False, return_sequences=True),\n",
        "    layers.Flatten(),\n",
        "    layers.Dense(3, activation=tf.nn.softmax, name='output')\n",
        "])\n",
        "model.summary()\n"
      ],
      "execution_count": null,
      "outputs": [
        {
          "output_type": "stream",
          "name": "stdout",
          "text": [
            "Input shape: (49, 257, 1)\n",
            "num_labels: 3\n",
            "Model: \"sequential_1\"\n",
            "_________________________________________________________________\n",
            " Layer (type)                Output Shape              Param #   \n",
            "=================================================================\n",
            " reshape_1 (Reshape)         (None, 49, 257)           0         \n",
            "                                                                 \n",
            " lstm_1 (LSTM)               (None, 49, 80)            108160    \n",
            "                                                                 \n",
            " flatten_1 (Flatten)         (None, 3920)              0         \n",
            "                                                                 \n",
            " output (Dense)              (None, 3)                 11763     \n",
            "                                                                 \n",
            "=================================================================\n",
            "Total params: 119,923\n",
            "Trainable params: 119,923\n",
            "Non-trainable params: 0\n",
            "_________________________________________________________________\n"
          ]
        }
      ]
    },
    {
      "cell_type": "code",
      "source": [
        "import numpy as np\n",
        "s_len = 49 * 257 * 1\n",
        "s = np.arange(s_len).reshape(input_shape)\n",
        "print(s.shape)\n",
        "print(s)\n",
        "s.dtype"
      ],
      "metadata": {
        "colab": {
          "base_uri": "https://localhost:8080/"
        },
        "id": "4wlnClPmm1Bs",
        "outputId": "6c37ff2e-b443-4636-9231-addcfebbd4bf"
      },
      "execution_count": null,
      "outputs": [
        {
          "output_type": "stream",
          "name": "stdout",
          "text": [
            "(49, 257, 1)\n",
            "[[[    0]\n",
            "  [    1]\n",
            "  [    2]\n",
            "  ...\n",
            "  [  254]\n",
            "  [  255]\n",
            "  [  256]]\n",
            "\n",
            " [[  257]\n",
            "  [  258]\n",
            "  [  259]\n",
            "  ...\n",
            "  [  511]\n",
            "  [  512]\n",
            "  [  513]]\n",
            "\n",
            " [[  514]\n",
            "  [  515]\n",
            "  [  516]\n",
            "  ...\n",
            "  [  768]\n",
            "  [  769]\n",
            "  [  770]]\n",
            "\n",
            " ...\n",
            "\n",
            " [[11822]\n",
            "  [11823]\n",
            "  [11824]\n",
            "  ...\n",
            "  [12076]\n",
            "  [12077]\n",
            "  [12078]]\n",
            "\n",
            " [[12079]\n",
            "  [12080]\n",
            "  [12081]\n",
            "  ...\n",
            "  [12333]\n",
            "  [12334]\n",
            "  [12335]]\n",
            "\n",
            " [[12336]\n",
            "  [12337]\n",
            "  [12338]\n",
            "  ...\n",
            "  [12590]\n",
            "  [12591]\n",
            "  [12592]]]\n"
          ]
        },
        {
          "output_type": "execute_result",
          "data": {
            "text/plain": [
              "dtype('int64')"
            ]
          },
          "metadata": {},
          "execution_count": 47
        }
      ]
    },
    {
      "cell_type": "markdown",
      "source": [
        "***## Loss function and Optimizer used***"
      ],
      "metadata": {
        "id": "-XURo4N_y22d"
      }
    },
    {
      "cell_type": "code",
      "metadata": {
        "id": "wFjj7-EmsTD-"
      },
      "source": [
        "model.compile(optimizer='adam',\n",
        "              loss='sparse_categorical_crossentropy',\n",
        "              metrics=['accuracy'])"
      ],
      "execution_count": null,
      "outputs": []
    },
    {
      "cell_type": "markdown",
      "source": [
        "***## Model fit***"
      ],
      "metadata": {
        "id": "OJJjI7U9zIee"
      }
    },
    {
      "cell_type": "code",
      "metadata": {
        "id": "ttioPJVMcGtq",
        "colab": {
          "base_uri": "https://localhost:8080/"
        },
        "outputId": "f809bc17-5422-4f96-adaf-5a04bcb5ce08"
      },
      "source": [
        "EPOCHS = 100\n",
        "history = model.fit(\n",
        "    train_ds,\n",
        "    validation_data=val_ds,\n",
        "    epochs=EPOCHS,\n",
        "   # callbacks=tf.keras.callbacks.EarlyStopping(verbose=1, patience=2),\n",
        ")"
      ],
      "execution_count": null,
      "outputs": [
        {
          "output_type": "stream",
          "name": "stdout",
          "text": [
            "Epoch 1/100\n",
            "67/67 [==============================] - 15s 132ms/step - loss: 0.5539 - accuracy: 0.7764 - val_loss: 0.4418 - val_accuracy: 0.8286\n",
            "Epoch 2/100\n",
            "67/67 [==============================] - 1s 7ms/step - loss: 0.3205 - accuracy: 0.8816 - val_loss: 0.3647 - val_accuracy: 0.8569\n",
            "Epoch 3/100\n",
            "67/67 [==============================] - 0s 6ms/step - loss: 0.2220 - accuracy: 0.9193 - val_loss: 0.3518 - val_accuracy: 0.8682\n",
            "Epoch 4/100\n",
            "67/67 [==============================] - 0s 6ms/step - loss: 0.1581 - accuracy: 0.9435 - val_loss: 0.3542 - val_accuracy: 0.8795\n",
            "Epoch 5/100\n",
            "67/67 [==============================] - 0s 6ms/step - loss: 0.1335 - accuracy: 0.9487 - val_loss: 0.3554 - val_accuracy: 0.9040\n",
            "Epoch 6/100\n",
            "67/67 [==============================] - 0s 7ms/step - loss: 0.1162 - accuracy: 0.9567 - val_loss: 0.4713 - val_accuracy: 0.8719\n",
            "Epoch 7/100\n",
            "67/67 [==============================] - 0s 6ms/step - loss: 0.1158 - accuracy: 0.9527 - val_loss: 0.3944 - val_accuracy: 0.8795\n",
            "Epoch 8/100\n",
            "67/67 [==============================] - 0s 6ms/step - loss: 0.0910 - accuracy: 0.9628 - val_loss: 0.4525 - val_accuracy: 0.8832\n",
            "Epoch 9/100\n",
            "67/67 [==============================] - 0s 6ms/step - loss: 0.0726 - accuracy: 0.9748 - val_loss: 0.3836 - val_accuracy: 0.9077\n",
            "Epoch 10/100\n",
            "67/67 [==============================] - 0s 6ms/step - loss: 0.0608 - accuracy: 0.9779 - val_loss: 0.4089 - val_accuracy: 0.9077\n",
            "Epoch 11/100\n",
            "67/67 [==============================] - 0s 6ms/step - loss: 0.0494 - accuracy: 0.9826 - val_loss: 0.4308 - val_accuracy: 0.8964\n",
            "Epoch 12/100\n",
            "67/67 [==============================] - 0s 6ms/step - loss: 0.0436 - accuracy: 0.9847 - val_loss: 0.4281 - val_accuracy: 0.9096\n",
            "Epoch 13/100\n",
            "67/67 [==============================] - 0s 6ms/step - loss: 0.0431 - accuracy: 0.9847 - val_loss: 0.4397 - val_accuracy: 0.9058\n",
            "Epoch 14/100\n",
            "67/67 [==============================] - 0s 6ms/step - loss: 0.0472 - accuracy: 0.9826 - val_loss: 0.4714 - val_accuracy: 0.8964\n",
            "Epoch 15/100\n",
            "67/67 [==============================] - 0s 6ms/step - loss: 0.0442 - accuracy: 0.9849 - val_loss: 0.4217 - val_accuracy: 0.9002\n",
            "Epoch 16/100\n",
            "67/67 [==============================] - 0s 6ms/step - loss: 0.0448 - accuracy: 0.9854 - val_loss: 0.4316 - val_accuracy: 0.9096\n",
            "Epoch 17/100\n",
            "67/67 [==============================] - 0s 6ms/step - loss: 0.0498 - accuracy: 0.9828 - val_loss: 0.4115 - val_accuracy: 0.9077\n",
            "Epoch 18/100\n",
            "67/67 [==============================] - 0s 6ms/step - loss: 0.0414 - accuracy: 0.9856 - val_loss: 0.4766 - val_accuracy: 0.8851\n",
            "Epoch 19/100\n",
            "67/67 [==============================] - 0s 6ms/step - loss: 0.0431 - accuracy: 0.9840 - val_loss: 0.5387 - val_accuracy: 0.8908\n",
            "Epoch 20/100\n",
            "67/67 [==============================] - 0s 6ms/step - loss: 0.0333 - accuracy: 0.9863 - val_loss: 0.5188 - val_accuracy: 0.9040\n",
            "Epoch 21/100\n",
            "67/67 [==============================] - 0s 6ms/step - loss: 0.0307 - accuracy: 0.9878 - val_loss: 0.4332 - val_accuracy: 0.9190\n",
            "Epoch 22/100\n",
            "67/67 [==============================] - 0s 6ms/step - loss: 0.0260 - accuracy: 0.9904 - val_loss: 0.4833 - val_accuracy: 0.9096\n",
            "Epoch 23/100\n",
            "67/67 [==============================] - 0s 6ms/step - loss: 0.0220 - accuracy: 0.9922 - val_loss: 0.5095 - val_accuracy: 0.9134\n",
            "Epoch 24/100\n",
            "67/67 [==============================] - 0s 6ms/step - loss: 0.0356 - accuracy: 0.9878 - val_loss: 0.4975 - val_accuracy: 0.9209\n",
            "Epoch 25/100\n",
            "67/67 [==============================] - 0s 6ms/step - loss: 0.0430 - accuracy: 0.9831 - val_loss: 0.4114 - val_accuracy: 0.9171\n",
            "Epoch 26/100\n",
            "67/67 [==============================] - 0s 6ms/step - loss: 0.0289 - accuracy: 0.9896 - val_loss: 0.4741 - val_accuracy: 0.9171\n",
            "Epoch 27/100\n",
            "67/67 [==============================] - 0s 6ms/step - loss: 0.0282 - accuracy: 0.9911 - val_loss: 0.5252 - val_accuracy: 0.9134\n",
            "Epoch 28/100\n",
            "67/67 [==============================] - 0s 6ms/step - loss: 0.0228 - accuracy: 0.9911 - val_loss: 0.5286 - val_accuracy: 0.8983\n",
            "Epoch 29/100\n",
            "67/67 [==============================] - 0s 6ms/step - loss: 0.0242 - accuracy: 0.9939 - val_loss: 0.4723 - val_accuracy: 0.9228\n",
            "Epoch 30/100\n",
            "67/67 [==============================] - 0s 6ms/step - loss: 0.0248 - accuracy: 0.9920 - val_loss: 0.5269 - val_accuracy: 0.9153\n",
            "Epoch 31/100\n",
            "67/67 [==============================] - 0s 6ms/step - loss: 0.0204 - accuracy: 0.9936 - val_loss: 0.5316 - val_accuracy: 0.9171\n",
            "Epoch 32/100\n",
            "67/67 [==============================] - 0s 6ms/step - loss: 0.0185 - accuracy: 0.9941 - val_loss: 0.5163 - val_accuracy: 0.9209\n",
            "Epoch 33/100\n",
            "67/67 [==============================] - 0s 6ms/step - loss: 0.0148 - accuracy: 0.9953 - val_loss: 0.5524 - val_accuracy: 0.9153\n",
            "Epoch 34/100\n",
            "67/67 [==============================] - 0s 6ms/step - loss: 0.0131 - accuracy: 0.9962 - val_loss: 0.5760 - val_accuracy: 0.9134\n",
            "Epoch 35/100\n",
            "67/67 [==============================] - 0s 6ms/step - loss: 0.0112 - accuracy: 0.9962 - val_loss: 0.6080 - val_accuracy: 0.9115\n",
            "Epoch 36/100\n",
            "67/67 [==============================] - 0s 6ms/step - loss: 0.0102 - accuracy: 0.9972 - val_loss: 0.6273 - val_accuracy: 0.9115\n",
            "Epoch 37/100\n",
            "67/67 [==============================] - 0s 6ms/step - loss: 0.0097 - accuracy: 0.9972 - val_loss: 0.6620 - val_accuracy: 0.9134\n",
            "Epoch 38/100\n",
            "67/67 [==============================] - 0s 6ms/step - loss: 0.0090 - accuracy: 0.9974 - val_loss: 0.7025 - val_accuracy: 0.9115\n",
            "Epoch 39/100\n",
            "67/67 [==============================] - 0s 6ms/step - loss: 0.0089 - accuracy: 0.9972 - val_loss: 0.7179 - val_accuracy: 0.9134\n",
            "Epoch 40/100\n",
            "67/67 [==============================] - 0s 6ms/step - loss: 0.0081 - accuracy: 0.9976 - val_loss: 0.7622 - val_accuracy: 0.9153\n",
            "Epoch 41/100\n",
            "67/67 [==============================] - 0s 7ms/step - loss: 0.0082 - accuracy: 0.9974 - val_loss: 0.7772 - val_accuracy: 0.9134\n",
            "Epoch 42/100\n",
            "67/67 [==============================] - 0s 7ms/step - loss: 0.0074 - accuracy: 0.9979 - val_loss: 0.8154 - val_accuracy: 0.9096\n",
            "Epoch 43/100\n",
            "67/67 [==============================] - 0s 7ms/step - loss: 0.1022 - accuracy: 0.9685 - val_loss: 0.5777 - val_accuracy: 0.8738\n",
            "Epoch 44/100\n",
            "67/67 [==============================] - 0s 6ms/step - loss: 0.0682 - accuracy: 0.9779 - val_loss: 0.4053 - val_accuracy: 0.9228\n",
            "Epoch 45/100\n",
            "67/67 [==============================] - 0s 6ms/step - loss: 0.0280 - accuracy: 0.9927 - val_loss: 0.5093 - val_accuracy: 0.9115\n",
            "Epoch 46/100\n",
            "67/67 [==============================] - 0s 6ms/step - loss: 0.0146 - accuracy: 0.9960 - val_loss: 0.4818 - val_accuracy: 0.9171\n",
            "Epoch 47/100\n",
            "67/67 [==============================] - 0s 6ms/step - loss: 0.0236 - accuracy: 0.9920 - val_loss: 0.5226 - val_accuracy: 0.9153\n",
            "Epoch 48/100\n",
            "67/67 [==============================] - 0s 6ms/step - loss: 0.0151 - accuracy: 0.9951 - val_loss: 0.4926 - val_accuracy: 0.9266\n",
            "Epoch 49/100\n",
            "67/67 [==============================] - 0s 6ms/step - loss: 0.0103 - accuracy: 0.9969 - val_loss: 0.5253 - val_accuracy: 0.9247\n",
            "Epoch 50/100\n",
            "67/67 [==============================] - 0s 6ms/step - loss: 0.0086 - accuracy: 0.9972 - val_loss: 0.4990 - val_accuracy: 0.9284\n",
            "Epoch 51/100\n",
            "67/67 [==============================] - 0s 6ms/step - loss: 0.0077 - accuracy: 0.9976 - val_loss: 0.5158 - val_accuracy: 0.9284\n",
            "Epoch 52/100\n",
            "67/67 [==============================] - 0s 6ms/step - loss: 0.0073 - accuracy: 0.9979 - val_loss: 0.5383 - val_accuracy: 0.9303\n",
            "Epoch 53/100\n",
            "67/67 [==============================] - 0s 6ms/step - loss: 0.0070 - accuracy: 0.9979 - val_loss: 0.5607 - val_accuracy: 0.9284\n",
            "Epoch 54/100\n",
            "67/67 [==============================] - 0s 6ms/step - loss: 0.0067 - accuracy: 0.9981 - val_loss: 0.5765 - val_accuracy: 0.9284\n",
            "Epoch 55/100\n",
            "67/67 [==============================] - 0s 6ms/step - loss: 0.0065 - accuracy: 0.9981 - val_loss: 0.5949 - val_accuracy: 0.9284\n",
            "Epoch 56/100\n",
            "67/67 [==============================] - 0s 6ms/step - loss: 0.0085 - accuracy: 0.9974 - val_loss: 0.5648 - val_accuracy: 0.9190\n",
            "Epoch 57/100\n",
            "67/67 [==============================] - 0s 6ms/step - loss: 0.0072 - accuracy: 0.9984 - val_loss: 0.5416 - val_accuracy: 0.9209\n",
            "Epoch 58/100\n",
            "67/67 [==============================] - 0s 6ms/step - loss: 0.0099 - accuracy: 0.9976 - val_loss: 0.5061 - val_accuracy: 0.9228\n",
            "Epoch 59/100\n",
            "67/67 [==============================] - 0s 7ms/step - loss: 0.0212 - accuracy: 0.9939 - val_loss: 0.4882 - val_accuracy: 0.9134\n",
            "Epoch 60/100\n",
            "67/67 [==============================] - 0s 7ms/step - loss: 0.0380 - accuracy: 0.9863 - val_loss: 0.5203 - val_accuracy: 0.9228\n",
            "Epoch 61/100\n",
            "67/67 [==============================] - 0s 6ms/step - loss: 0.0231 - accuracy: 0.9913 - val_loss: 0.5214 - val_accuracy: 0.9134\n",
            "Epoch 62/100\n",
            "67/67 [==============================] - 0s 6ms/step - loss: 0.0134 - accuracy: 0.9955 - val_loss: 0.5522 - val_accuracy: 0.9115\n",
            "Epoch 63/100\n",
            "67/67 [==============================] - 1s 13ms/step - loss: 0.0087 - accuracy: 0.9976 - val_loss: 0.5104 - val_accuracy: 0.9096\n",
            "Epoch 64/100\n",
            "67/67 [==============================] - 1s 12ms/step - loss: 0.0094 - accuracy: 0.9972 - val_loss: 0.5279 - val_accuracy: 0.9190\n",
            "Epoch 65/100\n",
            "67/67 [==============================] - 1s 12ms/step - loss: 0.0072 - accuracy: 0.9981 - val_loss: 0.6199 - val_accuracy: 0.9228\n",
            "Epoch 66/100\n",
            "67/67 [==============================] - 1s 8ms/step - loss: 0.0156 - accuracy: 0.9958 - val_loss: 0.5279 - val_accuracy: 0.9209\n",
            "Epoch 67/100\n",
            "67/67 [==============================] - 0s 7ms/step - loss: 0.0217 - accuracy: 0.9936 - val_loss: 0.5401 - val_accuracy: 0.9021\n",
            "Epoch 68/100\n",
            "67/67 [==============================] - 0s 7ms/step - loss: 0.0326 - accuracy: 0.9885 - val_loss: 0.5637 - val_accuracy: 0.9171\n",
            "Epoch 69/100\n",
            "67/67 [==============================] - 0s 6ms/step - loss: 0.0226 - accuracy: 0.9929 - val_loss: 0.5346 - val_accuracy: 0.8983\n",
            "Epoch 70/100\n",
            "67/67 [==============================] - 0s 6ms/step - loss: 0.0149 - accuracy: 0.9953 - val_loss: 0.5629 - val_accuracy: 0.9171\n",
            "Epoch 71/100\n",
            "67/67 [==============================] - 0s 7ms/step - loss: 0.0075 - accuracy: 0.9979 - val_loss: 0.5606 - val_accuracy: 0.9115\n",
            "Epoch 72/100\n",
            "67/67 [==============================] - 0s 6ms/step - loss: 0.0060 - accuracy: 0.9984 - val_loss: 0.6049 - val_accuracy: 0.9134\n",
            "Epoch 73/100\n",
            "67/67 [==============================] - 0s 7ms/step - loss: 0.0054 - accuracy: 0.9981 - val_loss: 0.6061 - val_accuracy: 0.9134\n",
            "Epoch 74/100\n",
            "67/67 [==============================] - 0s 6ms/step - loss: 0.0048 - accuracy: 0.9984 - val_loss: 0.6009 - val_accuracy: 0.9134\n",
            "Epoch 75/100\n",
            "67/67 [==============================] - 0s 6ms/step - loss: 0.0046 - accuracy: 0.9986 - val_loss: 0.6040 - val_accuracy: 0.9153\n",
            "Epoch 76/100\n",
            "67/67 [==============================] - 0s 6ms/step - loss: 0.0044 - accuracy: 0.9984 - val_loss: 0.6090 - val_accuracy: 0.9171\n",
            "Epoch 77/100\n",
            "67/67 [==============================] - 0s 6ms/step - loss: 0.0042 - accuracy: 0.9984 - val_loss: 0.6112 - val_accuracy: 0.9153\n",
            "Epoch 78/100\n",
            "67/67 [==============================] - 0s 6ms/step - loss: 0.0040 - accuracy: 0.9986 - val_loss: 0.6105 - val_accuracy: 0.9190\n",
            "Epoch 79/100\n",
            "67/67 [==============================] - 0s 6ms/step - loss: 0.0040 - accuracy: 0.9988 - val_loss: 0.6048 - val_accuracy: 0.9171\n",
            "Epoch 80/100\n",
            "67/67 [==============================] - 0s 6ms/step - loss: 0.0043 - accuracy: 0.9988 - val_loss: 0.6170 - val_accuracy: 0.9153\n",
            "Epoch 81/100\n",
            "67/67 [==============================] - 0s 6ms/step - loss: 0.0227 - accuracy: 0.9922 - val_loss: 0.6505 - val_accuracy: 0.9021\n",
            "Epoch 82/100\n",
            "67/67 [==============================] - 0s 6ms/step - loss: 0.0200 - accuracy: 0.9920 - val_loss: 0.5092 - val_accuracy: 0.9190\n",
            "Epoch 83/100\n",
            "67/67 [==============================] - 0s 6ms/step - loss: 0.0194 - accuracy: 0.9925 - val_loss: 0.5474 - val_accuracy: 0.9209\n",
            "Epoch 84/100\n",
            "67/67 [==============================] - 0s 6ms/step - loss: 0.0207 - accuracy: 0.9918 - val_loss: 0.6732 - val_accuracy: 0.9190\n",
            "Epoch 85/100\n",
            "67/67 [==============================] - 0s 6ms/step - loss: 0.0254 - accuracy: 0.9927 - val_loss: 0.6988 - val_accuracy: 0.9134\n",
            "Epoch 86/100\n",
            "67/67 [==============================] - 0s 6ms/step - loss: 0.0222 - accuracy: 0.9927 - val_loss: 0.6794 - val_accuracy: 0.8964\n",
            "Epoch 87/100\n",
            "67/67 [==============================] - 0s 7ms/step - loss: 0.0213 - accuracy: 0.9948 - val_loss: 0.7243 - val_accuracy: 0.9171\n",
            "Epoch 88/100\n",
            "67/67 [==============================] - 0s 6ms/step - loss: 0.0201 - accuracy: 0.9936 - val_loss: 0.6207 - val_accuracy: 0.9002\n",
            "Epoch 89/100\n",
            "67/67 [==============================] - 0s 6ms/step - loss: 0.0154 - accuracy: 0.9955 - val_loss: 0.6088 - val_accuracy: 0.9190\n",
            "Epoch 90/100\n",
            "67/67 [==============================] - 0s 7ms/step - loss: 0.0135 - accuracy: 0.9960 - val_loss: 0.5993 - val_accuracy: 0.9134\n",
            "Epoch 91/100\n",
            "67/67 [==============================] - 0s 6ms/step - loss: 0.0084 - accuracy: 0.9974 - val_loss: 0.6168 - val_accuracy: 0.9171\n",
            "Epoch 92/100\n",
            "67/67 [==============================] - 0s 7ms/step - loss: 0.0048 - accuracy: 0.9988 - val_loss: 0.6382 - val_accuracy: 0.9190\n",
            "Epoch 93/100\n",
            "67/67 [==============================] - 0s 7ms/step - loss: 0.0041 - accuracy: 0.9991 - val_loss: 0.6333 - val_accuracy: 0.9190\n",
            "Epoch 94/100\n",
            "67/67 [==============================] - 0s 7ms/step - loss: 0.0037 - accuracy: 0.9991 - val_loss: 0.6402 - val_accuracy: 0.9190\n",
            "Epoch 95/100\n",
            "67/67 [==============================] - 0s 7ms/step - loss: 0.0035 - accuracy: 0.9991 - val_loss: 0.6523 - val_accuracy: 0.9190\n",
            "Epoch 96/100\n",
            "67/67 [==============================] - 0s 7ms/step - loss: 0.0032 - accuracy: 0.9991 - val_loss: 0.6656 - val_accuracy: 0.9190\n",
            "Epoch 97/100\n",
            "67/67 [==============================] - 0s 7ms/step - loss: 0.0030 - accuracy: 0.9991 - val_loss: 0.6749 - val_accuracy: 0.9153\n",
            "Epoch 98/100\n",
            "67/67 [==============================] - 0s 7ms/step - loss: 0.0033 - accuracy: 0.9991 - val_loss: 0.6653 - val_accuracy: 0.9153\n",
            "Epoch 99/100\n",
            "67/67 [==============================] - 0s 7ms/step - loss: 0.0036 - accuracy: 0.9988 - val_loss: 0.6646 - val_accuracy: 0.9153\n",
            "Epoch 100/100\n",
            "67/67 [==============================] - 0s 7ms/step - loss: 0.0029 - accuracy: 0.9991 - val_loss: 0.6911 - val_accuracy: 0.9115\n"
          ]
        }
      ]
    },
    {
      "cell_type": "code",
      "source": [
        "# Save the entire model as a SavedModel.\n",
        "!mkdir -p saved_model\n",
        "model.save('saved_model/my_model')"
      ],
      "metadata": {
        "colab": {
          "base_uri": "https://localhost:8080/"
        },
        "id": "KYECv6Fqt-DW",
        "outputId": "09df81b6-e56a-40f0-c840-7f27e056fa8b"
      },
      "execution_count": null,
      "outputs": [
        {
          "output_type": "stream",
          "name": "stderr",
          "text": [
            "WARNING:absl:Found untraced functions such as lstm_cell_1_layer_call_fn, lstm_cell_1_layer_call_and_return_conditional_losses while saving (showing 2 of 2). These functions will not be directly callable after loading.\n",
            "WARNING:absl:<keras.layers.recurrent.LSTMCell object at 0x7f3bf00806d0> has the same name 'LSTMCell' as a built-in Keras object. Consider renaming <class 'keras.layers.recurrent.LSTMCell'> to avoid naming conflicts when loading with `tf.keras.models.load_model`. If renaming is not possible, pass the object in the `custom_objects` parameter of the load function.\n"
          ]
        }
      ]
    },
    {
      "cell_type": "code",
      "source": [
        "print(\"Model:\")"
      ],
      "metadata": {
        "colab": {
          "base_uri": "https://localhost:8080/"
        },
        "id": "P92RDEMSs7_a",
        "outputId": "c831a2e3-3f10-41ff-e3ca-02aa76d1060f"
      },
      "execution_count": null,
      "outputs": [
        {
          "output_type": "stream",
          "name": "stdout",
          "text": [
            "Model:\n"
          ]
        }
      ]
    },
    {
      "cell_type": "markdown",
      "metadata": {
        "id": "gjpCDeQ4mUfS"
      },
      "source": [
        "***## Let's check the training and validation loss & accuracy-val_accuracy curves to see how our model has improved during training.***"
      ]
    },
    {
      "cell_type": "code",
      "metadata": {
        "id": "nzhipg3Gu2AY",
        "colab": {
          "base_uri": "https://localhost:8080/",
          "height": 265
        },
        "outputId": "df5d5b59-37a4-465e-cd4d-63f23a669810"
      },
      "source": [
        "metrics = history.history\n",
        "plt.plot(history.epoch, metrics['loss'], metrics['val_loss'])\n",
        "plt.legend(['loss', 'val_loss'])\n",
        "plt.show()"
      ],
      "execution_count": null,
      "outputs": [
        {
          "output_type": "display_data",
          "data": {
            "text/plain": [
              "<Figure size 432x288 with 1 Axes>"
            ],
            "image/png": "[encoded data removed]"
          },
          "metadata": {
            "needs_background": "light"
          }
        }
      ]
    },
    {
      "cell_type": "markdown",
      "metadata": {
        "id": "5ZTt3kO3mfm4"
      },
      "source": [
        "# **Step 7:- Evaluate test set performance**\n",
        "\n",
        "***## Let's run the model on the test set and check performance.***"
      ]
    },
    {
      "cell_type": "code",
      "metadata": {
        "id": "biU2MwzyAo8o"
      },
      "source": [
        "test_audio = []\n",
        "test_labels = []\n",
        "\n",
        "for audio, label in test_ds:\n",
        "  test_audio.append(audio.numpy())\n",
        "  test_labels.append(label.numpy())\n",
        "\n",
        "test_audio = np.array(test_audio)\n",
        "test_labels = np.array(test_labels)"
      ],
      "execution_count": null,
      "outputs": []
    },
    {
      "cell_type": "code",
      "metadata": {
        "id": "ktUanr9mRZky",
        "colab": {
          "base_uri": "https://localhost:8080/"
        },
        "outputId": "2ce39875-82bb-4a10-9903-440631b55df2"
      },
      "source": [
        "y_pred = np.argmax(model.predict(test_audio), axis=1)\n",
        "y_true = test_labels\n",
        "\n",
        "test_acc = sum(y_pred == y_true) / len(y_true)\n",
        "print(f'Test set accuracy: {test_acc:.0%}')"
      ],
      "execution_count": null,
      "outputs": [
        {
          "output_type": "stream",
          "name": "stdout",
          "text": [
            "Test set accuracy: 94%\n"
          ]
        }
      ]
    },
    {
      "cell_type": "markdown",
      "metadata": {
        "id": "en9Znt1NOabH"
      },
      "source": [
        "# **Step 8:- Display a confusion matrix**\n",
        "\n",
        "***## A confusion matrix is helpful to see how well the model did on each of the commands in the test set.***"
      ]
    },
    {
      "cell_type": "code",
      "metadata": {
        "id": "LvoSAOiXU3lL",
        "colab": {
          "base_uri": "https://localhost:8080/",
          "height": 497
        },
        "outputId": "a3ff335c-729f-4fff-9aae-048ef296f474"
      },
      "source": [
        "confusion_mtx = tf.math.confusion_matrix(y_true, y_pred)\n",
        "plt.figure(figsize=(10, 8))\n",
        "sns.heatmap(confusion_mtx, xticklabels=commands, yticklabels=commands,\n",
        "            annot=True, fmt='g')\n",
        "plt.xlabel('Prediction')\n",
        "plt.ylabel('Label')\n",
        "plt.show()"
      ],
      "execution_count": null,
      "outputs": [
        {
          "output_type": "display_data",
          "data": {
            "text/plain": [
              "<Figure size 720x576 with 2 Axes>"
            ],
            "image/png": "[encoded data removed]"
          },
          "metadata": {
            "needs_background": "light"
          }
        }
      ]
    },
    {
      "cell_type": "markdown",
      "metadata": {
        "id": "mQGi_mzPcLvl"
      },
      "source": [
        "# **Step 9:- Run inference on an audio file**\n",
        "\n",
        "***## Finally, verify the model's prediction output using an input audio file of someone saying \"yes.\" How well does your model perform?***"
      ]
    },
    {
      "cell_type": "code",
      "metadata": {
        "id": "zRxauKMdhofU",
        "colab": {
          "base_uri": "https://localhost:8080/",
          "height": 333
        },
        "outputId": "ada9eaee-2dd4-46a3-8568-8aacfaee63ee"
      },
      "source": [
        "sample_file = '/content/data/mini_speech_commands/yes/0132a06d_nohash_1.wav'\n",
        "\n",
        "sample_ds = preprocess_dataset([str(sample_file)])\n",
        "for spectrogram, label in sample_ds.batch(1):\n",
        "  prediction = model(spectrogram)\n",
        "  print(len(commands))\n",
        "  print(tf.nn.softmax(prediction[0]))\n",
        "  print(tf.nn.softmax(prediction))\n",
        "  plt.bar(commands, tf.nn.softmax(prediction[0]))\n",
        "  plt.title(f'Predictions for \"{commands[label[0]]}\"')\n",
        "  plt.show()"
      ],
      "execution_count": null,
      "outputs": [
        {
          "output_type": "stream",
          "name": "stdout",
          "text": [
            "3\n",
            "tf.Tensor([0.57611686 0.21194157 0.21194157], shape=(3,), dtype=float32)\n",
            "tf.Tensor([[0.57611686 0.21194157 0.21194157]], shape=(1, 3), dtype=float32)\n"
          ]
        },
        {
          "output_type": "display_data",
          "data": {
            "text/plain": [
              "<Figure size 432x288 with 1 Axes>"
            ],
            "image/png": "[encoded data removed]"
          },
          "metadata": {
            "needs_background": "light"
          }
        }
      ]
    },
    {
      "cell_type": "markdown",
      "metadata": {
        "id": "VgWICqdqQNaQ"
      },
      "source": [
        "***--We can see that your model very clearly recognized the audio command as \"yes.\"***"
      ]
    },
    {
      "cell_type": "code",
      "execution_count": null,
      "metadata": {
        "colab": {
          "base_uri": "https://localhost:8080/"
        },
        "id": "Mj3qYINuKkxs",
        "outputId": "c3a8b9ce-47b8-4e16-ffc7-8e914bd0476a"
      },
      "outputs": [
        {
          "output_type": "stream",
          "name": "stderr",
          "text": [
            "WARNING:absl:Found untraced functions such as lstm_cell_1_layer_call_fn, lstm_cell_1_layer_call_and_return_conditional_losses while saving (showing 2 of 2). These functions will not be directly callable after loading.\n",
            "WARNING:absl:<keras.layers.recurrent.LSTMCell object at 0x7f3bf00806d0> has the same name 'LSTMCell' as a built-in Keras object. Consider renaming <class 'keras.layers.recurrent.LSTMCell'> to avoid naming conflicts when loading with `tf.keras.models.load_model`. If renaming is not possible, pass the object in the `custom_objects` parameter of the load function.\n"
          ]
        }
      ],
      "source": [
        "model.save(\"./saved_model.h5/\")"
      ]
    },
    {
      "cell_type": "markdown",
      "metadata": {
        "id": "NNPrzNrcDqq8"
      },
      "source": [
        "# **Step 10:- Run TF (Tensorflow) inference on multiple audio files**"
      ]
    },
    {
      "cell_type": "code",
      "metadata": {
        "id": "GmyOg4kwDEVH",
        "colab": {
          "base_uri": "https://localhost:8080/",
          "height": 1000
        },
        "outputId": "5b33d0d9-8778-41aa-aad0-2cd43980af27"
      },
      "source": [
        "import glob\n",
        "import pandas as pd\n",
        "pd.set_option(\"display.precision\", 2)\n",
        "\n",
        "txtfiles = []\n",
        "for file in glob.glob(\"/content/data/mini_speech_commands/unknown/*.wav\"):\n",
        "    txtfiles.append(file)\n",
        "\n",
        "for i in range(25):\n",
        "  print(txtfiles[i])\n",
        "  sample_ds = preprocess_dataset([str(txtfiles[i])])\n",
        "  for spectrogram, label in sample_ds.batch(1):\n",
        "    prediction = model(spectrogram)\n",
        "    plt.bar(commands, tf.nn.softmax(prediction[0]))\n",
        "    plt.title(f'Predictions for \"{commands[label[0]]}\"')\n",
        "    plt.show()"
      ],
      "execution_count": null,
      "outputs": [
        {
          "output_type": "stream",
          "name": "stdout",
          "text": [
            "/content/data/mini_speech_commands/unknown/6794a793_nohash_0.wav\n"
          ]
        },
        {
          "output_type": "display_data",
          "data": {
            "text/plain": [
              "<Figure size 432x288 with 1 Axes>"
            ],
            "image/png": "[encoded data removed]"
          },
          "metadata": {
            "needs_background": "light"
          }
        },
        {
          "output_type": "stream",
          "name": "stdout",
          "text": [
            "/content/data/mini_speech_commands/unknown/7e1054e7_nohash_1.wav\n"
          ]
        },
        {
          "output_type": "display_data",
          "data": {
            "text/plain": [
              "<Figure size 432x288 with 1 Axes>"
            ],
            "image/png": "[encoded data removed]"
          },
          "metadata": {
            "needs_background": "light"
          }
        },
        {
          "output_type": "stream",
          "name": "stdout",
          "text": [
            "/content/data/mini_speech_commands/unknown/e0611c84_nohash_0.wav\n"
          ]
        },
        {
          "output_type": "display_data",
          "data": {
            "text/plain": [
              "<Figure size 432x288 with 1 Axes>"
            ],
            "image/png": "[encoded data removed]"
          },
          "metadata": {
            "needs_background": "light"
          }
        },
        {
          "output_type": "stream",
          "name": "stdout",
          "text": [
            "/content/data/mini_speech_commands/unknown/c8771f88_nohash_0.wav\n"
          ]
        },
        {
          "output_type": "display_data",
          "data": {
            "text/plain": [
              "<Figure size 432x288 with 1 Axes>"
            ],
            "image/png": "[encoded data removed]"
          },
          "metadata": {
            "needs_background": "light"
          }
        },
        {
          "output_type": "stream",
          "name": "stdout",
          "text": [
            "/content/data/mini_speech_commands/unknown/2bfe70ef_nohash_0.wav\n"
          ]
        },
        {
          "output_type": "display_data",
          "data": {
            "text/plain": [
              "<Figure size 432x288 with 1 Axes>"
            ],
            "image/png": "[encoded data removed]"
          },
          "metadata": {
            "needs_background": "light"
          }
        },
        {
          "output_type": "stream",
          "name": "stdout",
          "text": [
            "/content/data/mini_speech_commands/unknown/6c0f6493_nohash_4.wav\n"
          ]
        },
        {
          "output_type": "display_data",
          "data": {
            "text/plain": [
              "<Figure size 432x288 with 1 Axes>"
            ],
            "image/png": "[encoded data removed]"
          },
          "metadata": {
            "needs_background": "light"
          }
        },
        {
          "output_type": "stream",
          "name": "stdout",
          "text": [
            "/content/data/mini_speech_commands/unknown/cc6bae0d_nohash_1.wav\n"
          ]
        },
        {
          "output_type": "display_data",
          "data": {
            "text/plain": [
              "<Figure size 432x288 with 1 Axes>"
            ],
            "image/png": "[encoded data removed]"
          },
          "metadata": {
            "needs_background": "light"
          }
        },
        {
          "output_type": "stream",
          "name": "stdout",
          "text": [
            "/content/data/mini_speech_commands/unknown/037c445a_nohash_0.wav\n"
          ]
        },
        {
          "output_type": "display_data",
          "data": {
            "text/plain": [
              "<Figure size 432x288 with 1 Axes>"
            ],
            "image/png": "[encoded data removed]"
          },
          "metadata": {
            "needs_background": "light"
          }
        },
        {
          "output_type": "stream",
          "name": "stdout",
          "text": [
            "/content/data/mini_speech_commands/unknown/3209ec42_nohash_1.wav\n"
          ]
        },
        {
          "output_type": "display_data",
          "data": {
            "text/plain": [
              "<Figure size 432x288 with 1 Axes>"
            ],
            "image/png": "[encoded data removed]"
          },
          "metadata": {
            "needs_background": "light"
          }
        },
        {
          "output_type": "stream",
          "name": "stdout",
          "text": [
            "/content/data/mini_speech_commands/unknown/71904de3_nohash_0.wav\n"
          ]
        },
        {
          "output_type": "display_data",
          "data": {
            "text/plain": [
              "<Figure size 432x288 with 1 Axes>"
            ],
            "image/png": "[encoded data removed]"
          },
          "metadata": {
            "needs_background": "light"
          }
        },
        {
          "output_type": "stream",
          "name": "stdout",
          "text": [
            "/content/data/mini_speech_commands/unknown/38d78313_nohash_2.wav\n"
          ]
        },
        {
          "output_type": "display_data",
          "data": {
            "text/plain": [
              "<Figure size 432x288 with 1 Axes>"
            ],
            "image/png": "[encoded data removed]"
          },
          "metadata": {
            "needs_background": "light"
          }
        },
        {
          "output_type": "stream",
          "name": "stdout",
          "text": [
            "/content/data/mini_speech_commands/unknown/070b49af_nohash_0.wav\n"
          ]
        },
        {
          "output_type": "display_data",
          "data": {
            "text/plain": [
              "<Figure size 432x288 with 1 Axes>"
            ],
            "image/png": "[encoded data removed]"
          },
          "metadata": {
            "needs_background": "light"
          }
        },
        {
          "output_type": "stream",
          "name": "stdout",
          "text": [
            "/content/data/mini_speech_commands/unknown/5fadb538_nohash_3.wav\n"
          ]
        },
        {
          "output_type": "display_data",
          "data": {
            "text/plain": [
              "<Figure size 432x288 with 1 Axes>"
            ],
            "image/png": "[encoded data removed]"
          },
          "metadata": {
            "needs_background": "light"
          }
        },
        {
          "output_type": "stream",
          "name": "stdout",
          "text": [
            "/content/data/mini_speech_commands/unknown/fa446c16_nohash_1.wav\n"
          ]
        },
        {
          "output_type": "display_data",
          "data": {
            "text/plain": [
              "<Figure size 432x288 with 1 Axes>"
            ],
            "image/png": "[encoded data removed]"
          },
          "metadata": {
            "needs_background": "light"
          }
        },
        {
          "output_type": "stream",
          "name": "stdout",
          "text": [
            "/content/data/mini_speech_commands/unknown/ae927455_nohash_3.wav\n"
          ]
        },
        {
          "output_type": "display_data",
          "data": {
            "text/plain": [
              "<Figure size 432x288 with 1 Axes>"
            ],
            "image/png": "[encoded data removed]"
          },
          "metadata": {
            "needs_background": "light"
          }
        },
        {
          "output_type": "stream",
          "name": "stdout",
          "text": [
            "/content/data/mini_speech_commands/unknown/5de3f6cc_nohash_0.wav\n"
          ]
        },
        {
          "output_type": "display_data",
          "data": {
            "text/plain": [
              "<Figure size 432x288 with 1 Axes>"
            ],
            "image/png": "[encoded data removed]"
          },
          "metadata": {
            "needs_background": "light"
          }
        },
        {
          "output_type": "stream",
          "name": "stdout",
          "text": [
            "/content/data/mini_speech_commands/unknown/837f7378_nohash_0.wav\n"
          ]
        },
        {
          "output_type": "display_data",
          "data": {
            "text/plain": [
              "<Figure size 432x288 with 1 Axes>"
            ],
            "image/png": "[encoded data removed]"
          },
          "metadata": {
            "needs_background": "light"
          }
        },
        {
          "output_type": "stream",
          "name": "stdout",
          "text": [
            "/content/data/mini_speech_commands/unknown/31267b59_nohash_0.wav\n"
          ]
        },
        {
          "output_type": "display_data",
          "data": {
            "text/plain": [
              "<Figure size 432x288 with 1 Axes>"
            ],
            "image/png": "[encoded data removed]"
          },
          "metadata": {
            "needs_background": "light"
          }
        },
        {
          "output_type": "stream",
          "name": "stdout",
          "text": [
            "/content/data/mini_speech_commands/unknown/7a5530c9_nohash_1.wav\n"
          ]
        },
        {
          "output_type": "display_data",
          "data": {
            "text/plain": [
              "<Figure size 432x288 with 1 Axes>"
            ],
            "image/png": "[encoded data removed]"
          },
          "metadata": {
            "needs_background": "light"
          }
        },
        {
          "output_type": "stream",
          "name": "stdout",
          "text": [
            "/content/data/mini_speech_commands/unknown/e4b02540_nohash_0.wav\n"
          ]
        },
        {
          "output_type": "display_data",
          "data": {
            "text/plain": [
              "<Figure size 432x288 with 1 Axes>"
            ],
            "image/png": "[encoded data removed]"
          },
          "metadata": {
            "needs_background": "light"
          }
        },
        {
          "output_type": "stream",
          "name": "stdout",
          "text": [
            "/content/data/mini_speech_commands/unknown/82c6d220_nohash_1.wav\n"
          ]
        },
        {
          "output_type": "display_data",
          "data": {
            "text/plain": [
              "<Figure size 432x288 with 1 Axes>"
            ],
            "image/png": "[encoded data removed]"
          },
          "metadata": {
            "needs_background": "light"
          }
        },
        {
          "output_type": "stream",
          "name": "stdout",
          "text": [
            "/content/data/mini_speech_commands/unknown/8c7b691a_nohash_0.wav\n"
          ]
        },
        {
          "output_type": "display_data",
          "data": {
            "text/plain": [
              "<Figure size 432x288 with 1 Axes>"
            ],
            "image/png": "[encoded data removed]"
          },
          "metadata": {
            "needs_background": "light"
          }
        },
        {
          "output_type": "stream",
          "name": "stdout",
          "text": [
            "/content/data/mini_speech_commands/unknown/6727b579_nohash_2.wav\n"
          ]
        },
        {
          "output_type": "display_data",
          "data": {
            "text/plain": [
              "<Figure size 432x288 with 1 Axes>"
            ],
            "image/png": "[encoded data removed]"
          },
          "metadata": {
            "needs_background": "light"
          }
        },
        {
          "output_type": "stream",
          "name": "stdout",
          "text": [
            "/content/data/mini_speech_commands/unknown/8b39e36f_nohash_1.wav\n"
          ]
        },
        {
          "output_type": "display_data",
          "data": {
            "text/plain": [
              "<Figure size 432x288 with 1 Axes>"
            ],
            "image/png": "[encoded data removed]"
          },
          "metadata": {
            "needs_background": "light"
          }
        },
        {
          "output_type": "stream",
          "name": "stdout",
          "text": [
            "/content/data/mini_speech_commands/unknown/eb0676ec_nohash_0.wav\n"
          ]
        },
        {
          "output_type": "display_data",
          "data": {
            "text/plain": [
              "<Figure size 432x288 with 1 Axes>"
            ],
            "image/png": "[encoded data removed]"
          },
          "metadata": {
            "needs_background": "light"
          }
        }
      ]
    },
    {
      "cell_type": "markdown",
      "source": [
        "# ***Step 11:- Trained model weights visualizations layerwise***"
      ],
      "metadata": {
        "id": "VyR60J45JDO-"
      }
    },
    {
      "cell_type": "markdown",
      "source": [
        "***Step 11.1:- Weights for Layer [0]***"
      ],
      "metadata": {
        "id": "19K-w2oWJb4i"
      }
    },
    {
      "cell_type": "code",
      "source": [
        "model.get_weights()[0]\n",
        "\n",
        "\n"
      ],
      "metadata": {
        "colab": {
          "base_uri": "https://localhost:8080/"
        },
        "outputId": "504dfd17-e35c-400e-f30c-dd4a9e723756",
        "id": "wPmNRewGJ4oE"
      },
      "execution_count": null,
      "outputs": [
        {
          "output_type": "execute_result",
          "data": {
            "text/plain": [
              "array([[ 0.07494675,  0.03912783, -0.02228122, ...,  0.06316861,\n",
              "        -0.08789887,  0.05863257],\n",
              "       [ 0.09791417,  0.04359267, -0.13420914, ...,  0.02945278,\n",
              "        -0.06535106, -0.05318328],\n",
              "       [-0.01138164,  0.01260689, -0.09285012, ...,  0.17173903,\n",
              "         0.13254495, -0.18717386],\n",
              "       ...,\n",
              "       [ 0.17602918, -0.16493158, -0.04272654, ..., -0.19131006,\n",
              "        -0.00866026,  0.02560443],\n",
              "       [ 0.11876293, -0.06680916, -0.05857946, ..., -0.24740016,\n",
              "         0.03912716, -0.01557422],\n",
              "       [ 0.14850059, -0.12527737,  0.00428717, ..., -0.24339913,\n",
              "        -0.05492501, -0.0792207 ]], dtype=float32)"
            ]
          },
          "metadata": {},
          "execution_count": 59
        }
      ]
    },
    {
      "cell_type": "markdown",
      "source": [
        "***Step 11.2:- Weights for Layer [1]***"
      ],
      "metadata": {
        "id": "3f63tgZkJ9L-"
      }
    },
    {
      "cell_type": "code",
      "source": [
        "model.get_weights()[1]"
      ],
      "metadata": {
        "colab": {
          "base_uri": "https://localhost:8080/"
        },
        "id": "dq7fzZ0pJtLz",
        "outputId": "b254246a-b141-4251-a714-a81e06273caf"
      },
      "execution_count": null,
      "outputs": [
        {
          "output_type": "execute_result",
          "data": {
            "text/plain": [
              "array([[-0.06080294,  0.11674429,  0.00677274, ..., -0.01825441,\n",
              "         0.23747472,  0.03532412],\n",
              "       [-0.02085792,  0.03370494,  0.17107809, ...,  0.10651273,\n",
              "         0.1016257 , -0.03583364],\n",
              "       [ 0.13742787, -0.06362658,  0.12782261, ..., -0.07405598,\n",
              "         0.31147316, -0.00242772],\n",
              "       ...,\n",
              "       [-0.20358603,  0.06468102, -0.2748718 , ...,  0.03596471,\n",
              "        -0.01105351, -0.02000266],\n",
              "       [-0.00906198,  0.16464339,  0.07520864, ...,  0.0103049 ,\n",
              "         0.1229859 ,  0.17122254],\n",
              "       [ 0.17378385,  0.17337933,  0.03175817, ...,  0.13805214,\n",
              "        -0.12137617, -0.02062947]], dtype=float32)"
            ]
          },
          "metadata": {},
          "execution_count": 60
        }
      ]
    },
    {
      "cell_type": "markdown",
      "source": [
        "***Step 11.3:- Weights for Layer [2]***"
      ],
      "metadata": {
        "id": "jJiv8AC4KN_4"
      }
    },
    {
      "cell_type": "code",
      "source": [
        "model.get_weights()[2]"
      ],
      "metadata": {
        "colab": {
          "base_uri": "https://localhost:8080/"
        },
        "id": "k0c6s3gdJaRY",
        "outputId": "4395d8b5-b8df-46bf-b68c-fdf16aafb231"
      },
      "execution_count": null,
      "outputs": [
        {
          "output_type": "execute_result",
          "data": {
            "text/plain": [
              "array([-4.97249514e-03, -5.02500571e-02, -9.13476422e-02, -4.30004001e-02,\n",
              "       -6.92659756e-03,  1.20815299e-02, -2.40374431e-02, -1.58335984e-01,\n",
              "       -6.30542785e-02,  1.04762889e-01, -1.26684800e-01,  8.14979747e-02,\n",
              "        7.18823597e-02, -1.37591943e-01,  3.73544032e-03,  2.92371958e-02,\n",
              "       -6.70067966e-02,  5.19426055e-02, -8.86380002e-02, -6.02260605e-02,\n",
              "       -8.60294625e-02, -1.26065966e-02,  6.27078861e-02,  1.29610067e-02,\n",
              "       -8.79516602e-02,  3.18972319e-02, -7.69281685e-02,  7.70414099e-02,\n",
              "       -2.63044089e-02, -1.40209436e-01, -5.39996810e-02,  4.57578562e-02,\n",
              "       -4.45864201e-02, -7.54076317e-02, -4.10037488e-02,  1.04395403e-02,\n",
              "       -3.62885557e-02, -9.86084342e-02, -2.05228515e-02, -7.09173828e-02,\n",
              "        3.10520716e-02, -4.86839488e-02,  1.09129094e-01, -1.20437471e-02,\n",
              "       -3.94521989e-02,  1.50974840e-01, -2.86302455e-02, -1.08288871e-02,\n",
              "        2.98524015e-02, -9.37893465e-02,  1.62864234e-02, -1.01181552e-01,\n",
              "       -1.42770872e-01, -4.55944315e-02, -8.23507085e-02,  8.99611339e-02,\n",
              "        1.51275858e-01, -2.01641694e-02, -7.05610216e-02, -3.77879813e-02,\n",
              "        9.11203995e-02,  5.54262623e-02, -1.54771298e-01,  4.63558808e-02,\n",
              "       -5.02246730e-02,  2.97044553e-02, -9.13401600e-03, -8.63360092e-02,\n",
              "       -1.84424128e-02, -5.58782928e-02, -1.42611461e-02,  5.47844693e-02,\n",
              "       -1.59552731e-02,  1.87662855e-01, -2.15828680e-02,  1.54127747e-01,\n",
              "       -8.02041590e-02, -1.12687275e-01,  3.01395189e-02,  2.96078771e-02,\n",
              "        1.15717256e+00,  9.13243353e-01,  1.11925924e+00,  9.82481062e-01,\n",
              "        1.09662151e+00,  1.02147985e+00,  9.85971153e-01,  9.78302300e-01,\n",
              "        9.94587243e-01,  1.02219212e+00,  9.11461651e-01,  1.05774963e+00,\n",
              "        1.06070685e+00,  1.01547468e+00,  8.41905355e-01,  1.04207134e+00,\n",
              "        1.08418584e+00,  9.99423683e-01,  9.52138126e-01,  9.27103043e-01,\n",
              "        9.70554054e-01,  9.52923179e-01,  1.15480912e+00,  1.04471338e+00,\n",
              "        9.96679962e-01,  1.00789273e+00,  9.08040524e-01,  1.13305891e+00,\n",
              "        1.08004272e+00,  9.26350236e-01,  1.03457630e+00,  1.00133753e+00,\n",
              "        9.64372516e-01,  9.72180247e-01,  9.94209588e-01,  1.02031410e+00,\n",
              "        9.72931206e-01,  9.30810750e-01,  1.04956400e+00,  1.01048052e+00,\n",
              "        1.00106585e+00,  9.07948792e-01,  1.05458295e+00,  8.70067775e-01,\n",
              "        1.03012860e+00,  1.20476973e+00,  9.83557105e-01,  1.05135012e+00,\n",
              "        9.32609320e-01,  9.72634912e-01,  9.83911216e-01,  8.65582705e-01,\n",
              "        9.18943822e-01,  9.86202896e-01,  9.63595152e-01,  1.09821570e+00,\n",
              "        1.13764203e+00,  1.06678092e+00,  1.09154963e+00,  9.54767406e-01,\n",
              "        1.07992899e+00,  8.39209437e-01,  1.03739381e+00,  8.21540296e-01,\n",
              "        9.75220680e-01,  1.14811385e+00,  9.73994195e-01,  1.00044990e+00,\n",
              "        9.52670991e-01,  9.46104705e-01,  1.02738404e+00,  9.24783289e-01,\n",
              "        9.80562568e-01,  1.16343117e+00,  9.06578362e-01,  1.08477378e+00,\n",
              "        9.51318800e-01,  1.10191941e+00,  8.93758714e-01,  9.88129795e-01,\n",
              "        2.71687959e-03, -4.12962623e-02,  8.98278551e-04,  4.48707342e-02,\n",
              "       -3.82648073e-02, -6.73947781e-02, -1.02270469e-02,  2.26664003e-02,\n",
              "        3.56489941e-02, -1.21750552e-02, -9.38586774e-04,  3.45234498e-02,\n",
              "       -1.90733224e-02,  2.20364518e-02,  1.38434768e-02, -1.46997608e-02,\n",
              "       -3.73156811e-03, -6.84163943e-02,  2.93305842e-03, -4.46412899e-02,\n",
              "       -5.14736772e-02, -4.63293865e-02, -1.67489480e-02,  2.58492157e-02,\n",
              "       -7.30068143e-03, -1.72841586e-02,  4.48616408e-02, -7.37090874e-03,\n",
              "       -1.19362622e-02,  4.00468707e-02,  1.40170716e-02, -2.84217740e-03,\n",
              "        4.43773018e-03, -4.60519530e-02, -4.92741317e-02, -1.97361186e-02,\n",
              "        1.46177290e-02, -4.38833237e-02, -3.46668735e-02,  4.83120093e-03,\n",
              "        6.24463055e-03,  3.42751620e-04, -9.22903512e-03, -8.45477637e-03,\n",
              "        2.72795130e-02, -2.83470415e-02,  9.30545572e-03, -4.88225184e-02,\n",
              "        1.88660808e-02,  9.20121558e-03,  9.85224266e-04,  4.20351280e-03,\n",
              "        6.87301680e-02,  5.64654882e-04,  1.68304443e-02,  5.49988188e-02,\n",
              "        1.44168139e-02,  2.63789222e-02, -3.81898391e-03, -7.22683035e-05,\n",
              "        4.42053005e-03, -5.30877849e-03,  3.30856442e-02,  1.29905879e-03,\n",
              "        2.57719308e-02,  3.76757048e-02,  6.36190362e-03,  1.18913604e-02,\n",
              "       -1.26890382e-02,  8.27626139e-03, -3.99192236e-02,  3.25441398e-02,\n",
              "       -8.25190078e-03,  1.58286337e-02,  3.77999223e-03,  6.53300807e-03,\n",
              "       -1.82993039e-02, -5.12448326e-02,  4.06443886e-03,  6.70300797e-02,\n",
              "        2.92373188e-02, -3.49382833e-02, -3.86894681e-04, -3.87313403e-02,\n",
              "        2.68891826e-02,  4.14576568e-02, -1.81878656e-02,  3.52458209e-02,\n",
              "       -1.87491737e-02, -4.70019653e-02, -2.39416249e-02,  1.06144339e-01,\n",
              "        3.78722176e-02,  4.13802154e-02, -5.92318596e-03,  1.68250594e-02,\n",
              "        5.09823337e-02,  3.04201953e-02,  4.14055623e-02, -7.80374929e-02,\n",
              "       -7.45693743e-02, -1.41514707e-02,  1.51782818e-02, -4.62560467e-02,\n",
              "       -2.18084808e-02,  4.37935777e-02,  1.53936131e-03,  2.99117938e-02,\n",
              "        3.46491300e-02, -1.13634713e-01,  1.00017767e-02,  1.94672290e-02,\n",
              "        7.56470719e-03, -3.12725268e-02, -6.05400130e-02,  2.37020198e-02,\n",
              "        2.78642867e-02, -4.68463218e-03,  3.19894258e-04, -4.92266305e-02,\n",
              "        3.48395184e-02, -9.99275371e-02,  8.56179595e-02, -5.05787097e-02,\n",
              "       -6.94926158e-02,  5.59924506e-02,  1.42394662e-01,  8.37745611e-03,\n",
              "        3.75787355e-02, -4.97532263e-02, -2.03407630e-02, -6.38033897e-02,\n",
              "       -7.23227486e-02, -2.43689120e-02,  2.12816354e-02,  1.34962454e-01,\n",
              "        1.79368425e-02, -1.18187815e-02, -9.34441481e-03, -6.69560805e-02,\n",
              "        1.03924826e-01, -2.84967907e-02,  6.28206693e-03,  3.10181314e-03,\n",
              "       -5.09918854e-02,  9.39395092e-03, -7.02669024e-02, -2.13484354e-02,\n",
              "        3.33473384e-02, -1.86657533e-02,  3.95123363e-02,  6.28178939e-02,\n",
              "       -3.84151302e-02,  1.33658051e-01, -8.54187459e-02,  9.39877555e-02,\n",
              "       -2.41011940e-02,  2.49976832e-02, -1.18949525e-01,  2.83661056e-02],\n",
              "      dtype=float32)"
            ]
          },
          "metadata": {},
          "execution_count": 61
        }
      ]
    },
    {
      "cell_type": "markdown",
      "source": [
        "***Step 11.4:- Weights for Layer [3]***"
      ],
      "metadata": {
        "id": "eaxhJ-W5KbQw"
      }
    },
    {
      "cell_type": "code",
      "source": [
        "model.get_weights()[3]"
      ],
      "metadata": {
        "colab": {
          "base_uri": "https://localhost:8080/"
        },
        "id": "yAdn-vbJKf5C",
        "outputId": "92af442e-7d3a-4158-f8de-cfff931b3542"
      },
      "execution_count": null,
      "outputs": [
        {
          "output_type": "execute_result",
          "data": {
            "text/plain": [
              "array([[ 0.08048522,  0.00823719, -0.05111016],\n",
              "       [-0.14663814, -0.05994761,  0.13583085],\n",
              "       [-0.08719911, -0.02458129,  0.08829708],\n",
              "       ...,\n",
              "       [-0.22080986,  0.01297371,  0.0588188 ],\n",
              "       [ 0.07233882, -0.01199459,  0.00556055],\n",
              "       [-0.03929587, -0.05739682,  0.0569095 ]], dtype=float32)"
            ]
          },
          "metadata": {},
          "execution_count": 62
        }
      ]
    },
    {
      "cell_type": "markdown",
      "source": [
        "# ***Step 12:- Apply Affine quantization scheme on Trained model weights layer by layer***"
      ],
      "metadata": {
        "id": "RmKHHWO-LQCJ"
      }
    },
    {
      "cell_type": "code",
      "source": [
        "import numpy as np\n",
        "Input_shape = (49, 257)\n",
        "s_len = 49 * 257\n",
        "s = np.arange(s_len).reshape(Input_shape)\n",
        "print(s.shape)\n",
        "print(s)\n",
        "s.dtype"
      ],
      "metadata": {
        "colab": {
          "base_uri": "https://localhost:8080/"
        },
        "id": "RZe_LGqm2E0c",
        "outputId": "3b3f74b8-e9c3-4507-a550-17996077bf20"
      },
      "execution_count": null,
      "outputs": [
        {
          "output_type": "stream",
          "name": "stdout",
          "text": [
            "(49, 257)\n",
            "[[    0     1     2 ...   254   255   256]\n",
            " [  257   258   259 ...   511   512   513]\n",
            " [  514   515   516 ...   768   769   770]\n",
            " ...\n",
            " [11822 11823 11824 ... 12076 12077 12078]\n",
            " [12079 12080 12081 ... 12333 12334 12335]\n",
            " [12336 12337 12338 ... 12590 12591 12592]]\n"
          ]
        },
        {
          "output_type": "execute_result",
          "data": {
            "text/plain": [
              "dtype('int64')"
            ]
          },
          "metadata": {},
          "execution_count": 112
        }
      ]
    },
    {
      "cell_type": "code",
      "source": [
        "# Min-Max value of float_32 tensor (x) find out for scale (s) and zero point (z)\n",
        "\n",
        "b0 = np.amax(s)\n",
        "print(b0)"
      ],
      "metadata": {
        "colab": {
          "base_uri": "https://localhost:8080/"
        },
        "outputId": "32ef9ca0-296a-4a47-a43b-f069a3863e34",
        "id": "3lnZwcUK2FLW"
      },
      "execution_count": null,
      "outputs": [
        {
          "output_type": "stream",
          "name": "stdout",
          "text": [
            "12592\n"
          ]
        }
      ]
    },
    {
      "cell_type": "code",
      "source": [
        "# Min-Max value of float_32 tensor (x) find out for scale (s) and zero point (z)\n",
        "\n",
        "b0 = np.amax(s)\n",
        "print(b0)"
      ],
      "metadata": {
        "colab": {
          "base_uri": "https://localhost:8080/"
        },
        "outputId": "d7e34dbb-a368-446d-b102-11084c248edc",
        "id": "8bfhfUFf2K0t"
      },
      "execution_count": null,
      "outputs": [
        {
          "output_type": "stream",
          "name": "stdout",
          "text": [
            "12592\n"
          ]
        }
      ]
    },
    {
      "cell_type": "code",
      "source": [
        "a0 = np.amin(s)\n",
        "print(a0)"
      ],
      "metadata": {
        "colab": {
          "base_uri": "https://localhost:8080/"
        },
        "outputId": "f75b7159-1a1d-45b7-8ef4-371e1ff1bfdf",
        "id": "jKNFjmM_2Nru"
      },
      "execution_count": null,
      "outputs": [
        {
          "output_type": "stream",
          "name": "stdout",
          "text": [
            "0\n"
          ]
        }
      ]
    },
    {
      "cell_type": "code",
      "source": [
        "# scale value\n",
        "\n",
        "scale0 = (b0-a0)/15\n",
        "\n",
        "print(scale0)"
      ],
      "metadata": {
        "colab": {
          "base_uri": "https://localhost:8080/"
        },
        "outputId": "26131d4d-83be-4302-ac8d-a46a33e909fe",
        "id": "HFrRaIJd2P6_"
      },
      "execution_count": null,
      "outputs": [
        {
          "output_type": "stream",
          "name": "stdout",
          "text": [
            "839.4666666666667\n"
          ]
        }
      ]
    },
    {
      "cell_type": "code",
      "source": [
        "# zero point\n",
        "\n",
        "zero_point0 = np.round(-a0*15/(b0-a0))\n",
        "\n",
        "print(zero_point0)"
      ],
      "metadata": {
        "colab": {
          "base_uri": "https://localhost:8080/"
        },
        "outputId": "42e18c1b-d606-4a6e-a137-34b3e89c7110",
        "id": "UjTb-i_52SGX"
      },
      "execution_count": null,
      "outputs": [
        {
          "output_type": "stream",
          "name": "stdout",
          "text": [
            "0.0\n"
          ]
        }
      ]
    },
    {
      "cell_type": "code",
      "source": [
        "f0 = np.round(s/scale0 + zero_point0)\n",
        "print(f0)\n",
        "s0q = np.clip(f0, a_min=0, a_max=15) # Here min & max value we can change as per Tbit.\n",
        "# But, I have checked for 4 bit\n",
        "print (s0q)"
      ],
      "metadata": {
        "colab": {
          "base_uri": "https://localhost:8080/"
        },
        "outputId": "909d37c9-7f0b-40da-d9d9-652f5c8c6faf",
        "id": "0SRaLLTy2VH_"
      },
      "execution_count": null,
      "outputs": [
        {
          "output_type": "stream",
          "name": "stdout",
          "text": [
            "[[ 0.  0.  0. ...  0.  0.  0.]\n",
            " [ 0.  0.  0. ...  1.  1.  1.]\n",
            " [ 1.  1.  1. ...  1.  1.  1.]\n",
            " ...\n",
            " [14. 14. 14. ... 14. 14. 14.]\n",
            " [14. 14. 14. ... 15. 15. 15.]\n",
            " [15. 15. 15. ... 15. 15. 15.]]\n",
            "[[ 0.  0.  0. ...  0.  0.  0.]\n",
            " [ 0.  0.  0. ...  1.  1.  1.]\n",
            " [ 1.  1.  1. ...  1.  1.  1.]\n",
            " ...\n",
            " [14. 14. 14. ... 14. 14. 14.]\n",
            " [14. 14. 14. ... 15. 15. 15.]\n",
            " [15. 15. 15. ... 15. 15. 15.]]\n"
          ]
        }
      ]
    },
    {
      "cell_type": "markdown",
      "source": [
        "### ***Step 12.1:- Quantization apply on Weights for Layer [0]***"
      ],
      "metadata": {
        "id": "8ccQrR63L1Zl"
      }
    },
    {
      "cell_type": "code",
      "source": [
        "T0 = np.array (model.get_weights()[0])\n",
        "print(T0)\n",
        "print(T0.shape)\n"
      ],
      "metadata": {
        "id": "RTKN43xMg5Xd",
        "colab": {
          "base_uri": "https://localhost:8080/"
        },
        "outputId": "b7682fef-8564-4bae-ef7d-6bf6c38df1d6"
      },
      "execution_count": null,
      "outputs": [
        {
          "output_type": "stream",
          "name": "stdout",
          "text": [
            "[[ 0.07494675  0.03912783 -0.02228122 ...  0.06316861 -0.08789887\n",
            "   0.05863257]\n",
            " [ 0.09791417  0.04359267 -0.13420914 ...  0.02945278 -0.06535106\n",
            "  -0.05318328]\n",
            " [-0.01138164  0.01260689 -0.09285012 ...  0.17173903  0.13254495\n",
            "  -0.18717386]\n",
            " ...\n",
            " [ 0.17602918 -0.16493158 -0.04272654 ... -0.19131006 -0.00866026\n",
            "   0.02560443]\n",
            " [ 0.11876293 -0.06680916 -0.05857946 ... -0.24740016  0.03912716\n",
            "  -0.01557422]\n",
            " [ 0.14850059 -0.12527737  0.00428717 ... -0.24339913 -0.05492501\n",
            "  -0.0792207 ]]\n",
            "(257, 320)\n"
          ]
        }
      ]
    },
    {
      "cell_type": "code",
      "source": [
        "# Min-Max value of float_32 tensor (x) find out for scale (s) and zero point (z)\n",
        "\n",
        "b0 = np.amax(T0)\n",
        "print(b0)"
      ],
      "metadata": {
        "id": "2IFAMhPnCAfg",
        "colab": {
          "base_uri": "https://localhost:8080/"
        },
        "outputId": "d8b15430-379a-47cd-b149-a7e807126978"
      },
      "execution_count": null,
      "outputs": [
        {
          "output_type": "stream",
          "name": "stdout",
          "text": [
            "0.6752613\n"
          ]
        }
      ]
    },
    {
      "cell_type": "code",
      "source": [
        "a0 = np.amin(T0)\n",
        "print(a0)"
      ],
      "metadata": {
        "id": "xm320ufUCFDa",
        "colab": {
          "base_uri": "https://localhost:8080/"
        },
        "outputId": "a4075320-2e5b-4f7a-84cf-3906575957ac"
      },
      "execution_count": null,
      "outputs": [
        {
          "output_type": "stream",
          "name": "stdout",
          "text": [
            "-0.56484795\n"
          ]
        }
      ]
    },
    {
      "cell_type": "code",
      "source": [
        "# scale value\n",
        "\n",
        "scale0 = (b0-a0)/15\n",
        "\n",
        "print(scale0)"
      ],
      "metadata": {
        "id": "3CUmdnx7COOI",
        "colab": {
          "base_uri": "https://localhost:8080/"
        },
        "outputId": "d7df4a81-9769-47d4-9cd8-9934a0dd12b3"
      },
      "execution_count": null,
      "outputs": [
        {
          "output_type": "stream",
          "name": "stdout",
          "text": [
            "0.08267394701639812\n"
          ]
        }
      ]
    },
    {
      "cell_type": "code",
      "source": [
        "# zero point\n",
        "\n",
        "zero_point0 = np.round(-a0*15/(b0-a0))\n",
        "\n",
        "print(zero_point0)"
      ],
      "metadata": {
        "id": "B_RCVEBJCS_N",
        "colab": {
          "base_uri": "https://localhost:8080/"
        },
        "outputId": "10b37989-896a-47c9-9d42-2d6d57de7dcb"
      },
      "execution_count": null,
      "outputs": [
        {
          "output_type": "stream",
          "name": "stdout",
          "text": [
            "7.0\n"
          ]
        }
      ]
    },
    {
      "cell_type": "code",
      "source": [
        "f0 = np.round(T0/scale0 + zero_point0)\n",
        "print(f0)\n",
        "T0q = np.clip(f0, a_min=0, a_max=15) # Here min & max value we can change as per Tbit.\n",
        "# But, I have checked for 16 bit\n",
        "print (T0q)"
      ],
      "metadata": {
        "id": "m7r1PAKfV1Dr",
        "colab": {
          "base_uri": "https://localhost:8080/"
        },
        "outputId": "35f51118-7093-4e55-f56c-0cef979f6762"
      },
      "execution_count": null,
      "outputs": [
        {
          "output_type": "stream",
          "name": "stdout",
          "text": [
            "[[8. 7. 7. ... 8. 6. 8.]\n",
            " [8. 8. 5. ... 7. 6. 6.]\n",
            " [7. 7. 6. ... 9. 9. 5.]\n",
            " ...\n",
            " [9. 5. 6. ... 5. 7. 7.]\n",
            " [8. 6. 6. ... 4. 7. 7.]\n",
            " [9. 5. 7. ... 4. 6. 6.]]\n",
            "[[8. 7. 7. ... 8. 6. 8.]\n",
            " [8. 8. 5. ... 7. 6. 6.]\n",
            " [7. 7. 6. ... 9. 9. 5.]\n",
            " ...\n",
            " [9. 5. 6. ... 5. 7. 7.]\n",
            " [8. 6. 6. ... 4. 7. 7.]\n",
            " [9. 5. 7. ... 4. 6. 6.]]\n"
          ]
        }
      ]
    },
    {
      "cell_type": "code",
      "source": [
        "j = tf.matmul(s0q, T0q)\n",
        "print(j)"
      ],
      "metadata": {
        "colab": {
          "base_uri": "https://localhost:8080/"
        },
        "id": "EsBU7J1R3dTr",
        "outputId": "253745f8-50e4-4870-a7d1-e56495267dc4"
      },
      "execution_count": null,
      "outputs": [
        {
          "output_type": "stream",
          "name": "stdout",
          "text": [
            "tf.Tensor(\n",
            "[[    0.     0.     0. ...     0.     0.     0.]\n",
            " [  650.   692.   633. ...   544.   570.   691.]\n",
            " [ 1760.  1840.  1895. ...  1701.  1791.  1830.]\n",
            " ...\n",
            " [24640. 25760. 26530. ... 23814. 25074. 25620.]\n",
            " [25711. 26906. 27728. ... 24811. 26142. 26751.]\n",
            " [26400. 27600. 28425. ... 25515. 26865. 27450.]], shape=(49, 320), dtype=float64)\n"
          ]
        }
      ]
    },
    {
      "cell_type": "code",
      "source": [
        "T0dq = scale0*(T0q - zero_point0)\n",
        "print(T0dq)"
      ],
      "metadata": {
        "colab": {
          "base_uri": "https://localhost:8080/"
        },
        "id": "mkBcnWa29WyW",
        "outputId": "4c7388c6-c3ff-4013-db57-fad8bc3fcc95"
      },
      "execution_count": null,
      "outputs": [
        {
          "output_type": "stream",
          "name": "stdout",
          "text": [
            "[[ 0.07495342  0.03913246 -0.0222722  ...  0.06316449 -0.08789666\n",
            "   0.05864193]\n",
            " [ 0.09790685  0.04359826 -0.13420089 ...  0.02944396 -0.06535954\n",
            "  -0.05319214]\n",
            " [-0.01137264  0.01260262 -0.09285445 ...  0.17174383  0.13253567\n",
            "  -0.18716595]\n",
            " ...\n",
            " [ 0.17602038 -0.1649316  -0.04272781 ... -0.19131005 -0.00866667\n",
            "   0.02560262]\n",
            " [ 0.11875983 -0.0668166  -0.05858516 ... -0.2473974   0.03913246\n",
            "  -0.01557351]\n",
            " [ 0.14850655 -0.1252693   0.00429549 ... -0.24340467 -0.05493305\n",
            "  -0.07922999]]\n"
          ]
        }
      ]
    },
    {
      "cell_type": "code",
      "source": [
        "# print input and target tensors\n",
        "print(\"Input Tensor:\\n\", T0)\n",
        "print(\"Target Tensor:\\n\", T0dq)\n",
        "mse = tf.keras.losses.MeanAbsoluteError()\n",
        "mse(T0dq, T0).numpy()"
      ],
      "metadata": {
        "id": "6VASS98rli0_",
        "colab": {
          "base_uri": "https://localhost:8080/"
        },
        "outputId": "9a33b66d-e77f-419a-f421-40c1a7b502f2"
      },
      "execution_count": null,
      "outputs": [
        {
          "output_type": "stream",
          "name": "stdout",
          "text": [
            "Input Tensor:\n",
            " [[ 0.07494675  0.03912783 -0.02228122 ...  0.06316861 -0.08789887\n",
            "   0.05863257]\n",
            " [ 0.09791417  0.04359267 -0.13420914 ...  0.02945278 -0.06535106\n",
            "  -0.05318328]\n",
            " [-0.01138164  0.01260689 -0.09285012 ...  0.17173903  0.13254495\n",
            "  -0.18717386]\n",
            " ...\n",
            " [ 0.17602918 -0.16493158 -0.04272654 ... -0.19131006 -0.00866026\n",
            "   0.02560443]\n",
            " [ 0.11876293 -0.06680916 -0.05857946 ... -0.24740016  0.03912716\n",
            "  -0.01557422]\n",
            " [ 0.14850059 -0.12527737  0.00428717 ... -0.24339913 -0.05492501\n",
            "  -0.0792207 ]]\n",
            "Target Tensor:\n",
            " [[ 0.07495342  0.03913246 -0.0222722  ...  0.06316449 -0.08789666\n",
            "   0.05864193]\n",
            " [ 0.09790685  0.04359826 -0.13420089 ...  0.02944396 -0.06535954\n",
            "  -0.05319214]\n",
            " [-0.01137264  0.01260262 -0.09285445 ...  0.17174383  0.13253567\n",
            "  -0.18716595]\n",
            " ...\n",
            " [ 0.17602038 -0.1649316  -0.04272781 ... -0.19131005 -0.00866667\n",
            "   0.02560262]\n",
            " [ 0.11875983 -0.0668166  -0.05858516 ... -0.2473974   0.03913246\n",
            "  -0.01557351]\n",
            " [ 0.14850655 -0.1252693   0.00429549 ... -0.24340467 -0.05493305\n",
            "  -0.07922999]]\n"
          ]
        },
        {
          "output_type": "execute_result",
          "data": {
            "text/plain": [
              "4.733479e-06"
            ]
          },
          "metadata": {},
          "execution_count": 77
        }
      ]
    },
    {
      "cell_type": "code",
      "source": [
        "# print input and target tensors\n",
        "print(\"Input Tensor:\\n\", T0)\n",
        "print(\"Target Tensor:\\n\", T0dq)\n",
        "mse = tf.keras.losses.MeanSquaredError()\n",
        "mse(T0dq, T0).numpy()"
      ],
      "metadata": {
        "colab": {
          "base_uri": "https://localhost:8080/"
        },
        "outputId": "bbaa0c9c-379a-4aea-d8c2-8eb84bbd47ef",
        "id": "IFD-FJLnPYFE"
      },
      "execution_count": null,
      "outputs": [
        {
          "output_type": "stream",
          "name": "stdout",
          "text": [
            "Input Tensor:\n",
            " [[ 0.07494675  0.03912783 -0.02228122 ...  0.06316861 -0.08789887\n",
            "   0.05863257]\n",
            " [ 0.09791417  0.04359267 -0.13420914 ...  0.02945278 -0.06535106\n",
            "  -0.05318328]\n",
            " [-0.01138164  0.01260689 -0.09285012 ...  0.17173903  0.13254495\n",
            "  -0.18717386]\n",
            " ...\n",
            " [ 0.17602918 -0.16493158 -0.04272654 ... -0.19131006 -0.00866026\n",
            "   0.02560443]\n",
            " [ 0.11876293 -0.06680916 -0.05857946 ... -0.24740016  0.03912716\n",
            "  -0.01557422]\n",
            " [ 0.14850059 -0.12527737  0.00428717 ... -0.24339913 -0.05492501\n",
            "  -0.0792207 ]]\n",
            "Target Tensor:\n",
            " [[ 0.07495342  0.03913246 -0.0222722  ...  0.06316449 -0.08789666\n",
            "   0.05864193]\n",
            " [ 0.09790685  0.04359826 -0.13420089 ...  0.02944396 -0.06535954\n",
            "  -0.05319214]\n",
            " [-0.01137264  0.01260262 -0.09285445 ...  0.17174383  0.13253567\n",
            "  -0.18716595]\n",
            " ...\n",
            " [ 0.17602038 -0.1649316  -0.04272781 ... -0.19131005 -0.00866667\n",
            "   0.02560262]\n",
            " [ 0.11875983 -0.0668166  -0.05858516 ... -0.2473974   0.03913246\n",
            "  -0.01557351]\n",
            " [ 0.14850655 -0.1252693   0.00429549 ... -0.24340467 -0.05493305\n",
            "  -0.07922999]]\n"
          ]
        },
        {
          "output_type": "execute_result",
          "data": {
            "text/plain": [
              "2.9896266e-11"
            ]
          },
          "metadata": {},
          "execution_count": 78
        }
      ]
    },
    {
      "cell_type": "markdown",
      "source": [
        "### ***Step 12.2:- Quantization apply on Weights for Layer [1]***"
      ],
      "metadata": {
        "id": "p8z7duXbMSYa"
      }
    },
    {
      "cell_type": "code",
      "source": [
        "T1 = np.array (model.get_weights()[1])\n",
        "print(T1)\n",
        "print(T1.shape)\n"
      ],
      "metadata": {
        "id": "eNMB1VkTMWGT",
        "colab": {
          "base_uri": "https://localhost:8080/"
        },
        "outputId": "659f2245-4bda-430c-d087-5342cca046b1"
      },
      "execution_count": null,
      "outputs": [
        {
          "output_type": "stream",
          "name": "stdout",
          "text": [
            "[[-0.06080294  0.11674429  0.00677274 ... -0.01825441  0.23747472\n",
            "   0.03532412]\n",
            " [-0.02085792  0.03370494  0.17107809 ...  0.10651273  0.1016257\n",
            "  -0.03583364]\n",
            " [ 0.13742787 -0.06362658  0.12782261 ... -0.07405598  0.31147316\n",
            "  -0.00242772]\n",
            " ...\n",
            " [-0.20358603  0.06468102 -0.2748718  ...  0.03596471 -0.01105351\n",
            "  -0.02000266]\n",
            " [-0.00906198  0.16464339  0.07520864 ...  0.0103049   0.1229859\n",
            "   0.17122254]\n",
            " [ 0.17378385  0.17337933  0.03175817 ...  0.13805214 -0.12137617\n",
            "  -0.02062947]]\n",
            "(80, 320)\n"
          ]
        }
      ]
    },
    {
      "cell_type": "code",
      "source": [
        "# Min-Max value of float_32 tensor (x) find out for scale (s) and zero point (z)\n",
        "\n",
        "b1 = np.amax(T1)\n",
        "print(b1)"
      ],
      "metadata": {
        "colab": {
          "base_uri": "https://localhost:8080/"
        },
        "outputId": "9759092c-cfef-4f5f-a6d2-1498e1ae46e2",
        "id": "A1dR4yjKP9m3"
      },
      "execution_count": null,
      "outputs": [
        {
          "output_type": "stream",
          "name": "stdout",
          "text": [
            "0.49867725\n"
          ]
        }
      ]
    },
    {
      "cell_type": "code",
      "source": [
        "a1 = np.amin(T1)\n",
        "print(a1)"
      ],
      "metadata": {
        "colab": {
          "base_uri": "https://localhost:8080/"
        },
        "outputId": "4468eaf4-f428-44f5-ddaa-420f36428797",
        "id": "Fsp2BZmRQJXE"
      },
      "execution_count": null,
      "outputs": [
        {
          "output_type": "stream",
          "name": "stdout",
          "text": [
            "-0.5685387\n"
          ]
        }
      ]
    },
    {
      "cell_type": "code",
      "source": [
        "# scale value\n",
        "\n",
        "scale1 = (b1-a1)/65535\n",
        "\n",
        "print(scale1)"
      ],
      "metadata": {
        "colab": {
          "base_uri": "https://localhost:8080/"
        },
        "outputId": "5c2fcba2-db63-4b5d-899e-cd09a4f13dec",
        "id": "5shibyUQQOcs"
      },
      "execution_count": null,
      "outputs": [
        {
          "output_type": "stream",
          "name": "stdout",
          "text": [
            "1.6284671084071548e-05\n"
          ]
        }
      ]
    },
    {
      "cell_type": "code",
      "source": [
        "# zero point\n",
        "\n",
        "zero_point1 = np.round(-a1*65535/(b1-a1))\n",
        "\n",
        "print(zero_point1)"
      ],
      "metadata": {
        "colab": {
          "base_uri": "https://localhost:8080/"
        },
        "outputId": "e9e153cf-51f8-400e-f4b2-4563265f98b7",
        "id": "LJM36YNTQRr0"
      },
      "execution_count": null,
      "outputs": [
        {
          "output_type": "stream",
          "name": "stdout",
          "text": [
            "34913.0\n"
          ]
        }
      ]
    },
    {
      "cell_type": "code",
      "source": [
        "\n",
        "f1 = np.round(T1/scale1 + zero_point1)\n",
        "print(f1)\n",
        "T1q = np.clip(f1, a_min=0, a_max=65535) # Here min & max value we can change as per Tbit.\n",
        "# But, I have checked for 16 bit\n",
        "print (T1q)"
      ],
      "metadata": {
        "colab": {
          "base_uri": "https://localhost:8080/"
        },
        "id": "rHBTE0nhQc0G",
        "outputId": "4045cf79-dcc5-4009-92e9-f94864e28484"
      },
      "execution_count": null,
      "outputs": [
        {
          "output_type": "stream",
          "name": "stdout",
          "text": [
            "[[31179. 42082. 35329. ... 33792. 49496. 37082.]\n",
            " [33632. 36983. 45418. ... 41454. 41154. 32713.]\n",
            " [43352. 31006. 42762. ... 30365. 54040. 34764.]\n",
            " ...\n",
            " [22411. 38885. 18034. ... 37122. 34234. 33685.]\n",
            " [34357. 45023. 39531. ... 35546. 42465. 45427.]\n",
            " [45585. 45560. 36863. ... 43390. 27460. 33646.]]\n",
            "[[31179. 42082. 35329. ... 33792. 49496. 37082.]\n",
            " [33632. 36983. 45418. ... 41454. 41154. 32713.]\n",
            " [43352. 31006. 42762. ... 30365. 54040. 34764.]\n",
            " ...\n",
            " [22411. 38885. 18034. ... 37122. 34234. 33685.]\n",
            " [34357. 45023. 39531. ... 35546. 42465. 45427.]\n",
            " [45585. 45560. 36863. ... 43390. 27460. 33646.]]\n"
          ]
        }
      ]
    },
    {
      "cell_type": "code",
      "source": [
        "T1dq = scale1*(T1q - zero_point1)\n",
        "print(T1dq)"
      ],
      "metadata": {
        "colab": {
          "base_uri": "https://localhost:8080/"
        },
        "outputId": "269e2916-d2e1-4fcf-9eb4-99fdff2410a1",
        "id": "Rhf8L2AnQuUm"
      },
      "execution_count": null,
      "outputs": [
        {
          "output_type": "stream",
          "name": "stdout",
          "text": [
            "[[-0.06080696  0.11674481  0.00677442 ... -0.01825512  0.23747937\n",
            "   0.03532145]\n",
            " [-0.02086066  0.03370927  0.17107047 ...  0.10651804  0.10163264\n",
            "  -0.03582628]\n",
            " [ 0.13742635 -0.06362421  0.12781839 ... -0.07406269  0.31147692\n",
            "  -0.00242642]\n",
            " ...\n",
            " [-0.20359097  0.06468271 -0.27486897 ...  0.03597284 -0.01105729\n",
            "  -0.01999758]\n",
            " [-0.00905428  0.16463803  0.07520261 ...  0.0103082   0.12298184\n",
            "   0.17121704]\n",
            " [ 0.17379002  0.17338291  0.03175511 ...  0.13804516 -0.12136966\n",
            "  -0.02063268]]\n"
          ]
        }
      ]
    },
    {
      "cell_type": "code",
      "source": [
        "# print input and target tensors\n",
        "print(\"Input Tensor:\\n\", T1)\n",
        "print(\"Target Tensor:\\n\", T1dq)\n",
        "mse = tf.keras.losses.MeanAbsoluteError()\n",
        "mse(T1dq, T1).numpy()"
      ],
      "metadata": {
        "colab": {
          "base_uri": "https://localhost:8080/"
        },
        "id": "5LoTG5LiQ0cp",
        "outputId": "e5990de4-f18b-45da-cb96-3514f1dd5f1e"
      },
      "execution_count": null,
      "outputs": [
        {
          "output_type": "stream",
          "name": "stdout",
          "text": [
            "Input Tensor:\n",
            " [[-0.06080294  0.11674429  0.00677274 ... -0.01825441  0.23747472\n",
            "   0.03532412]\n",
            " [-0.02085792  0.03370494  0.17107809 ...  0.10651273  0.1016257\n",
            "  -0.03583364]\n",
            " [ 0.13742787 -0.06362658  0.12782261 ... -0.07405598  0.31147316\n",
            "  -0.00242772]\n",
            " ...\n",
            " [-0.20358603  0.06468102 -0.2748718  ...  0.03596471 -0.01105351\n",
            "  -0.02000266]\n",
            " [-0.00906198  0.16464339  0.07520864 ...  0.0103049   0.1229859\n",
            "   0.17122254]\n",
            " [ 0.17378385  0.17337933  0.03175817 ...  0.13805214 -0.12137617\n",
            "  -0.02062947]]\n",
            "Target Tensor:\n",
            " [[-0.06080696  0.11674481  0.00677442 ... -0.01825512  0.23747937\n",
            "   0.03532145]\n",
            " [-0.02086066  0.03370927  0.17107047 ...  0.10651804  0.10163264\n",
            "  -0.03582628]\n",
            " [ 0.13742635 -0.06362421  0.12781839 ... -0.07406269  0.31147692\n",
            "  -0.00242642]\n",
            " ...\n",
            " [-0.20359097  0.06468271 -0.27486897 ...  0.03597284 -0.01105729\n",
            "  -0.01999758]\n",
            " [-0.00905428  0.16463803  0.07520261 ...  0.0103082   0.12298184\n",
            "   0.17121704]\n",
            " [ 0.17379002  0.17338291  0.03175511 ...  0.13804516 -0.12136966\n",
            "  -0.02063268]]\n"
          ]
        },
        {
          "output_type": "execute_result",
          "data": {
            "text/plain": [
              "4.0951286e-06"
            ]
          },
          "metadata": {},
          "execution_count": 86
        }
      ]
    },
    {
      "cell_type": "code",
      "source": [
        "# print input and target tensors\n",
        "print(\"Input Tensor:\\n\", T1)\n",
        "print(\"Target Tensor:\\n\", T1dq)\n",
        "mse = tf.keras.losses.MeanSquaredError()\n",
        "mse(T1dq, T1).numpy()"
      ],
      "metadata": {
        "id": "iC8nw6JDNrgV",
        "colab": {
          "base_uri": "https://localhost:8080/"
        },
        "outputId": "ac944cfe-a12d-4bc4-9e8f-402dc23351cd"
      },
      "execution_count": null,
      "outputs": [
        {
          "output_type": "stream",
          "name": "stdout",
          "text": [
            "Input Tensor:\n",
            " [[-0.06080294  0.11674429  0.00677274 ... -0.01825441  0.23747472\n",
            "   0.03532412]\n",
            " [-0.02085792  0.03370494  0.17107809 ...  0.10651273  0.1016257\n",
            "  -0.03583364]\n",
            " [ 0.13742787 -0.06362658  0.12782261 ... -0.07405598  0.31147316\n",
            "  -0.00242772]\n",
            " ...\n",
            " [-0.20358603  0.06468102 -0.2748718  ...  0.03596471 -0.01105351\n",
            "  -0.02000266]\n",
            " [-0.00906198  0.16464339  0.07520864 ...  0.0103049   0.1229859\n",
            "   0.17122254]\n",
            " [ 0.17378385  0.17337933  0.03175817 ...  0.13805214 -0.12137617\n",
            "  -0.02062947]]\n",
            "Target Tensor:\n",
            " [[-0.06080696  0.11674481  0.00677442 ... -0.01825512  0.23747937\n",
            "   0.03532145]\n",
            " [-0.02086066  0.03370927  0.17107047 ...  0.10651804  0.10163264\n",
            "  -0.03582628]\n",
            " [ 0.13742635 -0.06362421  0.12781839 ... -0.07406269  0.31147692\n",
            "  -0.00242642]\n",
            " ...\n",
            " [-0.20359097  0.06468271 -0.27486897 ...  0.03597284 -0.01105729\n",
            "  -0.01999758]\n",
            " [-0.00905428  0.16463803  0.07520261 ...  0.0103082   0.12298184\n",
            "   0.17121704]\n",
            " [ 0.17379002  0.17338291  0.03175511 ...  0.13804516 -0.12136966\n",
            "  -0.02063268]]\n"
          ]
        },
        {
          "output_type": "execute_result",
          "data": {
            "text/plain": [
              "2.2280195e-11"
            ]
          },
          "metadata": {},
          "execution_count": 87
        }
      ]
    },
    {
      "cell_type": "markdown",
      "source": [
        "### ***Step 12.3:- Quantization apply on Weights for Layer [2]***"
      ],
      "metadata": {
        "id": "Eno4RGtcMWpy"
      }
    },
    {
      "cell_type": "code",
      "source": [
        "T2 = np.array (model.get_weights()[2])\n",
        "print(T2)\n",
        "print(T2.shape)\n"
      ],
      "metadata": {
        "colab": {
          "base_uri": "https://localhost:8080/"
        },
        "id": "HWiK82B5RDS7",
        "outputId": "387dddd1-8010-4077-98a9-cd6f8d78d456"
      },
      "execution_count": null,
      "outputs": [
        {
          "output_type": "stream",
          "name": "stdout",
          "text": [
            "[-4.97249514e-03 -5.02500571e-02 -9.13476422e-02 -4.30004001e-02\n",
            " -6.92659756e-03  1.20815299e-02 -2.40374431e-02 -1.58335984e-01\n",
            " -6.30542785e-02  1.04762889e-01 -1.26684800e-01  8.14979747e-02\n",
            "  7.18823597e-02 -1.37591943e-01  3.73544032e-03  2.92371958e-02\n",
            " -6.70067966e-02  5.19426055e-02 -8.86380002e-02 -6.02260605e-02\n",
            " -8.60294625e-02 -1.26065966e-02  6.27078861e-02  1.29610067e-02\n",
            " -8.79516602e-02  3.18972319e-02 -7.69281685e-02  7.70414099e-02\n",
            " -2.63044089e-02 -1.40209436e-01 -5.39996810e-02  4.57578562e-02\n",
            " -4.45864201e-02 -7.54076317e-02 -4.10037488e-02  1.04395403e-02\n",
            " -3.62885557e-02 -9.86084342e-02 -2.05228515e-02 -7.09173828e-02\n",
            "  3.10520716e-02 -4.86839488e-02  1.09129094e-01 -1.20437471e-02\n",
            " -3.94521989e-02  1.50974840e-01 -2.86302455e-02 -1.08288871e-02\n",
            "  2.98524015e-02 -9.37893465e-02  1.62864234e-02 -1.01181552e-01\n",
            " -1.42770872e-01 -4.55944315e-02 -8.23507085e-02  8.99611339e-02\n",
            "  1.51275858e-01 -2.01641694e-02 -7.05610216e-02 -3.77879813e-02\n",
            "  9.11203995e-02  5.54262623e-02 -1.54771298e-01  4.63558808e-02\n",
            " -5.02246730e-02  2.97044553e-02 -9.13401600e-03 -8.63360092e-02\n",
            " -1.84424128e-02 -5.58782928e-02 -1.42611461e-02  5.47844693e-02\n",
            " -1.59552731e-02  1.87662855e-01 -2.15828680e-02  1.54127747e-01\n",
            " -8.02041590e-02 -1.12687275e-01  3.01395189e-02  2.96078771e-02\n",
            "  1.15717256e+00  9.13243353e-01  1.11925924e+00  9.82481062e-01\n",
            "  1.09662151e+00  1.02147985e+00  9.85971153e-01  9.78302300e-01\n",
            "  9.94587243e-01  1.02219212e+00  9.11461651e-01  1.05774963e+00\n",
            "  1.06070685e+00  1.01547468e+00  8.41905355e-01  1.04207134e+00\n",
            "  1.08418584e+00  9.99423683e-01  9.52138126e-01  9.27103043e-01\n",
            "  9.70554054e-01  9.52923179e-01  1.15480912e+00  1.04471338e+00\n",
            "  9.96679962e-01  1.00789273e+00  9.08040524e-01  1.13305891e+00\n",
            "  1.08004272e+00  9.26350236e-01  1.03457630e+00  1.00133753e+00\n",
            "  9.64372516e-01  9.72180247e-01  9.94209588e-01  1.02031410e+00\n",
            "  9.72931206e-01  9.30810750e-01  1.04956400e+00  1.01048052e+00\n",
            "  1.00106585e+00  9.07948792e-01  1.05458295e+00  8.70067775e-01\n",
            "  1.03012860e+00  1.20476973e+00  9.83557105e-01  1.05135012e+00\n",
            "  9.32609320e-01  9.72634912e-01  9.83911216e-01  8.65582705e-01\n",
            "  9.18943822e-01  9.86202896e-01  9.63595152e-01  1.09821570e+00\n",
            "  1.13764203e+00  1.06678092e+00  1.09154963e+00  9.54767406e-01\n",
            "  1.07992899e+00  8.39209437e-01  1.03739381e+00  8.21540296e-01\n",
            "  9.75220680e-01  1.14811385e+00  9.73994195e-01  1.00044990e+00\n",
            "  9.52670991e-01  9.46104705e-01  1.02738404e+00  9.24783289e-01\n",
            "  9.80562568e-01  1.16343117e+00  9.06578362e-01  1.08477378e+00\n",
            "  9.51318800e-01  1.10191941e+00  8.93758714e-01  9.88129795e-01\n",
            "  2.71687959e-03 -4.12962623e-02  8.98278551e-04  4.48707342e-02\n",
            " -3.82648073e-02 -6.73947781e-02 -1.02270469e-02  2.26664003e-02\n",
            "  3.56489941e-02 -1.21750552e-02 -9.38586774e-04  3.45234498e-02\n",
            " -1.90733224e-02  2.20364518e-02  1.38434768e-02 -1.46997608e-02\n",
            " -3.73156811e-03 -6.84163943e-02  2.93305842e-03 -4.46412899e-02\n",
            " -5.14736772e-02 -4.63293865e-02 -1.67489480e-02  2.58492157e-02\n",
            " -7.30068143e-03 -1.72841586e-02  4.48616408e-02 -7.37090874e-03\n",
            " -1.19362622e-02  4.00468707e-02  1.40170716e-02 -2.84217740e-03\n",
            "  4.43773018e-03 -4.60519530e-02 -4.92741317e-02 -1.97361186e-02\n",
            "  1.46177290e-02 -4.38833237e-02 -3.46668735e-02  4.83120093e-03\n",
            "  6.24463055e-03  3.42751620e-04 -9.22903512e-03 -8.45477637e-03\n",
            "  2.72795130e-02 -2.83470415e-02  9.30545572e-03 -4.88225184e-02\n",
            "  1.88660808e-02  9.20121558e-03  9.85224266e-04  4.20351280e-03\n",
            "  6.87301680e-02  5.64654882e-04  1.68304443e-02  5.49988188e-02\n",
            "  1.44168139e-02  2.63789222e-02 -3.81898391e-03 -7.22683035e-05\n",
            "  4.42053005e-03 -5.30877849e-03  3.30856442e-02  1.29905879e-03\n",
            "  2.57719308e-02  3.76757048e-02  6.36190362e-03  1.18913604e-02\n",
            " -1.26890382e-02  8.27626139e-03 -3.99192236e-02  3.25441398e-02\n",
            " -8.25190078e-03  1.58286337e-02  3.77999223e-03  6.53300807e-03\n",
            " -1.82993039e-02 -5.12448326e-02  4.06443886e-03  6.70300797e-02\n",
            "  2.92373188e-02 -3.49382833e-02 -3.86894681e-04 -3.87313403e-02\n",
            "  2.68891826e-02  4.14576568e-02 -1.81878656e-02  3.52458209e-02\n",
            " -1.87491737e-02 -4.70019653e-02 -2.39416249e-02  1.06144339e-01\n",
            "  3.78722176e-02  4.13802154e-02 -5.92318596e-03  1.68250594e-02\n",
            "  5.09823337e-02  3.04201953e-02  4.14055623e-02 -7.80374929e-02\n",
            " -7.45693743e-02 -1.41514707e-02  1.51782818e-02 -4.62560467e-02\n",
            " -2.18084808e-02  4.37935777e-02  1.53936131e-03  2.99117938e-02\n",
            "  3.46491300e-02 -1.13634713e-01  1.00017767e-02  1.94672290e-02\n",
            "  7.56470719e-03 -3.12725268e-02 -6.05400130e-02  2.37020198e-02\n",
            "  2.78642867e-02 -4.68463218e-03  3.19894258e-04 -4.92266305e-02\n",
            "  3.48395184e-02 -9.99275371e-02  8.56179595e-02 -5.05787097e-02\n",
            " -6.94926158e-02  5.59924506e-02  1.42394662e-01  8.37745611e-03\n",
            "  3.75787355e-02 -4.97532263e-02 -2.03407630e-02 -6.38033897e-02\n",
            " -7.23227486e-02 -2.43689120e-02  2.12816354e-02  1.34962454e-01\n",
            "  1.79368425e-02 -1.18187815e-02 -9.34441481e-03 -6.69560805e-02\n",
            "  1.03924826e-01 -2.84967907e-02  6.28206693e-03  3.10181314e-03\n",
            " -5.09918854e-02  9.39395092e-03 -7.02669024e-02 -2.13484354e-02\n",
            "  3.33473384e-02 -1.86657533e-02  3.95123363e-02  6.28178939e-02\n",
            " -3.84151302e-02  1.33658051e-01 -8.54187459e-02  9.39877555e-02\n",
            " -2.41011940e-02  2.49976832e-02 -1.18949525e-01  2.83661056e-02]\n",
            "(320,)\n"
          ]
        }
      ]
    },
    {
      "cell_type": "code",
      "source": [
        "# Min-Max value of float_32 tensor (x) find out for scale (s) and zero point (z)\n",
        "\n",
        "b2 = np.amax(T2)\n",
        "print(b2)"
      ],
      "metadata": {
        "colab": {
          "base_uri": "https://localhost:8080/"
        },
        "outputId": "1a37b56c-5885-498a-9573-d5ccd883c8c2",
        "id": "-cDe5iuyRQyV"
      },
      "execution_count": null,
      "outputs": [
        {
          "output_type": "stream",
          "name": "stdout",
          "text": [
            "1.2047697\n"
          ]
        }
      ]
    },
    {
      "cell_type": "code",
      "source": [
        "a2 = np.amin(T2)\n",
        "print(a2)"
      ],
      "metadata": {
        "colab": {
          "base_uri": "https://localhost:8080/"
        },
        "outputId": "22f3af51-1e2d-4399-b75c-4376e38759a0",
        "id": "fc2ZMZ_wRVyl"
      },
      "execution_count": null,
      "outputs": [
        {
          "output_type": "stream",
          "name": "stdout",
          "text": [
            "-0.15833598\n"
          ]
        }
      ]
    },
    {
      "cell_type": "code",
      "source": [
        "# scale value\n",
        "\n",
        "scale2 = (b2-a2)/65535\n",
        "\n",
        "print(scale2)"
      ],
      "metadata": {
        "colab": {
          "base_uri": "https://localhost:8080/"
        },
        "outputId": "33ae07b6-3342-437c-d0b0-9d9099db848e",
        "id": "DZ7Kn49hRblw"
      },
      "execution_count": null,
      "outputs": [
        {
          "output_type": "stream",
          "name": "stdout",
          "text": [
            "2.079966085184682e-05\n"
          ]
        }
      ]
    },
    {
      "cell_type": "code",
      "source": [
        "# zero point\n",
        "\n",
        "zero_point2 = np.round(-a2*65535/(b2-a2))\n",
        "\n",
        "print(zero_point2)"
      ],
      "metadata": {
        "colab": {
          "base_uri": "https://localhost:8080/"
        },
        "outputId": "8afb9c1b-a7cc-4c3f-ec43-cd4e38d70207",
        "id": "AOuMeQMlReCP"
      },
      "execution_count": null,
      "outputs": [
        {
          "output_type": "stream",
          "name": "stdout",
          "text": [
            "7612.0\n"
          ]
        }
      ]
    },
    {
      "cell_type": "code",
      "source": [
        "from pandas.compat.numpy import np_array_datetime64_compat\n",
        "f2 = np.round(T2/scale2 + zero_point2)\n",
        "print(f2)\n",
        "T2q = np.clip(f2, a_min=0, a_max=65535) # Here min & max value we can change as per Tbit.\n",
        "# But, I have checked for 16 bit\n",
        "print (T2q)"
      ],
      "metadata": {
        "colab": {
          "base_uri": "https://localhost:8080/"
        },
        "id": "Lof_K5b6RhP4",
        "outputId": "16404201-d4df-41c7-c9ba-3428a206b6f2"
      },
      "execution_count": null,
      "outputs": [
        {
          "output_type": "stream",
          "name": "stdout",
          "text": [
            "[ 7373.  5196.  3220.  5545.  7279.  8193.  6456.    -0.  4580. 12649.\n",
            "  1521. 11530. 11068.   997.  7792.  9018.  4390. 10109.  3350.  4716.\n",
            "  3476.  7006. 10627.  8235.  3383.  9146.  3913. 11316.  6347.   871.\n",
            "  5016.  9812.  5468.  3987.  5641.  8114.  5867.  2871.  6625.  4202.\n",
            "  9105.  5271. 12859.  7033.  5715. 14871.  6236.  7091.  9047.  3103.\n",
            "  8395.  2747.   748.  5420.  3653. 11937. 14885.  6643.  4220.  5795.\n",
            " 11993. 10277.   171.  9841.  5197.  9040.  7173.  3461.  6725.  4926.\n",
            "  6926. 10246.  6845. 16634.  6574. 15022.  3756.  2194.  9061.  9035.\n",
            " 63246. 51519. 61423. 54847. 60335. 56722. 55015. 54647. 55429. 56757.\n",
            " 51433. 58466. 58608. 56434. 48089. 57712. 59737. 55662. 53389. 52185.\n",
            " 54274. 53426. 63133. 57839. 55530. 56069. 51269. 62087. 59538. 52149.\n",
            " 57352. 55754. 53977. 54352. 55411. 56666. 54388. 52363. 58073. 56194.\n",
            " 55741. 51264. 58314. 49443. 57138. 65535. 54899. 58159. 52450. 54374.\n",
            " 54916. 49227. 51793. 55026. 53939. 60412. 62307. 58900. 60091. 53515.\n",
            " 59533. 47959. 57488. 47110. 54498. 62811. 54439. 55711. 53414. 53099.\n",
            " 57006. 52073. 54755. 63547. 51198. 59765. 53349. 60590. 50582. 55119.\n",
            "  7743.  5627.  7655.  9769.  5772.  4372.  7120.  8702.  9326.  7027.\n",
            "  7567.  9272.  6695.  8671.  8278.  6905.  7433.  4323.  7753.  5466.\n",
            "  5137.  5385.  6807.  8855.  7261.  6781.  9769.  7258.  7038.  9537.\n",
            "  8286.  7475.  7825.  5398.  5243.  6663.  8315.  5502.  5945.  7844.\n",
            "  7912.  7628.  7168.  7206.  8924.  6249.  8059.  5265.  8519.  8054.\n",
            "  7659.  7814. 10916.  7639.  8421. 10256.  8305.  8880.  7428.  7609.\n",
            "  7825.  7357.  9203.  7674.  8851.  9423.  7918.  8184.  7002.  8010.\n",
            "  5693.  9177.  7215.  8373.  7794.  7926.  6732.  5148.  7807. 10835.\n",
            "  9018.  5932.  7593.  5750.  8905.  9605.  6738.  9307.  6711.  5352.\n",
            "  6461. 12715.  9433.  9601.  7327.  8421. 10063.  9075.  9603.  3860.\n",
            "  4027.  6932.  8342.  5388.  6563.  9717.  7686.  9050.  9278.  2149.\n",
            "  8093.  8548.  7976.  6108.  4701.  8752.  8952.  7387.  7627.  5245.\n",
            "  9287.  2808. 11728.  5180.  4271. 10304. 14458.  8015.  9419.  5220.\n",
            "  6634.  4544.  4135.  6440.  8635. 14101.  8474.  7044.  7163.  4393.\n",
            " 12608.  6242.  7914.  7761.  5160.  8064.  4234.  6586.  9215.  6715.\n",
            "  9512. 10632.  5765. 14038.  3505. 12131.  6453.  8814.  1893.  8976.]\n",
            "[ 7373.  5196.  3220.  5545.  7279.  8193.  6456.     0.  4580. 12649.\n",
            "  1521. 11530. 11068.   997.  7792.  9018.  4390. 10109.  3350.  4716.\n",
            "  3476.  7006. 10627.  8235.  3383.  9146.  3913. 11316.  6347.   871.\n",
            "  5016.  9812.  5468.  3987.  5641.  8114.  5867.  2871.  6625.  4202.\n",
            "  9105.  5271. 12859.  7033.  5715. 14871.  6236.  7091.  9047.  3103.\n",
            "  8395.  2747.   748.  5420.  3653. 11937. 14885.  6643.  4220.  5795.\n",
            " 11993. 10277.   171.  9841.  5197.  9040.  7173.  3461.  6725.  4926.\n",
            "  6926. 10246.  6845. 16634.  6574. 15022.  3756.  2194.  9061.  9035.\n",
            " 63246. 51519. 61423. 54847. 60335. 56722. 55015. 54647. 55429. 56757.\n",
            " 51433. 58466. 58608. 56434. 48089. 57712. 59737. 55662. 53389. 52185.\n",
            " 54274. 53426. 63133. 57839. 55530. 56069. 51269. 62087. 59538. 52149.\n",
            " 57352. 55754. 53977. 54352. 55411. 56666. 54388. 52363. 58073. 56194.\n",
            " 55741. 51264. 58314. 49443. 57138. 65535. 54899. 58159. 52450. 54374.\n",
            " 54916. 49227. 51793. 55026. 53939. 60412. 62307. 58900. 60091. 53515.\n",
            " 59533. 47959. 57488. 47110. 54498. 62811. 54439. 55711. 53414. 53099.\n",
            " 57006. 52073. 54755. 63547. 51198. 59765. 53349. 60590. 50582. 55119.\n",
            "  7743.  5627.  7655.  9769.  5772.  4372.  7120.  8702.  9326.  7027.\n",
            "  7567.  9272.  6695.  8671.  8278.  6905.  7433.  4323.  7753.  5466.\n",
            "  5137.  5385.  6807.  8855.  7261.  6781.  9769.  7258.  7038.  9537.\n",
            "  8286.  7475.  7825.  5398.  5243.  6663.  8315.  5502.  5945.  7844.\n",
            "  7912.  7628.  7168.  7206.  8924.  6249.  8059.  5265.  8519.  8054.\n",
            "  7659.  7814. 10916.  7639.  8421. 10256.  8305.  8880.  7428.  7609.\n",
            "  7825.  7357.  9203.  7674.  8851.  9423.  7918.  8184.  7002.  8010.\n",
            "  5693.  9177.  7215.  8373.  7794.  7926.  6732.  5148.  7807. 10835.\n",
            "  9018.  5932.  7593.  5750.  8905.  9605.  6738.  9307.  6711.  5352.\n",
            "  6461. 12715.  9433.  9601.  7327.  8421. 10063.  9075.  9603.  3860.\n",
            "  4027.  6932.  8342.  5388.  6563.  9717.  7686.  9050.  9278.  2149.\n",
            "  8093.  8548.  7976.  6108.  4701.  8752.  8952.  7387.  7627.  5245.\n",
            "  9287.  2808. 11728.  5180.  4271. 10304. 14458.  8015.  9419.  5220.\n",
            "  6634.  4544.  4135.  6440.  8635. 14101.  8474.  7044.  7163.  4393.\n",
            " 12608.  6242.  7914.  7761.  5160.  8064.  4234.  6586.  9215.  6715.\n",
            "  9512. 10632.  5765. 14038.  3505. 12131.  6453.  8814.  1893.  8976.]\n"
          ]
        }
      ]
    },
    {
      "cell_type": "code",
      "source": [
        "T2dq = scale2*(T2q - zero_point2)\n",
        "print(T2dq)"
      ],
      "metadata": {
        "colab": {
          "base_uri": "https://localhost:8080/"
        },
        "outputId": "6f023e5a-07de-4a2f-bf9a-30a593d00c7f",
        "id": "o7DD4VDeRqap"
      },
      "execution_count": null,
      "outputs": [
        {
          "output_type": "stream",
          "name": "stdout",
          "text": [
            "[-4.97111864e-03 -5.02519794e-02 -9.13521051e-02 -4.29928973e-02\n",
            " -6.92628697e-03  1.20846024e-02 -2.40444075e-02 -1.58327013e-01\n",
            " -6.30645677e-02  1.04767889e-01 -1.26690730e-01  8.14930648e-02\n",
            "  7.18836263e-02 -1.37589753e-01  3.74393887e-03  2.92443223e-02\n",
            " -6.70165047e-02  5.19367494e-02 -8.86481479e-02 -6.02358170e-02\n",
            " -8.60273913e-02 -1.26045942e-02  6.27109781e-02  1.29581885e-02\n",
            " -8.79617631e-02  3.19066793e-02 -7.69379437e-02  7.70419389e-02\n",
            " -2.63115708e-02 -1.40210509e-01 -5.39959185e-02  4.57592532e-02\n",
            " -4.45944704e-02 -7.53987655e-02 -4.09961306e-02  1.04414290e-02\n",
            " -3.62954065e-02 -9.86111909e-02 -2.05292646e-02 -7.09268376e-02\n",
            "  3.10538933e-02 -4.86920029e-02  1.09135814e-01 -1.20430030e-02\n",
            " -3.94569561e-02  1.50984734e-01 -2.86203325e-02 -1.08366227e-02\n",
            "  2.98475120e-02 -9.37856659e-02  1.62861329e-02 -1.01190343e-01\n",
            " -1.42768860e-01 -4.55928557e-02 -8.23458508e-02  8.99585262e-02\n",
            "  1.51275933e-01 -2.01548710e-02 -7.05524459e-02 -3.77929807e-02\n",
            "  9.11233127e-02  5.54310940e-02 -1.54770270e-01  4.63624410e-02\n",
            " -5.02311774e-02  2.97019146e-02 -9.13105067e-03 -8.63393918e-02\n",
            " -1.84492990e-02 -5.58678880e-02 -1.42685669e-02  5.47863059e-02\n",
            " -1.59533396e-02  1.87654525e-01 -2.15900466e-02  1.54125482e-01\n",
            " -8.02034885e-02 -1.12692557e-01  3.01387068e-02  2.95979157e-02\n",
            "  1.15716827e+00  9.13250685e-01  1.11925054e+00  9.82471943e-01\n",
            "  1.09662044e+00  1.02147126e+00  9.85966265e-01  9.78312016e-01\n",
            "  9.94577348e-01  1.02219927e+00  9.11461890e-01  1.05774593e+00\n",
            "  1.06069946e+00  1.01548100e+00  8.41907859e-01  1.04206300e+00\n",
            "  1.08418226e+00  9.99423683e-01  9.52146053e-01  9.27103221e-01\n",
            "  9.70553756e-01  9.52915609e-01  1.15481794e+00  1.04470456e+00\n",
            "  9.96678114e-01  1.00788915e+00  9.08050776e-01  1.13306153e+00\n",
            "  1.08004320e+00  9.26354468e-01  1.03457510e+00  1.00133729e+00\n",
            "  9.64376211e-01  9.72176135e-01  9.94202971e-01  1.02030647e+00\n",
            "  9.72924888e-01  9.30805564e-01  1.04957163e+00  1.01048911e+00\n",
            "  1.00106680e+00  9.07946765e-01  1.05458438e+00  8.70070577e-01\n",
            "  1.03012395e+00  1.20477867e+00  9.83553529e-01  1.05136037e+00\n",
            "  9.32615161e-01  9.72633719e-01  9.83907104e-01  8.65577877e-01\n",
            "  9.18949783e-01  9.86195087e-01  9.63585854e-01  1.09822202e+00\n",
            "  1.13763738e+00  1.06677294e+00  1.09154534e+00  9.54766810e-01\n",
            "  1.07993913e+00  8.39203894e-01  1.03740382e+00  8.21544945e-01\n",
            "  9.75212872e-01  1.14812040e+00  9.73985672e-01  1.00044286e+00\n",
            "  9.52666044e-01  9.46114123e-01  1.02737844e+00  9.24773693e-01\n",
            "  9.80558395e-01  1.16342902e+00  9.06573951e-01  1.08476472e+00\n",
            "  9.51314032e-01  1.10192442e+00  8.93761396e-01  9.88129437e-01\n",
            "  2.72475556e-03 -4.12873253e-02  8.94385390e-04  4.48648669e-02\n",
            " -3.82713750e-02 -6.73908964e-02 -1.02334330e-02  2.26716287e-02\n",
            "  3.56506184e-02 -1.21678011e-02 -9.35984717e-04  3.45274359e-02\n",
            " -1.90732889e-02  2.20268406e-02  1.38525739e-02 -1.47053599e-02\n",
            " -3.72313918e-03 -6.84100837e-02  2.93275202e-03 -4.46360707e-02\n",
            " -5.14791571e-02 -4.63208444e-02 -1.67437270e-02  2.58539766e-02\n",
            " -7.30068050e-03 -1.72845181e-02  4.48648669e-02 -7.36307958e-03\n",
            " -1.19390050e-02  4.00393456e-02  1.40189705e-02 -2.84955348e-03\n",
            "  4.43032756e-03 -4.60504480e-02 -4.92743962e-02 -1.97388772e-02\n",
            "  1.46221612e-02 -4.38872837e-02 -3.46730314e-02  4.82552126e-03\n",
            "  6.23989804e-03  3.32794560e-04 -9.23504867e-03 -8.44466221e-03\n",
            "  2.72891540e-02 -2.83499360e-02  9.29744821e-03 -4.88168001e-02\n",
            "  1.88652910e-02  9.19344928e-03  9.77584044e-04  4.20153141e-03\n",
            "  6.87220767e-02  5.61590830e-04  1.68269258e-02  5.49943000e-02\n",
            "  1.44141642e-02  2.63739694e-02 -3.82713741e-03 -6.23989763e-05\n",
            "  4.43032756e-03 -5.30391326e-03  3.30922604e-02  1.28957897e-03\n",
            "  2.57707778e-02  3.76681834e-02  6.36469573e-03  1.18974056e-02\n",
            " -1.26877930e-02  8.27826466e-03 -3.99145484e-02  3.25514674e-02\n",
            " -8.25746544e-03  1.58285405e-02  3.78553802e-03  6.53109327e-03\n",
            " -1.83037017e-02 -5.12503609e-02  4.05593356e-03  6.70373067e-02\n",
            "  2.92443223e-02 -3.49434279e-02 -3.95193551e-04 -3.87289673e-02\n",
            "  2.68939603e-02  4.14537229e-02 -1.81789026e-02  3.52554247e-02\n",
            " -1.87404938e-02 -4.70072329e-02 -2.39404086e-02  1.06140666e-01\n",
            "  3.78761813e-02  4.13705222e-02 -5.92790311e-03  1.68269258e-02\n",
            "  5.09799682e-02  3.04299034e-02  4.14121225e-02 -7.80403242e-02\n",
            " -7.45667815e-02 -1.41437687e-02  1.51837515e-02 -4.62584421e-02\n",
            " -2.18188427e-02  4.37832847e-02  1.53917482e-03  2.99099106e-02\n",
            "  3.46522331e-02 -1.13628544e-01  1.00046368e-02  1.94684826e-02\n",
            "  7.57107604e-03 -3.12826894e-02 -6.05478100e-02  2.37116124e-02\n",
            "  2.78715435e-02 -4.67992341e-03  3.11994896e-04 -4.92327958e-02\n",
            "  3.48394290e-02 -9.99215692e-02  8.56114030e-02 -5.05847745e-02\n",
            " -6.94916621e-02  5.59926853e-02  1.42394468e-01  8.38226266e-03\n",
            "  3.75849865e-02 -4.97527868e-02 -2.03420669e-02 -6.38133585e-02\n",
            " -7.23204166e-02 -2.43772008e-02  2.12780517e-02  1.34968996e-01\n",
            "  1.79293063e-02 -1.18142068e-02 -9.33904760e-03 -6.69541061e-02\n",
            "  1.03915103e-01 -2.84955334e-02  6.28149742e-03  3.09914933e-03\n",
            " -5.10007665e-02  9.40144621e-03 -7.02612549e-02 -2.13404503e-02\n",
            "  3.33418548e-02 -1.86572950e-02  3.95193547e-02  6.28149733e-02\n",
            " -3.84169705e-02  1.33658618e-01 -8.54242072e-02  9.39936638e-02\n",
            " -2.41068061e-02  2.50011906e-02 -1.18953258e-01  2.83707362e-02]\n"
          ]
        }
      ]
    },
    {
      "cell_type": "code",
      "source": [
        "# print input and target tensors\n",
        "print(\"Input Tensor:\\n\", T2)\n",
        "print(\"Target Tensor:\\n\", T2dq)\n",
        "mse = tf.keras.losses.MeanAbsoluteError()\n",
        "mse(T2dq, T2).numpy()"
      ],
      "metadata": {
        "colab": {
          "base_uri": "https://localhost:8080/"
        },
        "id": "_4IyNJ3CR1e5",
        "outputId": "403e3d6a-eca3-4957-ddd8-3f43f65966e3"
      },
      "execution_count": null,
      "outputs": [
        {
          "output_type": "stream",
          "name": "stdout",
          "text": [
            "Input Tensor:\n",
            " [-4.97249514e-03 -5.02500571e-02 -9.13476422e-02 -4.30004001e-02\n",
            " -6.92659756e-03  1.20815299e-02 -2.40374431e-02 -1.58335984e-01\n",
            " -6.30542785e-02  1.04762889e-01 -1.26684800e-01  8.14979747e-02\n",
            "  7.18823597e-02 -1.37591943e-01  3.73544032e-03  2.92371958e-02\n",
            " -6.70067966e-02  5.19426055e-02 -8.86380002e-02 -6.02260605e-02\n",
            " -8.60294625e-02 -1.26065966e-02  6.27078861e-02  1.29610067e-02\n",
            " -8.79516602e-02  3.18972319e-02 -7.69281685e-02  7.70414099e-02\n",
            " -2.63044089e-02 -1.40209436e-01 -5.39996810e-02  4.57578562e-02\n",
            " -4.45864201e-02 -7.54076317e-02 -4.10037488e-02  1.04395403e-02\n",
            " -3.62885557e-02 -9.86084342e-02 -2.05228515e-02 -7.09173828e-02\n",
            "  3.10520716e-02 -4.86839488e-02  1.09129094e-01 -1.20437471e-02\n",
            " -3.94521989e-02  1.50974840e-01 -2.86302455e-02 -1.08288871e-02\n",
            "  2.98524015e-02 -9.37893465e-02  1.62864234e-02 -1.01181552e-01\n",
            " -1.42770872e-01 -4.55944315e-02 -8.23507085e-02  8.99611339e-02\n",
            "  1.51275858e-01 -2.01641694e-02 -7.05610216e-02 -3.77879813e-02\n",
            "  9.11203995e-02  5.54262623e-02 -1.54771298e-01  4.63558808e-02\n",
            " -5.02246730e-02  2.97044553e-02 -9.13401600e-03 -8.63360092e-02\n",
            " -1.84424128e-02 -5.58782928e-02 -1.42611461e-02  5.47844693e-02\n",
            " -1.59552731e-02  1.87662855e-01 -2.15828680e-02  1.54127747e-01\n",
            " -8.02041590e-02 -1.12687275e-01  3.01395189e-02  2.96078771e-02\n",
            "  1.15717256e+00  9.13243353e-01  1.11925924e+00  9.82481062e-01\n",
            "  1.09662151e+00  1.02147985e+00  9.85971153e-01  9.78302300e-01\n",
            "  9.94587243e-01  1.02219212e+00  9.11461651e-01  1.05774963e+00\n",
            "  1.06070685e+00  1.01547468e+00  8.41905355e-01  1.04207134e+00\n",
            "  1.08418584e+00  9.99423683e-01  9.52138126e-01  9.27103043e-01\n",
            "  9.70554054e-01  9.52923179e-01  1.15480912e+00  1.04471338e+00\n",
            "  9.96679962e-01  1.00789273e+00  9.08040524e-01  1.13305891e+00\n",
            "  1.08004272e+00  9.26350236e-01  1.03457630e+00  1.00133753e+00\n",
            "  9.64372516e-01  9.72180247e-01  9.94209588e-01  1.02031410e+00\n",
            "  9.72931206e-01  9.30810750e-01  1.04956400e+00  1.01048052e+00\n",
            "  1.00106585e+00  9.07948792e-01  1.05458295e+00  8.70067775e-01\n",
            "  1.03012860e+00  1.20476973e+00  9.83557105e-01  1.05135012e+00\n",
            "  9.32609320e-01  9.72634912e-01  9.83911216e-01  8.65582705e-01\n",
            "  9.18943822e-01  9.86202896e-01  9.63595152e-01  1.09821570e+00\n",
            "  1.13764203e+00  1.06678092e+00  1.09154963e+00  9.54767406e-01\n",
            "  1.07992899e+00  8.39209437e-01  1.03739381e+00  8.21540296e-01\n",
            "  9.75220680e-01  1.14811385e+00  9.73994195e-01  1.00044990e+00\n",
            "  9.52670991e-01  9.46104705e-01  1.02738404e+00  9.24783289e-01\n",
            "  9.80562568e-01  1.16343117e+00  9.06578362e-01  1.08477378e+00\n",
            "  9.51318800e-01  1.10191941e+00  8.93758714e-01  9.88129795e-01\n",
            "  2.71687959e-03 -4.12962623e-02  8.98278551e-04  4.48707342e-02\n",
            " -3.82648073e-02 -6.73947781e-02 -1.02270469e-02  2.26664003e-02\n",
            "  3.56489941e-02 -1.21750552e-02 -9.38586774e-04  3.45234498e-02\n",
            " -1.90733224e-02  2.20364518e-02  1.38434768e-02 -1.46997608e-02\n",
            " -3.73156811e-03 -6.84163943e-02  2.93305842e-03 -4.46412899e-02\n",
            " -5.14736772e-02 -4.63293865e-02 -1.67489480e-02  2.58492157e-02\n",
            " -7.30068143e-03 -1.72841586e-02  4.48616408e-02 -7.37090874e-03\n",
            " -1.19362622e-02  4.00468707e-02  1.40170716e-02 -2.84217740e-03\n",
            "  4.43773018e-03 -4.60519530e-02 -4.92741317e-02 -1.97361186e-02\n",
            "  1.46177290e-02 -4.38833237e-02 -3.46668735e-02  4.83120093e-03\n",
            "  6.24463055e-03  3.42751620e-04 -9.22903512e-03 -8.45477637e-03\n",
            "  2.72795130e-02 -2.83470415e-02  9.30545572e-03 -4.88225184e-02\n",
            "  1.88660808e-02  9.20121558e-03  9.85224266e-04  4.20351280e-03\n",
            "  6.87301680e-02  5.64654882e-04  1.68304443e-02  5.49988188e-02\n",
            "  1.44168139e-02  2.63789222e-02 -3.81898391e-03 -7.22683035e-05\n",
            "  4.42053005e-03 -5.30877849e-03  3.30856442e-02  1.29905879e-03\n",
            "  2.57719308e-02  3.76757048e-02  6.36190362e-03  1.18913604e-02\n",
            " -1.26890382e-02  8.27626139e-03 -3.99192236e-02  3.25441398e-02\n",
            " -8.25190078e-03  1.58286337e-02  3.77999223e-03  6.53300807e-03\n",
            " -1.82993039e-02 -5.12448326e-02  4.06443886e-03  6.70300797e-02\n",
            "  2.92373188e-02 -3.49382833e-02 -3.86894681e-04 -3.87313403e-02\n",
            "  2.68891826e-02  4.14576568e-02 -1.81878656e-02  3.52458209e-02\n",
            " -1.87491737e-02 -4.70019653e-02 -2.39416249e-02  1.06144339e-01\n",
            "  3.78722176e-02  4.13802154e-02 -5.92318596e-03  1.68250594e-02\n",
            "  5.09823337e-02  3.04201953e-02  4.14055623e-02 -7.80374929e-02\n",
            " -7.45693743e-02 -1.41514707e-02  1.51782818e-02 -4.62560467e-02\n",
            " -2.18084808e-02  4.37935777e-02  1.53936131e-03  2.99117938e-02\n",
            "  3.46491300e-02 -1.13634713e-01  1.00017767e-02  1.94672290e-02\n",
            "  7.56470719e-03 -3.12725268e-02 -6.05400130e-02  2.37020198e-02\n",
            "  2.78642867e-02 -4.68463218e-03  3.19894258e-04 -4.92266305e-02\n",
            "  3.48395184e-02 -9.99275371e-02  8.56179595e-02 -5.05787097e-02\n",
            " -6.94926158e-02  5.59924506e-02  1.42394662e-01  8.37745611e-03\n",
            "  3.75787355e-02 -4.97532263e-02 -2.03407630e-02 -6.38033897e-02\n",
            " -7.23227486e-02 -2.43689120e-02  2.12816354e-02  1.34962454e-01\n",
            "  1.79368425e-02 -1.18187815e-02 -9.34441481e-03 -6.69560805e-02\n",
            "  1.03924826e-01 -2.84967907e-02  6.28206693e-03  3.10181314e-03\n",
            " -5.09918854e-02  9.39395092e-03 -7.02669024e-02 -2.13484354e-02\n",
            "  3.33473384e-02 -1.86657533e-02  3.95123363e-02  6.28178939e-02\n",
            " -3.84151302e-02  1.33658051e-01 -8.54187459e-02  9.39877555e-02\n",
            " -2.41011940e-02  2.49976832e-02 -1.18949525e-01  2.83661056e-02]\n",
            "Target Tensor:\n",
            " [-4.97111864e-03 -5.02519794e-02 -9.13521051e-02 -4.29928973e-02\n",
            " -6.92628697e-03  1.20846024e-02 -2.40444075e-02 -1.58327013e-01\n",
            " -6.30645677e-02  1.04767889e-01 -1.26690730e-01  8.14930648e-02\n",
            "  7.18836263e-02 -1.37589753e-01  3.74393887e-03  2.92443223e-02\n",
            " -6.70165047e-02  5.19367494e-02 -8.86481479e-02 -6.02358170e-02\n",
            " -8.60273913e-02 -1.26045942e-02  6.27109781e-02  1.29581885e-02\n",
            " -8.79617631e-02  3.19066793e-02 -7.69379437e-02  7.70419389e-02\n",
            " -2.63115708e-02 -1.40210509e-01 -5.39959185e-02  4.57592532e-02\n",
            " -4.45944704e-02 -7.53987655e-02 -4.09961306e-02  1.04414290e-02\n",
            " -3.62954065e-02 -9.86111909e-02 -2.05292646e-02 -7.09268376e-02\n",
            "  3.10538933e-02 -4.86920029e-02  1.09135814e-01 -1.20430030e-02\n",
            " -3.94569561e-02  1.50984734e-01 -2.86203325e-02 -1.08366227e-02\n",
            "  2.98475120e-02 -9.37856659e-02  1.62861329e-02 -1.01190343e-01\n",
            " -1.42768860e-01 -4.55928557e-02 -8.23458508e-02  8.99585262e-02\n",
            "  1.51275933e-01 -2.01548710e-02 -7.05524459e-02 -3.77929807e-02\n",
            "  9.11233127e-02  5.54310940e-02 -1.54770270e-01  4.63624410e-02\n",
            " -5.02311774e-02  2.97019146e-02 -9.13105067e-03 -8.63393918e-02\n",
            " -1.84492990e-02 -5.58678880e-02 -1.42685669e-02  5.47863059e-02\n",
            " -1.59533396e-02  1.87654525e-01 -2.15900466e-02  1.54125482e-01\n",
            " -8.02034885e-02 -1.12692557e-01  3.01387068e-02  2.95979157e-02\n",
            "  1.15716827e+00  9.13250685e-01  1.11925054e+00  9.82471943e-01\n",
            "  1.09662044e+00  1.02147126e+00  9.85966265e-01  9.78312016e-01\n",
            "  9.94577348e-01  1.02219927e+00  9.11461890e-01  1.05774593e+00\n",
            "  1.06069946e+00  1.01548100e+00  8.41907859e-01  1.04206300e+00\n",
            "  1.08418226e+00  9.99423683e-01  9.52146053e-01  9.27103221e-01\n",
            "  9.70553756e-01  9.52915609e-01  1.15481794e+00  1.04470456e+00\n",
            "  9.96678114e-01  1.00788915e+00  9.08050776e-01  1.13306153e+00\n",
            "  1.08004320e+00  9.26354468e-01  1.03457510e+00  1.00133729e+00\n",
            "  9.64376211e-01  9.72176135e-01  9.94202971e-01  1.02030647e+00\n",
            "  9.72924888e-01  9.30805564e-01  1.04957163e+00  1.01048911e+00\n",
            "  1.00106680e+00  9.07946765e-01  1.05458438e+00  8.70070577e-01\n",
            "  1.03012395e+00  1.20477867e+00  9.83553529e-01  1.05136037e+00\n",
            "  9.32615161e-01  9.72633719e-01  9.83907104e-01  8.65577877e-01\n",
            "  9.18949783e-01  9.86195087e-01  9.63585854e-01  1.09822202e+00\n",
            "  1.13763738e+00  1.06677294e+00  1.09154534e+00  9.54766810e-01\n",
            "  1.07993913e+00  8.39203894e-01  1.03740382e+00  8.21544945e-01\n",
            "  9.75212872e-01  1.14812040e+00  9.73985672e-01  1.00044286e+00\n",
            "  9.52666044e-01  9.46114123e-01  1.02737844e+00  9.24773693e-01\n",
            "  9.80558395e-01  1.16342902e+00  9.06573951e-01  1.08476472e+00\n",
            "  9.51314032e-01  1.10192442e+00  8.93761396e-01  9.88129437e-01\n",
            "  2.72475556e-03 -4.12873253e-02  8.94385390e-04  4.48648669e-02\n",
            " -3.82713750e-02 -6.73908964e-02 -1.02334330e-02  2.26716287e-02\n",
            "  3.56506184e-02 -1.21678011e-02 -9.35984717e-04  3.45274359e-02\n",
            " -1.90732889e-02  2.20268406e-02  1.38525739e-02 -1.47053599e-02\n",
            " -3.72313918e-03 -6.84100837e-02  2.93275202e-03 -4.46360707e-02\n",
            " -5.14791571e-02 -4.63208444e-02 -1.67437270e-02  2.58539766e-02\n",
            " -7.30068050e-03 -1.72845181e-02  4.48648669e-02 -7.36307958e-03\n",
            " -1.19390050e-02  4.00393456e-02  1.40189705e-02 -2.84955348e-03\n",
            "  4.43032756e-03 -4.60504480e-02 -4.92743962e-02 -1.97388772e-02\n",
            "  1.46221612e-02 -4.38872837e-02 -3.46730314e-02  4.82552126e-03\n",
            "  6.23989804e-03  3.32794560e-04 -9.23504867e-03 -8.44466221e-03\n",
            "  2.72891540e-02 -2.83499360e-02  9.29744821e-03 -4.88168001e-02\n",
            "  1.88652910e-02  9.19344928e-03  9.77584044e-04  4.20153141e-03\n",
            "  6.87220767e-02  5.61590830e-04  1.68269258e-02  5.49943000e-02\n",
            "  1.44141642e-02  2.63739694e-02 -3.82713741e-03 -6.23989763e-05\n",
            "  4.43032756e-03 -5.30391326e-03  3.30922604e-02  1.28957897e-03\n",
            "  2.57707778e-02  3.76681834e-02  6.36469573e-03  1.18974056e-02\n",
            " -1.26877930e-02  8.27826466e-03 -3.99145484e-02  3.25514674e-02\n",
            " -8.25746544e-03  1.58285405e-02  3.78553802e-03  6.53109327e-03\n",
            " -1.83037017e-02 -5.12503609e-02  4.05593356e-03  6.70373067e-02\n",
            "  2.92443223e-02 -3.49434279e-02 -3.95193551e-04 -3.87289673e-02\n",
            "  2.68939603e-02  4.14537229e-02 -1.81789026e-02  3.52554247e-02\n",
            " -1.87404938e-02 -4.70072329e-02 -2.39404086e-02  1.06140666e-01\n",
            "  3.78761813e-02  4.13705222e-02 -5.92790311e-03  1.68269258e-02\n",
            "  5.09799682e-02  3.04299034e-02  4.14121225e-02 -7.80403242e-02\n",
            " -7.45667815e-02 -1.41437687e-02  1.51837515e-02 -4.62584421e-02\n",
            " -2.18188427e-02  4.37832847e-02  1.53917482e-03  2.99099106e-02\n",
            "  3.46522331e-02 -1.13628544e-01  1.00046368e-02  1.94684826e-02\n",
            "  7.57107604e-03 -3.12826894e-02 -6.05478100e-02  2.37116124e-02\n",
            "  2.78715435e-02 -4.67992341e-03  3.11994896e-04 -4.92327958e-02\n",
            "  3.48394290e-02 -9.99215692e-02  8.56114030e-02 -5.05847745e-02\n",
            " -6.94916621e-02  5.59926853e-02  1.42394468e-01  8.38226266e-03\n",
            "  3.75849865e-02 -4.97527868e-02 -2.03420669e-02 -6.38133585e-02\n",
            " -7.23204166e-02 -2.43772008e-02  2.12780517e-02  1.34968996e-01\n",
            "  1.79293063e-02 -1.18142068e-02 -9.33904760e-03 -6.69541061e-02\n",
            "  1.03915103e-01 -2.84955334e-02  6.28149742e-03  3.09914933e-03\n",
            " -5.10007665e-02  9.40144621e-03 -7.02612549e-02 -2.13404503e-02\n",
            "  3.33418548e-02 -1.86572950e-02  3.95193547e-02  6.28149733e-02\n",
            " -3.84169705e-02  1.33658618e-01 -8.54242072e-02  9.39936638e-02\n",
            " -2.41068061e-02  2.50011906e-02 -1.18953258e-01  2.83707362e-02]\n"
          ]
        },
        {
          "output_type": "execute_result",
          "data": {
            "text/plain": [
              "5.2232463e-06"
            ]
          },
          "metadata": {},
          "execution_count": 95
        }
      ]
    },
    {
      "cell_type": "code",
      "source": [
        "# print input and target tensors\n",
        "print(\"Input Tensor:\\n\", T2)\n",
        "print(\"Target Tensor:\\n\", T2dq)\n",
        "mse = tf.keras.losses.MeanSquaredError()\n",
        "mse(T2dq, T2).numpy()"
      ],
      "metadata": {
        "colab": {
          "base_uri": "https://localhost:8080/"
        },
        "id": "3XmWXUHxR3gC",
        "outputId": "fc89daa2-3c24-4df4-85c2-0c5dc3bececb"
      },
      "execution_count": null,
      "outputs": [
        {
          "output_type": "stream",
          "name": "stdout",
          "text": [
            "Input Tensor:\n",
            " [-4.97249514e-03 -5.02500571e-02 -9.13476422e-02 -4.30004001e-02\n",
            " -6.92659756e-03  1.20815299e-02 -2.40374431e-02 -1.58335984e-01\n",
            " -6.30542785e-02  1.04762889e-01 -1.26684800e-01  8.14979747e-02\n",
            "  7.18823597e-02 -1.37591943e-01  3.73544032e-03  2.92371958e-02\n",
            " -6.70067966e-02  5.19426055e-02 -8.86380002e-02 -6.02260605e-02\n",
            " -8.60294625e-02 -1.26065966e-02  6.27078861e-02  1.29610067e-02\n",
            " -8.79516602e-02  3.18972319e-02 -7.69281685e-02  7.70414099e-02\n",
            " -2.63044089e-02 -1.40209436e-01 -5.39996810e-02  4.57578562e-02\n",
            " -4.45864201e-02 -7.54076317e-02 -4.10037488e-02  1.04395403e-02\n",
            " -3.62885557e-02 -9.86084342e-02 -2.05228515e-02 -7.09173828e-02\n",
            "  3.10520716e-02 -4.86839488e-02  1.09129094e-01 -1.20437471e-02\n",
            " -3.94521989e-02  1.50974840e-01 -2.86302455e-02 -1.08288871e-02\n",
            "  2.98524015e-02 -9.37893465e-02  1.62864234e-02 -1.01181552e-01\n",
            " -1.42770872e-01 -4.55944315e-02 -8.23507085e-02  8.99611339e-02\n",
            "  1.51275858e-01 -2.01641694e-02 -7.05610216e-02 -3.77879813e-02\n",
            "  9.11203995e-02  5.54262623e-02 -1.54771298e-01  4.63558808e-02\n",
            " -5.02246730e-02  2.97044553e-02 -9.13401600e-03 -8.63360092e-02\n",
            " -1.84424128e-02 -5.58782928e-02 -1.42611461e-02  5.47844693e-02\n",
            " -1.59552731e-02  1.87662855e-01 -2.15828680e-02  1.54127747e-01\n",
            " -8.02041590e-02 -1.12687275e-01  3.01395189e-02  2.96078771e-02\n",
            "  1.15717256e+00  9.13243353e-01  1.11925924e+00  9.82481062e-01\n",
            "  1.09662151e+00  1.02147985e+00  9.85971153e-01  9.78302300e-01\n",
            "  9.94587243e-01  1.02219212e+00  9.11461651e-01  1.05774963e+00\n",
            "  1.06070685e+00  1.01547468e+00  8.41905355e-01  1.04207134e+00\n",
            "  1.08418584e+00  9.99423683e-01  9.52138126e-01  9.27103043e-01\n",
            "  9.70554054e-01  9.52923179e-01  1.15480912e+00  1.04471338e+00\n",
            "  9.96679962e-01  1.00789273e+00  9.08040524e-01  1.13305891e+00\n",
            "  1.08004272e+00  9.26350236e-01  1.03457630e+00  1.00133753e+00\n",
            "  9.64372516e-01  9.72180247e-01  9.94209588e-01  1.02031410e+00\n",
            "  9.72931206e-01  9.30810750e-01  1.04956400e+00  1.01048052e+00\n",
            "  1.00106585e+00  9.07948792e-01  1.05458295e+00  8.70067775e-01\n",
            "  1.03012860e+00  1.20476973e+00  9.83557105e-01  1.05135012e+00\n",
            "  9.32609320e-01  9.72634912e-01  9.83911216e-01  8.65582705e-01\n",
            "  9.18943822e-01  9.86202896e-01  9.63595152e-01  1.09821570e+00\n",
            "  1.13764203e+00  1.06678092e+00  1.09154963e+00  9.54767406e-01\n",
            "  1.07992899e+00  8.39209437e-01  1.03739381e+00  8.21540296e-01\n",
            "  9.75220680e-01  1.14811385e+00  9.73994195e-01  1.00044990e+00\n",
            "  9.52670991e-01  9.46104705e-01  1.02738404e+00  9.24783289e-01\n",
            "  9.80562568e-01  1.16343117e+00  9.06578362e-01  1.08477378e+00\n",
            "  9.51318800e-01  1.10191941e+00  8.93758714e-01  9.88129795e-01\n",
            "  2.71687959e-03 -4.12962623e-02  8.98278551e-04  4.48707342e-02\n",
            " -3.82648073e-02 -6.73947781e-02 -1.02270469e-02  2.26664003e-02\n",
            "  3.56489941e-02 -1.21750552e-02 -9.38586774e-04  3.45234498e-02\n",
            " -1.90733224e-02  2.20364518e-02  1.38434768e-02 -1.46997608e-02\n",
            " -3.73156811e-03 -6.84163943e-02  2.93305842e-03 -4.46412899e-02\n",
            " -5.14736772e-02 -4.63293865e-02 -1.67489480e-02  2.58492157e-02\n",
            " -7.30068143e-03 -1.72841586e-02  4.48616408e-02 -7.37090874e-03\n",
            " -1.19362622e-02  4.00468707e-02  1.40170716e-02 -2.84217740e-03\n",
            "  4.43773018e-03 -4.60519530e-02 -4.92741317e-02 -1.97361186e-02\n",
            "  1.46177290e-02 -4.38833237e-02 -3.46668735e-02  4.83120093e-03\n",
            "  6.24463055e-03  3.42751620e-04 -9.22903512e-03 -8.45477637e-03\n",
            "  2.72795130e-02 -2.83470415e-02  9.30545572e-03 -4.88225184e-02\n",
            "  1.88660808e-02  9.20121558e-03  9.85224266e-04  4.20351280e-03\n",
            "  6.87301680e-02  5.64654882e-04  1.68304443e-02  5.49988188e-02\n",
            "  1.44168139e-02  2.63789222e-02 -3.81898391e-03 -7.22683035e-05\n",
            "  4.42053005e-03 -5.30877849e-03  3.30856442e-02  1.29905879e-03\n",
            "  2.57719308e-02  3.76757048e-02  6.36190362e-03  1.18913604e-02\n",
            " -1.26890382e-02  8.27626139e-03 -3.99192236e-02  3.25441398e-02\n",
            " -8.25190078e-03  1.58286337e-02  3.77999223e-03  6.53300807e-03\n",
            " -1.82993039e-02 -5.12448326e-02  4.06443886e-03  6.70300797e-02\n",
            "  2.92373188e-02 -3.49382833e-02 -3.86894681e-04 -3.87313403e-02\n",
            "  2.68891826e-02  4.14576568e-02 -1.81878656e-02  3.52458209e-02\n",
            " -1.87491737e-02 -4.70019653e-02 -2.39416249e-02  1.06144339e-01\n",
            "  3.78722176e-02  4.13802154e-02 -5.92318596e-03  1.68250594e-02\n",
            "  5.09823337e-02  3.04201953e-02  4.14055623e-02 -7.80374929e-02\n",
            " -7.45693743e-02 -1.41514707e-02  1.51782818e-02 -4.62560467e-02\n",
            " -2.18084808e-02  4.37935777e-02  1.53936131e-03  2.99117938e-02\n",
            "  3.46491300e-02 -1.13634713e-01  1.00017767e-02  1.94672290e-02\n",
            "  7.56470719e-03 -3.12725268e-02 -6.05400130e-02  2.37020198e-02\n",
            "  2.78642867e-02 -4.68463218e-03  3.19894258e-04 -4.92266305e-02\n",
            "  3.48395184e-02 -9.99275371e-02  8.56179595e-02 -5.05787097e-02\n",
            " -6.94926158e-02  5.59924506e-02  1.42394662e-01  8.37745611e-03\n",
            "  3.75787355e-02 -4.97532263e-02 -2.03407630e-02 -6.38033897e-02\n",
            " -7.23227486e-02 -2.43689120e-02  2.12816354e-02  1.34962454e-01\n",
            "  1.79368425e-02 -1.18187815e-02 -9.34441481e-03 -6.69560805e-02\n",
            "  1.03924826e-01 -2.84967907e-02  6.28206693e-03  3.10181314e-03\n",
            " -5.09918854e-02  9.39395092e-03 -7.02669024e-02 -2.13484354e-02\n",
            "  3.33473384e-02 -1.86657533e-02  3.95123363e-02  6.28178939e-02\n",
            " -3.84151302e-02  1.33658051e-01 -8.54187459e-02  9.39877555e-02\n",
            " -2.41011940e-02  2.49976832e-02 -1.18949525e-01  2.83661056e-02]\n",
            "Target Tensor:\n",
            " [-4.97111864e-03 -5.02519794e-02 -9.13521051e-02 -4.29928973e-02\n",
            " -6.92628697e-03  1.20846024e-02 -2.40444075e-02 -1.58327013e-01\n",
            " -6.30645677e-02  1.04767889e-01 -1.26690730e-01  8.14930648e-02\n",
            "  7.18836263e-02 -1.37589753e-01  3.74393887e-03  2.92443223e-02\n",
            " -6.70165047e-02  5.19367494e-02 -8.86481479e-02 -6.02358170e-02\n",
            " -8.60273913e-02 -1.26045942e-02  6.27109781e-02  1.29581885e-02\n",
            " -8.79617631e-02  3.19066793e-02 -7.69379437e-02  7.70419389e-02\n",
            " -2.63115708e-02 -1.40210509e-01 -5.39959185e-02  4.57592532e-02\n",
            " -4.45944704e-02 -7.53987655e-02 -4.09961306e-02  1.04414290e-02\n",
            " -3.62954065e-02 -9.86111909e-02 -2.05292646e-02 -7.09268376e-02\n",
            "  3.10538933e-02 -4.86920029e-02  1.09135814e-01 -1.20430030e-02\n",
            " -3.94569561e-02  1.50984734e-01 -2.86203325e-02 -1.08366227e-02\n",
            "  2.98475120e-02 -9.37856659e-02  1.62861329e-02 -1.01190343e-01\n",
            " -1.42768860e-01 -4.55928557e-02 -8.23458508e-02  8.99585262e-02\n",
            "  1.51275933e-01 -2.01548710e-02 -7.05524459e-02 -3.77929807e-02\n",
            "  9.11233127e-02  5.54310940e-02 -1.54770270e-01  4.63624410e-02\n",
            " -5.02311774e-02  2.97019146e-02 -9.13105067e-03 -8.63393918e-02\n",
            " -1.84492990e-02 -5.58678880e-02 -1.42685669e-02  5.47863059e-02\n",
            " -1.59533396e-02  1.87654525e-01 -2.15900466e-02  1.54125482e-01\n",
            " -8.02034885e-02 -1.12692557e-01  3.01387068e-02  2.95979157e-02\n",
            "  1.15716827e+00  9.13250685e-01  1.11925054e+00  9.82471943e-01\n",
            "  1.09662044e+00  1.02147126e+00  9.85966265e-01  9.78312016e-01\n",
            "  9.94577348e-01  1.02219927e+00  9.11461890e-01  1.05774593e+00\n",
            "  1.06069946e+00  1.01548100e+00  8.41907859e-01  1.04206300e+00\n",
            "  1.08418226e+00  9.99423683e-01  9.52146053e-01  9.27103221e-01\n",
            "  9.70553756e-01  9.52915609e-01  1.15481794e+00  1.04470456e+00\n",
            "  9.96678114e-01  1.00788915e+00  9.08050776e-01  1.13306153e+00\n",
            "  1.08004320e+00  9.26354468e-01  1.03457510e+00  1.00133729e+00\n",
            "  9.64376211e-01  9.72176135e-01  9.94202971e-01  1.02030647e+00\n",
            "  9.72924888e-01  9.30805564e-01  1.04957163e+00  1.01048911e+00\n",
            "  1.00106680e+00  9.07946765e-01  1.05458438e+00  8.70070577e-01\n",
            "  1.03012395e+00  1.20477867e+00  9.83553529e-01  1.05136037e+00\n",
            "  9.32615161e-01  9.72633719e-01  9.83907104e-01  8.65577877e-01\n",
            "  9.18949783e-01  9.86195087e-01  9.63585854e-01  1.09822202e+00\n",
            "  1.13763738e+00  1.06677294e+00  1.09154534e+00  9.54766810e-01\n",
            "  1.07993913e+00  8.39203894e-01  1.03740382e+00  8.21544945e-01\n",
            "  9.75212872e-01  1.14812040e+00  9.73985672e-01  1.00044286e+00\n",
            "  9.52666044e-01  9.46114123e-01  1.02737844e+00  9.24773693e-01\n",
            "  9.80558395e-01  1.16342902e+00  9.06573951e-01  1.08476472e+00\n",
            "  9.51314032e-01  1.10192442e+00  8.93761396e-01  9.88129437e-01\n",
            "  2.72475556e-03 -4.12873253e-02  8.94385390e-04  4.48648669e-02\n",
            " -3.82713750e-02 -6.73908964e-02 -1.02334330e-02  2.26716287e-02\n",
            "  3.56506184e-02 -1.21678011e-02 -9.35984717e-04  3.45274359e-02\n",
            " -1.90732889e-02  2.20268406e-02  1.38525739e-02 -1.47053599e-02\n",
            " -3.72313918e-03 -6.84100837e-02  2.93275202e-03 -4.46360707e-02\n",
            " -5.14791571e-02 -4.63208444e-02 -1.67437270e-02  2.58539766e-02\n",
            " -7.30068050e-03 -1.72845181e-02  4.48648669e-02 -7.36307958e-03\n",
            " -1.19390050e-02  4.00393456e-02  1.40189705e-02 -2.84955348e-03\n",
            "  4.43032756e-03 -4.60504480e-02 -4.92743962e-02 -1.97388772e-02\n",
            "  1.46221612e-02 -4.38872837e-02 -3.46730314e-02  4.82552126e-03\n",
            "  6.23989804e-03  3.32794560e-04 -9.23504867e-03 -8.44466221e-03\n",
            "  2.72891540e-02 -2.83499360e-02  9.29744821e-03 -4.88168001e-02\n",
            "  1.88652910e-02  9.19344928e-03  9.77584044e-04  4.20153141e-03\n",
            "  6.87220767e-02  5.61590830e-04  1.68269258e-02  5.49943000e-02\n",
            "  1.44141642e-02  2.63739694e-02 -3.82713741e-03 -6.23989763e-05\n",
            "  4.43032756e-03 -5.30391326e-03  3.30922604e-02  1.28957897e-03\n",
            "  2.57707778e-02  3.76681834e-02  6.36469573e-03  1.18974056e-02\n",
            " -1.26877930e-02  8.27826466e-03 -3.99145484e-02  3.25514674e-02\n",
            " -8.25746544e-03  1.58285405e-02  3.78553802e-03  6.53109327e-03\n",
            " -1.83037017e-02 -5.12503609e-02  4.05593356e-03  6.70373067e-02\n",
            "  2.92443223e-02 -3.49434279e-02 -3.95193551e-04 -3.87289673e-02\n",
            "  2.68939603e-02  4.14537229e-02 -1.81789026e-02  3.52554247e-02\n",
            " -1.87404938e-02 -4.70072329e-02 -2.39404086e-02  1.06140666e-01\n",
            "  3.78761813e-02  4.13705222e-02 -5.92790311e-03  1.68269258e-02\n",
            "  5.09799682e-02  3.04299034e-02  4.14121225e-02 -7.80403242e-02\n",
            " -7.45667815e-02 -1.41437687e-02  1.51837515e-02 -4.62584421e-02\n",
            " -2.18188427e-02  4.37832847e-02  1.53917482e-03  2.99099106e-02\n",
            "  3.46522331e-02 -1.13628544e-01  1.00046368e-02  1.94684826e-02\n",
            "  7.57107604e-03 -3.12826894e-02 -6.05478100e-02  2.37116124e-02\n",
            "  2.78715435e-02 -4.67992341e-03  3.11994896e-04 -4.92327958e-02\n",
            "  3.48394290e-02 -9.99215692e-02  8.56114030e-02 -5.05847745e-02\n",
            " -6.94916621e-02  5.59926853e-02  1.42394468e-01  8.38226266e-03\n",
            "  3.75849865e-02 -4.97527868e-02 -2.03420669e-02 -6.38133585e-02\n",
            " -7.23204166e-02 -2.43772008e-02  2.12780517e-02  1.34968996e-01\n",
            "  1.79293063e-02 -1.18142068e-02 -9.33904760e-03 -6.69541061e-02\n",
            "  1.03915103e-01 -2.84955334e-02  6.28149742e-03  3.09914933e-03\n",
            " -5.10007665e-02  9.40144621e-03 -7.02612549e-02 -2.13404503e-02\n",
            "  3.33418548e-02 -1.86572950e-02  3.95193547e-02  6.28149733e-02\n",
            " -3.84169705e-02  1.33658618e-01 -8.54242072e-02  9.39936638e-02\n",
            " -2.41068061e-02  2.50011906e-02 -1.18953258e-01  2.83707362e-02]\n"
          ]
        },
        {
          "output_type": "execute_result",
          "data": {
            "text/plain": [
              "3.636428e-11"
            ]
          },
          "metadata": {},
          "execution_count": 96
        }
      ]
    },
    {
      "cell_type": "markdown",
      "source": [
        "### ***Step 12.4:- Quantization apply on Weights for Layer [3]***"
      ],
      "metadata": {
        "id": "5IWc_YvPMeW6"
      }
    },
    {
      "cell_type": "code",
      "source": [
        "T3 = np.array (model.get_weights()[1])\n",
        "print(T3)\n",
        "print(T3.shape)\n"
      ],
      "metadata": {
        "colab": {
          "base_uri": "https://localhost:8080/"
        },
        "id": "U8ESZGm0SEWk",
        "outputId": "d85c174a-772d-4bef-e233-bceec0c81ead"
      },
      "execution_count": null,
      "outputs": [
        {
          "output_type": "stream",
          "name": "stdout",
          "text": [
            "[[-0.06080294  0.11674429  0.00677274 ... -0.01825441  0.23747472\n",
            "   0.03532412]\n",
            " [-0.02085792  0.03370494  0.17107809 ...  0.10651273  0.1016257\n",
            "  -0.03583364]\n",
            " [ 0.13742787 -0.06362658  0.12782261 ... -0.07405598  0.31147316\n",
            "  -0.00242772]\n",
            " ...\n",
            " [-0.20358603  0.06468102 -0.2748718  ...  0.03596471 -0.01105351\n",
            "  -0.02000266]\n",
            " [-0.00906198  0.16464339  0.07520864 ...  0.0103049   0.1229859\n",
            "   0.17122254]\n",
            " [ 0.17378385  0.17337933  0.03175817 ...  0.13805214 -0.12137617\n",
            "  -0.02062947]]\n",
            "(80, 320)\n"
          ]
        }
      ]
    },
    {
      "cell_type": "code",
      "source": [
        "# Min-Max value of float_32 tensor (x) find out for scale (s) and zero point (z)\n",
        "\n",
        "b3 = np.amax(T3)\n",
        "print(b3)"
      ],
      "metadata": {
        "colab": {
          "base_uri": "https://localhost:8080/"
        },
        "outputId": "34e5f87c-0c71-4d40-995f-117b89ee0835",
        "id": "dHbhedTjdBlk"
      },
      "execution_count": null,
      "outputs": [
        {
          "output_type": "stream",
          "name": "stdout",
          "text": [
            "0.49867725\n"
          ]
        }
      ]
    },
    {
      "cell_type": "code",
      "source": [
        "a3 = np.amin(T3)\n",
        "print(a3)"
      ],
      "metadata": {
        "colab": {
          "base_uri": "https://localhost:8080/"
        },
        "outputId": "4efccc7c-7e75-4c55-9ed8-0277d4f87a80",
        "id": "oNYL635_dEZ1"
      },
      "execution_count": null,
      "outputs": [
        {
          "output_type": "stream",
          "name": "stdout",
          "text": [
            "-0.5685387\n"
          ]
        }
      ]
    },
    {
      "cell_type": "code",
      "source": [
        "# scale value\n",
        "\n",
        "scale3 = (b3-a3)/65535\n",
        "\n",
        "print(scale3)"
      ],
      "metadata": {
        "colab": {
          "base_uri": "https://localhost:8080/"
        },
        "outputId": "ab06d83a-75b8-4507-a41c-56e04e5702e8",
        "id": "9qISyR35dG1F"
      },
      "execution_count": null,
      "outputs": [
        {
          "output_type": "stream",
          "name": "stdout",
          "text": [
            "1.6284671084071548e-05\n"
          ]
        }
      ]
    },
    {
      "cell_type": "code",
      "source": [
        "# zero point\n",
        "\n",
        "zero_point3= np.round(-a3*65535/(b3-a3))\n",
        "\n",
        "print(zero_point3)"
      ],
      "metadata": {
        "colab": {
          "base_uri": "https://localhost:8080/"
        },
        "outputId": "c949c8f7-8d15-4fa4-a298-6dd42027ae9c",
        "id": "pnOBDcO0dI08"
      },
      "execution_count": null,
      "outputs": [
        {
          "output_type": "stream",
          "name": "stdout",
          "text": [
            "34913.0\n"
          ]
        }
      ]
    },
    {
      "cell_type": "code",
      "source": [
        "f3 = np.round(T3/scale3 + zero_point3)\n",
        "print(f3)\n",
        "T3q = np.clip(f3, a_min=0, a_max=65535) # Here min & max value we can change as per Tbit.\n",
        "# But, I have checked for 16 bit\n",
        "print (T3q)"
      ],
      "metadata": {
        "colab": {
          "base_uri": "https://localhost:8080/"
        },
        "id": "3zUBmih6dK99",
        "outputId": "04dbea19-ac8e-433c-adfd-ff96b5cfa842"
      },
      "execution_count": null,
      "outputs": [
        {
          "output_type": "stream",
          "name": "stdout",
          "text": [
            "[[31179. 42082. 35329. ... 33792. 49496. 37082.]\n",
            " [33632. 36983. 45418. ... 41454. 41154. 32713.]\n",
            " [43352. 31006. 42762. ... 30365. 54040. 34764.]\n",
            " ...\n",
            " [22411. 38885. 18034. ... 37122. 34234. 33685.]\n",
            " [34357. 45023. 39531. ... 35546. 42465. 45427.]\n",
            " [45585. 45560. 36863. ... 43390. 27460. 33646.]]\n",
            "[[31179. 42082. 35329. ... 33792. 49496. 37082.]\n",
            " [33632. 36983. 45418. ... 41454. 41154. 32713.]\n",
            " [43352. 31006. 42762. ... 30365. 54040. 34764.]\n",
            " ...\n",
            " [22411. 38885. 18034. ... 37122. 34234. 33685.]\n",
            " [34357. 45023. 39531. ... 35546. 42465. 45427.]\n",
            " [45585. 45560. 36863. ... 43390. 27460. 33646.]]\n"
          ]
        }
      ]
    },
    {
      "cell_type": "code",
      "source": [
        "T3dq = scale3*(T3q - zero_point3)\n",
        "print(T3dq)"
      ],
      "metadata": {
        "colab": {
          "base_uri": "https://localhost:8080/"
        },
        "outputId": "d9fd3a00-72a3-4b88-b84e-8b6ff5d1eee8",
        "id": "wCUt4j--dPC1"
      },
      "execution_count": null,
      "outputs": [
        {
          "output_type": "stream",
          "name": "stdout",
          "text": [
            "[[-0.06080696  0.11674481  0.00677442 ... -0.01825512  0.23747937\n",
            "   0.03532145]\n",
            " [-0.02086066  0.03370927  0.17107047 ...  0.10651804  0.10163264\n",
            "  -0.03582628]\n",
            " [ 0.13742635 -0.06362421  0.12781839 ... -0.07406269  0.31147692\n",
            "  -0.00242642]\n",
            " ...\n",
            " [-0.20359097  0.06468271 -0.27486897 ...  0.03597284 -0.01105729\n",
            "  -0.01999758]\n",
            " [-0.00905428  0.16463803  0.07520261 ...  0.0103082   0.12298184\n",
            "   0.17121704]\n",
            " [ 0.17379002  0.17338291  0.03175511 ...  0.13804516 -0.12136966\n",
            "  -0.02063268]]\n"
          ]
        }
      ]
    },
    {
      "cell_type": "code",
      "source": [
        "# print input and target tensors\n",
        "print(\"Input Tensor:\\n\", T3)\n",
        "print(\"Target Tensor:\\n\", T3dq)\n",
        "mse = tf.keras.losses.MeanAbsoluteError()\n",
        "mse(T3dq, T3).numpy()"
      ],
      "metadata": {
        "colab": {
          "base_uri": "https://localhost:8080/"
        },
        "id": "74Qk4J_ZdRJ2",
        "outputId": "8cad1a52-0137-4f6f-bee3-c1352fb02d00"
      },
      "execution_count": null,
      "outputs": [
        {
          "output_type": "stream",
          "name": "stdout",
          "text": [
            "Input Tensor:\n",
            " [[-0.06080294  0.11674429  0.00677274 ... -0.01825441  0.23747472\n",
            "   0.03532412]\n",
            " [-0.02085792  0.03370494  0.17107809 ...  0.10651273  0.1016257\n",
            "  -0.03583364]\n",
            " [ 0.13742787 -0.06362658  0.12782261 ... -0.07405598  0.31147316\n",
            "  -0.00242772]\n",
            " ...\n",
            " [-0.20358603  0.06468102 -0.2748718  ...  0.03596471 -0.01105351\n",
            "  -0.02000266]\n",
            " [-0.00906198  0.16464339  0.07520864 ...  0.0103049   0.1229859\n",
            "   0.17122254]\n",
            " [ 0.17378385  0.17337933  0.03175817 ...  0.13805214 -0.12137617\n",
            "  -0.02062947]]\n",
            "Target Tensor:\n",
            " [[-0.06080696  0.11674481  0.00677442 ... -0.01825512  0.23747937\n",
            "   0.03532145]\n",
            " [-0.02086066  0.03370927  0.17107047 ...  0.10651804  0.10163264\n",
            "  -0.03582628]\n",
            " [ 0.13742635 -0.06362421  0.12781839 ... -0.07406269  0.31147692\n",
            "  -0.00242642]\n",
            " ...\n",
            " [-0.20359097  0.06468271 -0.27486897 ...  0.03597284 -0.01105729\n",
            "  -0.01999758]\n",
            " [-0.00905428  0.16463803  0.07520261 ...  0.0103082   0.12298184\n",
            "   0.17121704]\n",
            " [ 0.17379002  0.17338291  0.03175511 ...  0.13804516 -0.12136966\n",
            "  -0.02063268]]\n"
          ]
        },
        {
          "output_type": "execute_result",
          "data": {
            "text/plain": [
              "4.0951286e-06"
            ]
          },
          "metadata": {},
          "execution_count": 104
        }
      ]
    },
    {
      "cell_type": "code",
      "source": [
        "# print input and target tensors\n",
        "print(\"Input Tensor:\\n\", T3)\n",
        "print(\"Target Tensor:\\n\", T3dq)\n",
        "mse = tf.keras.losses.MeanSquaredError()\n",
        "mse(T3dq, T3).numpy()"
      ],
      "metadata": {
        "colab": {
          "base_uri": "https://localhost:8080/"
        },
        "id": "hF2EkA2QdTMF",
        "outputId": "78053b5f-6449-469f-dd12-30a6e5618bd1"
      },
      "execution_count": null,
      "outputs": [
        {
          "output_type": "stream",
          "name": "stdout",
          "text": [
            "Input Tensor:\n",
            " [[-0.06080294  0.11674429  0.00677274 ... -0.01825441  0.23747472\n",
            "   0.03532412]\n",
            " [-0.02085792  0.03370494  0.17107809 ...  0.10651273  0.1016257\n",
            "  -0.03583364]\n",
            " [ 0.13742787 -0.06362658  0.12782261 ... -0.07405598  0.31147316\n",
            "  -0.00242772]\n",
            " ...\n",
            " [-0.20358603  0.06468102 -0.2748718  ...  0.03596471 -0.01105351\n",
            "  -0.02000266]\n",
            " [-0.00906198  0.16464339  0.07520864 ...  0.0103049   0.1229859\n",
            "   0.17122254]\n",
            " [ 0.17378385  0.17337933  0.03175817 ...  0.13805214 -0.12137617\n",
            "  -0.02062947]]\n",
            "Target Tensor:\n",
            " [[-0.06080696  0.11674481  0.00677442 ... -0.01825512  0.23747937\n",
            "   0.03532145]\n",
            " [-0.02086066  0.03370927  0.17107047 ...  0.10651804  0.10163264\n",
            "  -0.03582628]\n",
            " [ 0.13742635 -0.06362421  0.12781839 ... -0.07406269  0.31147692\n",
            "  -0.00242642]\n",
            " ...\n",
            " [-0.20359097  0.06468271 -0.27486897 ...  0.03597284 -0.01105729\n",
            "  -0.01999758]\n",
            " [-0.00905428  0.16463803  0.07520261 ...  0.0103082   0.12298184\n",
            "   0.17121704]\n",
            " [ 0.17379002  0.17338291  0.03175511 ...  0.13804516 -0.12136966\n",
            "  -0.02063268]]\n"
          ]
        },
        {
          "output_type": "execute_result",
          "data": {
            "text/plain": [
              "2.2280195e-11"
            ]
          },
          "metadata": {},
          "execution_count": 105
        }
      ]
    }
  ]
}