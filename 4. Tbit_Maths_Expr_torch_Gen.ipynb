{
  "nbformat": 4,
  "nbformat_minor": 0,
  "metadata": {
    "colab": {
      "provenance": []
    },
    "kernelspec": {
      "name": "python3",
      "display_name": "Python 3"
    },
    "language_info": {
      "name": "python"
    }
  },
  "cells": [
    {
      "cell_type": "markdown",
      "source": [
        "# ***Step-1: Setup & Import Libraries***"
      ],
      "metadata": {
        "id": "2QRh4eCMwo8-"
      }
    },
    {
      "cell_type": "code",
      "execution_count": null,
      "metadata": {
        "id": "WdanA-9pzuwj"
      },
      "outputs": [],
      "source": [
        "import torch\n",
        "import torch.quantization\n",
        "import torch.nn as nn\n",
        "import copy\n",
        "import os\n",
        "import time"
      ]
    },
    {
      "cell_type": "code",
      "source": [
        "import numpy as np"
      ],
      "metadata": {
        "id": "DifDWvx92odD"
      },
      "execution_count": null,
      "outputs": []
    },
    {
      "cell_type": "markdown",
      "source": [
        "# ***Step-2: Float Tensor Representation from Netron***"
      ],
      "metadata": {
        "id": "0SeHJ5Dvw54l"
      }
    },
    {
      "cell_type": "markdown",
      "source": [
        "*** ## Reference of Netron:*** https://netron.app/"
      ],
      "metadata": {
        "id": "bje0GM75y-uJ"
      }
    },
    {
      "cell_type": "code",
      "source": [
        "# Here we can put tensors from any trained model (By using NETRON software)\n",
        "\n",
        "x = torch.tensor([[ 0.8237,  0.5781,  0.6879],\n",
        "        [ 0.3816,  0.7249,  0.0998]])\n",
        "\n",
        "# x = torch.rand(m=2,n=3)\n",
        "\n",
        "torch.save(x,'float_tensor.pt')\n",
        "print('Float tensor (bytes)',os.path.getsize('float_tensor.pt'))\n"
      ],
      "metadata": {
        "colab": {
          "base_uri": "https://localhost:8080/"
        },
        "id": "TFe0udSziN5f",
        "outputId": "08dc26b7-6400-4307-f8fb-78c9b348902f"
      },
      "execution_count": null,
      "outputs": [
        {
          "output_type": "stream",
          "name": "stdout",
          "text": [
            "Float tensor (bytes) 747\n"
          ]
        }
      ]
    },
    {
      "cell_type": "markdown",
      "source": [
        "***--Maximum Value and minimum value of x***"
      ],
      "metadata": {
        "id": "yULKbf8cxMGk"
      }
    },
    {
      "cell_type": "code",
      "source": [
        "# Min-Max value of float_32 tensor (x) find out for scale (s) and zero point (z)\n",
        "\n",
        "b = torch.max(x)\n",
        "print(b)"
      ],
      "metadata": {
        "id": "4V_Q9kVsjzks",
        "colab": {
          "base_uri": "https://localhost:8080/"
        },
        "outputId": "c2d4a737-7d9f-4444-da63-3876f421cb52"
      },
      "execution_count": null,
      "outputs": [
        {
          "output_type": "stream",
          "name": "stdout",
          "text": [
            "tensor(0.8237)\n"
          ]
        }
      ]
    },
    {
      "cell_type": "code",
      "source": [
        "a = torch.min(x)\n",
        "print(a)"
      ],
      "metadata": {
        "id": "z9BbJyegxTs8",
        "colab": {
          "base_uri": "https://localhost:8080/"
        },
        "outputId": "ef38eff7-3c29-4d25-e58a-f4efc99daf91"
      },
      "execution_count": null,
      "outputs": [
        {
          "output_type": "stream",
          "name": "stdout",
          "text": [
            "tensor(0.0998)\n"
          ]
        }
      ]
    },
    {
      "cell_type": "code",
      "source": [
        "# scale value\n",
        "\n",
        "s = (b-a)/15\n",
        "\n",
        "print(s)"
      ],
      "metadata": {
        "colab": {
          "base_uri": "https://localhost:8080/"
        },
        "id": "LEfqrb4RVg4d",
        "outputId": "98d5a02f-732d-4537-d745-a3edf8ad056e"
      },
      "execution_count": null,
      "outputs": [
        {
          "output_type": "stream",
          "name": "stdout",
          "text": [
            "tensor(0.0483)\n"
          ]
        }
      ]
    },
    {
      "cell_type": "code",
      "source": [
        "# zero point\n",
        "\n",
        "z = torch.round(-a*15/(b-a))\n",
        "\n",
        "print(z)"
      ],
      "metadata": {
        "colab": {
          "base_uri": "https://localhost:8080/"
        },
        "id": "LK8rTzkkV0pK",
        "outputId": "5039a0d6-e3db-4ac4-f941-432254ee7042"
      },
      "execution_count": null,
      "outputs": [
        {
          "output_type": "stream",
          "name": "stdout",
          "text": [
            "tensor(-2.)\n"
          ]
        }
      ]
    },
    {
      "cell_type": "markdown",
      "source": [
        "# ***Step-3: Apply Quantization by round and clipping function (Affine mapping)***"
      ],
      "metadata": {
        "id": "5yv203WixWEs"
      }
    },
    {
      "cell_type": "code",
      "source": [
        "f = torch.round(x/s + z)\n",
        "print(f)\n",
        "xq = torch.clip(f, min=0, max=15) # Here min & max value we can change as per Tbit.\n",
        "# But, I have checked for 4 bit\n",
        "print (xq)\n",
        "torch.save(xq,'qtz_tensor.pt')\n",
        "print('Quantized tensor (bytes)',os.path.getsize('qtz_tensor.pt'))"
      ],
      "metadata": {
        "colab": {
          "base_uri": "https://localhost:8080/"
        },
        "outputId": "075e1d1c-5ba5-4c2a-d4a4-ab1778ad1e34",
        "id": "wWHlM_8OxrDd"
      },
      "execution_count": null,
      "outputs": [
        {
          "output_type": "stream",
          "name": "stdout",
          "text": [
            "tensor([[15., 10., 12.],\n",
            "        [ 6., 13.,  0.]])\n",
            "tensor([[15., 10., 12.],\n",
            "        [ 6., 13.,  0.]])\n",
            "Quantized tensor (bytes) 747\n"
          ]
        }
      ]
    },
    {
      "cell_type": "markdown",
      "source": [
        "# ***Step-4: Apply Dequantization***"
      ],
      "metadata": {
        "id": "jAgL4mZSx6kX"
      }
    },
    {
      "cell_type": "code",
      "source": [
        "xdq = s*(xq - z)\n",
        "print(xdq)"
      ],
      "metadata": {
        "colab": {
          "base_uri": "https://localhost:8080/"
        },
        "id": "mkBcnWa29WyW",
        "outputId": "7789683c-40a0-4aa7-8319-8f0612dd9615"
      },
      "execution_count": null,
      "outputs": [
        {
          "output_type": "stream",
          "name": "stdout",
          "text": [
            "tensor([[0.8204, 0.5791, 0.6756],\n",
            "        [0.3861, 0.7239, 0.0965]])\n"
          ]
        }
      ]
    },
    {
      "cell_type": "code",
      "source": [
        "# xdq = xq.dequantize()\n",
        "# print(xdq)"
      ],
      "metadata": {
        "id": "wdsh07yk6dGA"
      },
      "execution_count": null,
      "outputs": []
    },
    {
      "cell_type": "markdown",
      "source": [
        "# ***Step-5: MAE/MSE loss between x and xdq***"
      ],
      "metadata": {
        "id": "j9gCkNo8yAF_"
      }
    },
    {
      "cell_type": "markdown",
      "source": [
        "***I. MAE loss***"
      ],
      "metadata": {
        "id": "1ErDOqNK-Jp6"
      }
    },
    {
      "cell_type": "code",
      "source": [
        "# Import the required libraries\n",
        "import torch\n",
        "import torch.nn as nn\n",
        "# print input and target tensors\n",
        "print(\"Input Tensor:\\n\", x)\n",
        "print(\"Target Tensor:\\n\", xdq)\n",
        "# create a criterion to measure the mean absolute error\n",
        "mae = nn.L1Loss()\n",
        "# compute the loss (mean absolute error)\n",
        "output = mae(x, xdq)\n",
        "# output.backward()\n",
        "print(\"MAE loss:\", output)"
      ],
      "metadata": {
        "colab": {
          "base_uri": "https://localhost:8080/"
        },
        "id": "V3OJ-UTVRGL_",
        "outputId": "8c14e325-efcf-48e0-9bca-76e9cd756fc8"
      },
      "execution_count": null,
      "outputs": [
        {
          "output_type": "stream",
          "name": "stdout",
          "text": [
            "Input Tensor:\n",
            " tensor([[0.8237, 0.5781, 0.6879],\n",
            "        [0.3816, 0.7249, 0.0998]])\n",
            "Target Tensor:\n",
            " tensor([[0.8204, 0.5791, 0.6756],\n",
            "        [0.3861, 0.7239, 0.0965]])\n",
            "MAE loss: tensor(0.0042)\n"
          ]
        }
      ]
    },
    {
      "cell_type": "markdown",
      "source": [
        "***II. MSE Loss***"
      ],
      "metadata": {
        "id": "lRtrcsZf-OAD"
      }
    },
    {
      "cell_type": "code",
      "source": [
        "# Import the required libraries\n",
        "import torch\n",
        "import torch.nn as nn\n",
        "\n",
        "# print input and target tensors\n",
        "print(\"Input Tensor:\\n\", x)\n",
        "print(\"Target Tensor:\\n\", xdq)\n",
        "\n",
        "# create a criterion to measure the mean squared error\n",
        "mse = nn.MSELoss()\n",
        "\n",
        "# compute the loss (mean squared error)\n",
        "output = mse(x, xdq)\n",
        "\n",
        "# output.backward()\n",
        "print(\"MSE loss:\", output)"
      ],
      "metadata": {
        "colab": {
          "base_uri": "https://localhost:8080/"
        },
        "outputId": "3c3d29e8-ace4-46a0-b860-450946671c61",
        "id": "_eHiK3LN6rsj"
      },
      "execution_count": null,
      "outputs": [
        {
          "output_type": "stream",
          "name": "stdout",
          "text": [
            "Input Tensor:\n",
            " tensor([[0.8237, 0.5781, 0.6879],\n",
            "        [0.3816, 0.7249, 0.0998]])\n",
            "Target Tensor:\n",
            " tensor([[0.8204, 0.5791, 0.6756],\n",
            "        [0.3861, 0.7239, 0.0965]])\n",
            "MSE loss: tensor(3.2323e-05)\n"
          ]
        }
      ]
    },
    {
      "cell_type": "markdown",
      "source": [
        "## ***Step-6: MMSE Algorithm Performance***\n"
      ],
      "metadata": {
        "id": "TXXKgU00VwHy"
      }
    },
    {
      "cell_type": "code",
      "source": [
        "Qt = torch.transpose(xq, 0, 1)\n",
        "print(Qt)"
      ],
      "metadata": {
        "colab": {
          "base_uri": "https://localhost:8080/"
        },
        "id": "gtYZHOKmV9Na",
        "outputId": "b00caf5e-6f50-4e25-92cd-8859b3b54c76"
      },
      "execution_count": null,
      "outputs": [
        {
          "output_type": "stream",
          "name": "stdout",
          "text": [
            "tensor([[15.,  6.],\n",
            "        [10., 13.],\n",
            "        [12.,  0.]])\n"
          ]
        }
      ]
    },
    {
      "cell_type": "code",
      "source": [
        "t = torch.mm(Qt, xq)\n",
        "print(t)"
      ],
      "metadata": {
        "colab": {
          "base_uri": "https://localhost:8080/"
        },
        "id": "bNZkvhu8WYAG",
        "outputId": "33143932-733a-4c82-be09-7c79f6498c20"
      },
      "execution_count": null,
      "outputs": [
        {
          "output_type": "stream",
          "name": "stdout",
          "text": [
            "tensor([[261., 228., 180.],\n",
            "        [228., 269., 120.],\n",
            "        [180., 120., 144.]])\n"
          ]
        }
      ]
    },
    {
      "cell_type": "code",
      "source": [
        "T = torch.inverse(t)\n",
        "print(T)"
      ],
      "metadata": {
        "colab": {
          "base_uri": "https://localhost:8080/"
        },
        "id": "sfBsXBaaXM1U",
        "outputId": "d35c7d89-4719-4688-8af5-a76b9a345713"
      },
      "execution_count": null,
      "outputs": [
        {
          "output_type": "stream",
          "name": "stdout",
          "text": [
            "tensor([[ 470691.6875, -217242.3125, -407329.3438],\n",
            "        [-217242.2656,  100265.6719,  187998.1094],\n",
            "        [-407329.3750,  187998.1719,  352496.5938]])\n"
          ]
        }
      ]
    },
    {
      "cell_type": "code",
      "source": [
        "p = torch.mm(T, Qt)\n",
        "print(p)"
      ],
      "metadata": {
        "colab": {
          "base_uri": "https://localhost:8080/"
        },
        "id": "bcjTg6oUXdVf",
        "outputId": "7022d1c0-1086-44d8-c1ba-6e116201d773"
      },
      "execution_count": null,
      "outputs": [
        {
          "output_type": "stream",
          "name": "stdout",
          "text": [
            "tensor([[0.3750, 0.0000],\n",
            "        [0.0625, 0.1250],\n",
            "        [0.1250, 0.0000]])\n"
          ]
        }
      ]
    },
    {
      "cell_type": "code",
      "source": [
        "alpha = torch.mm(p, x)\n",
        "print(alpha)"
      ],
      "metadata": {
        "colab": {
          "base_uri": "https://localhost:8080/"
        },
        "id": "MYECy3f-XtjB",
        "outputId": "fc35f92d-04a8-4924-8736-435ed419b4ff"
      },
      "execution_count": null,
      "outputs": [
        {
          "output_type": "stream",
          "name": "stdout",
          "text": [
            "tensor([[0.3089, 0.2168, 0.2580],\n",
            "        [0.0992, 0.1267, 0.0555],\n",
            "        [0.1030, 0.0723, 0.0860]])\n"
          ]
        }
      ]
    },
    {
      "cell_type": "code",
      "source": [
        "j = torch.mm(xq, alpha)\n",
        "print(j)\n"
      ],
      "metadata": {
        "colab": {
          "base_uri": "https://localhost:8080/"
        },
        "id": "D3EQ-7MBY1pr",
        "outputId": "1f86a00f-5549-4e3c-e36b-135bdd9c9def"
      },
      "execution_count": null,
      "outputs": [
        {
          "output_type": "stream",
          "name": "stdout",
          "text": [
            "tensor([[6.8607, 5.3864, 5.4560],\n",
            "        [3.1427, 2.9484, 2.2689]])\n"
          ]
        }
      ]
    }
  ]
}